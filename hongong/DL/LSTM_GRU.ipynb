{
 "cells": [
  {
   "cell_type": "markdown",
   "id": "39d7ae8b-cfee-462d-beda-bf472415dcf5",
   "metadata": {},
   "source": [
    "# RNN (2)\n",
    "---\n",
    "(혼공 526p~)\n",
    "## 고급 순환층 LSTM, GRU\n",
    "앞의 SimpleRNN 층보다 더 복잡하지만 성능이 뛰어난 LSTM, GRU 층에 대해 알아보자.\n",
    "1. LSTM\n",
    "2. GRU"
   ]
  },
  {
   "cell_type": "markdown",
   "id": "e84c325e-7473-447b-9e71-da9946222932",
   "metadata": {},
   "source": [
    "## 1️⃣ LSTM (Long-Short-Term-Memory)\n",
    "단기 기억을 오래 기억하기 위해 고안되었다.  \n",
    "마치 작은 셀 여러 개를 포함한 구조이다. LSTM은 4개의 셀로 구성된다.\n",
    "\n",
    "### 셀 상태\n",
    "> 각 셀은 입력과 은닉 상태에 각기 다른 가중치를 곱한 후 sigmoid 함수를 통과시킨다.  \n",
    "> -  출력게이트, 삭제 게이트  \n",
    ">       이전 셀 상태와 곱해진 후 tanh를 통과한 값이 은닉상태와 곱해져 새로운 은닉상태를 만든다.\n",
    "> -  입력게이트  \n",
    ">       tanh 함수를 통과 한 값과 sigmoid 함수를 통과한 값을 곱한 후 이전 셀 상태와 더하면 최종적인 셀 상태가 된다."
   ]
  },
  {
   "cell_type": "markdown",
   "id": "38d27f88-9302-446c-a625-d84e1175d90b",
   "metadata": {},
   "source": [
    "각설하고, keras의 LSTM 클래스를 사용하면 위의 layer를 구현할 수 있다. "
   ]
  },
  {
   "cell_type": "markdown",
   "id": "78eca07b-aece-4e6b-b7b2-fd3429db0974",
   "metadata": {},
   "source": [
    "### Data load"
   ]
  },
  {
   "cell_type": "code",
   "execution_count": 5,
   "id": "ec6a74c6-f69a-4c92-a0f5-f42bd7069a5a",
   "metadata": {},
   "outputs": [],
   "source": [
    "from tensorflow.keras.datasets import imdb\n",
    "\n",
    "(X_train, y_train), (X_test, y_test) = imdb.load_data(num_words=500)"
   ]
  },
  {
   "cell_type": "code",
   "execution_count": 6,
   "id": "d1cd89c0-060e-4f48-9803-fe1bf48308e5",
   "metadata": {},
   "outputs": [],
   "source": [
    "from sklearn.model_selection import train_test_split\n",
    "\n",
    "X_train, X_val, y_train, y_val = train_test_split(\n",
    "    X_train, y_train, test_size=0.2, random_state=42\n",
    ")"
   ]
  },
  {
   "cell_type": "markdown",
   "id": "cc1b8619-3863-4bfe-9183-09536c8c195e",
   "metadata": {},
   "source": [
    "제 각각인 리뷰 길이를 100으로 맞춘다. 여기에는 keras에서 제공하는 pad_sequence 함수를 사용한다."
   ]
  },
  {
   "cell_type": "code",
   "execution_count": 8,
   "id": "4c42ad51-bf2d-401d-8ed1-5fb37958a6b1",
   "metadata": {},
   "outputs": [],
   "source": [
    "from tensorflow.keras.preprocessing.sequence import pad_sequences\n",
    "\n",
    "train_seq = pad_sequences(X_train, maxlen=100)\n",
    "val_seq = pad_sequences(X_val, maxlen=100)"
   ]
  },
  {
   "cell_type": "markdown",
   "id": "176347f7-91f3-4107-ab69-bfd120f0bdae",
   "metadata": {},
   "source": [
    "## 1) LSTM\n",
    "### Construct model"
   ]
  },
  {
   "cell_type": "code",
   "execution_count": 10,
   "id": "bac8ddb3-e0c5-4cd0-8827-62c23afb6549",
   "metadata": {},
   "outputs": [],
   "source": [
    "from tensorflow import keras\n",
    "\n",
    "model = keras.Sequential()\n",
    "\n",
    "model.add(keras.layers.Embedding(500, 16))\n",
    "model.add(keras.layers.LSTM(8))\n",
    "model.add(keras.layers.Dense(1, activation='sigmoid')) # output layer"
   ]
  },
  {
   "cell_type": "markdown",
   "id": "b6b04637-34a0-497a-94c2-78d155d4da01",
   "metadata": {},
   "source": [
    "### Train model"
   ]
  },
  {
   "cell_type": "code",
   "execution_count": 12,
   "id": "5522b795-303d-4358-a005-1146fe472df9",
   "metadata": {},
   "outputs": [
    {
     "name": "stdout",
     "output_type": "stream",
     "text": [
      "Epoch 1/100\n",
      "\u001b[1m313/313\u001b[0m \u001b[32m━━━━━━━━━━━━━━━━━━━━\u001b[0m\u001b[37m\u001b[0m \u001b[1m20s\u001b[0m 51ms/step - accuracy: 0.5050 - loss: 0.6931 - val_accuracy: 0.5338 - val_loss: 0.6925\n",
      "Epoch 2/100\n",
      "\u001b[1m313/313\u001b[0m \u001b[32m━━━━━━━━━━━━━━━━━━━━\u001b[0m\u001b[37m\u001b[0m \u001b[1m16s\u001b[0m 53ms/step - accuracy: 0.5560 - loss: 0.6921 - val_accuracy: 0.5584 - val_loss: 0.6914\n",
      "Epoch 3/100\n",
      "\u001b[1m313/313\u001b[0m \u001b[32m━━━━━━━━━━━━━━━━━━━━\u001b[0m\u001b[37m\u001b[0m \u001b[1m16s\u001b[0m 51ms/step - accuracy: 0.5829 - loss: 0.6905 - val_accuracy: 0.5916 - val_loss: 0.6891\n",
      "Epoch 4/100\n",
      "\u001b[1m313/313\u001b[0m \u001b[32m━━━━━━━━━━━━━━━━━━━━\u001b[0m\u001b[37m\u001b[0m \u001b[1m17s\u001b[0m 54ms/step - accuracy: 0.6163 - loss: 0.6875 - val_accuracy: 0.6470 - val_loss: 0.6823\n",
      "Epoch 5/100\n",
      "\u001b[1m313/313\u001b[0m \u001b[32m━━━━━━━━━━━━━━━━━━━━\u001b[0m\u001b[37m\u001b[0m \u001b[1m16s\u001b[0m 52ms/step - accuracy: 0.6797 - loss: 0.6731 - val_accuracy: 0.6740 - val_loss: 0.6425\n",
      "Epoch 6/100\n",
      "\u001b[1m313/313\u001b[0m \u001b[32m━━━━━━━━━━━━━━━━━━━━\u001b[0m\u001b[37m\u001b[0m \u001b[1m17s\u001b[0m 56ms/step - accuracy: 0.6827 - loss: 0.6349 - val_accuracy: 0.6862 - val_loss: 0.6229\n",
      "Epoch 7/100\n",
      "\u001b[1m313/313\u001b[0m \u001b[32m━━━━━━━━━━━━━━━━━━━━\u001b[0m\u001b[37m\u001b[0m \u001b[1m18s\u001b[0m 56ms/step - accuracy: 0.7024 - loss: 0.6135 - val_accuracy: 0.7196 - val_loss: 0.5985\n",
      "Epoch 8/100\n",
      "\u001b[1m313/313\u001b[0m \u001b[32m━━━━━━━━━━━━━━━━━━━━\u001b[0m\u001b[37m\u001b[0m \u001b[1m17s\u001b[0m 54ms/step - accuracy: 0.7295 - loss: 0.5908 - val_accuracy: 0.7230 - val_loss: 0.5827\n",
      "Epoch 9/100\n",
      "\u001b[1m313/313\u001b[0m \u001b[32m━━━━━━━━━━━━━━━━━━━━\u001b[0m\u001b[37m\u001b[0m \u001b[1m16s\u001b[0m 52ms/step - accuracy: 0.7388 - loss: 0.5718 - val_accuracy: 0.7296 - val_loss: 0.5701\n",
      "Epoch 10/100\n",
      "\u001b[1m313/313\u001b[0m \u001b[32m━━━━━━━━━━━━━━━━━━━━\u001b[0m\u001b[37m\u001b[0m \u001b[1m19s\u001b[0m 60ms/step - accuracy: 0.7519 - loss: 0.5555 - val_accuracy: 0.7462 - val_loss: 0.5511\n",
      "Epoch 11/100\n",
      "\u001b[1m313/313\u001b[0m \u001b[32m━━━━━━━━━━━━━━━━━━━━\u001b[0m\u001b[37m\u001b[0m \u001b[1m17s\u001b[0m 55ms/step - accuracy: 0.7609 - loss: 0.5392 - val_accuracy: 0.7404 - val_loss: 0.5492\n",
      "Epoch 12/100\n",
      "\u001b[1m313/313\u001b[0m \u001b[32m━━━━━━━━━━━━━━━━━━━━\u001b[0m\u001b[37m\u001b[0m \u001b[1m17s\u001b[0m 54ms/step - accuracy: 0.7681 - loss: 0.5252 - val_accuracy: 0.7646 - val_loss: 0.5252\n",
      "Epoch 13/100\n",
      "\u001b[1m313/313\u001b[0m \u001b[32m━━━━━━━━━━━━━━━━━━━━\u001b[0m\u001b[37m\u001b[0m \u001b[1m17s\u001b[0m 55ms/step - accuracy: 0.7791 - loss: 0.5134 - val_accuracy: 0.7704 - val_loss: 0.5121\n",
      "Epoch 14/100\n",
      "\u001b[1m313/313\u001b[0m \u001b[32m━━━━━━━━━━━━━━━━━━━━\u001b[0m\u001b[37m\u001b[0m \u001b[1m17s\u001b[0m 54ms/step - accuracy: 0.7770 - loss: 0.5046 - val_accuracy: 0.7740 - val_loss: 0.5020\n",
      "Epoch 15/100\n",
      "\u001b[1m313/313\u001b[0m \u001b[32m━━━━━━━━━━━━━━━━━━━━\u001b[0m\u001b[37m\u001b[0m \u001b[1m17s\u001b[0m 54ms/step - accuracy: 0.7870 - loss: 0.4898 - val_accuracy: 0.7772 - val_loss: 0.4950\n",
      "Epoch 16/100\n",
      "\u001b[1m313/313\u001b[0m \u001b[32m━━━━━━━━━━━━━━━━━━━━\u001b[0m\u001b[37m\u001b[0m \u001b[1m17s\u001b[0m 55ms/step - accuracy: 0.7937 - loss: 0.4783 - val_accuracy: 0.7770 - val_loss: 0.4878\n",
      "Epoch 17/100\n",
      "\u001b[1m313/313\u001b[0m \u001b[32m━━━━━━━━━━━━━━━━━━━━\u001b[0m\u001b[37m\u001b[0m \u001b[1m17s\u001b[0m 56ms/step - accuracy: 0.7993 - loss: 0.4653 - val_accuracy: 0.7846 - val_loss: 0.4766\n",
      "Epoch 18/100\n",
      "\u001b[1m313/313\u001b[0m \u001b[32m━━━━━━━━━━━━━━━━━━━━\u001b[0m\u001b[37m\u001b[0m \u001b[1m18s\u001b[0m 58ms/step - accuracy: 0.8068 - loss: 0.4566 - val_accuracy: 0.7880 - val_loss: 0.4700\n",
      "Epoch 19/100\n",
      "\u001b[1m313/313\u001b[0m \u001b[32m━━━━━━━━━━━━━━━━━━━━\u001b[0m\u001b[37m\u001b[0m \u001b[1m19s\u001b[0m 60ms/step - accuracy: 0.8033 - loss: 0.4526 - val_accuracy: 0.7904 - val_loss: 0.4633\n",
      "Epoch 20/100\n",
      "\u001b[1m313/313\u001b[0m \u001b[32m━━━━━━━━━━━━━━━━━━━━\u001b[0m\u001b[37m\u001b[0m \u001b[1m18s\u001b[0m 59ms/step - accuracy: 0.8137 - loss: 0.4368 - val_accuracy: 0.7904 - val_loss: 0.4575\n",
      "Epoch 21/100\n",
      "\u001b[1m313/313\u001b[0m \u001b[32m━━━━━━━━━━━━━━━━━━━━\u001b[0m\u001b[37m\u001b[0m \u001b[1m19s\u001b[0m 60ms/step - accuracy: 0.8111 - loss: 0.4339 - val_accuracy: 0.7922 - val_loss: 0.4524\n",
      "Epoch 22/100\n",
      "\u001b[1m313/313\u001b[0m \u001b[32m━━━━━━━━━━━━━━━━━━━━\u001b[0m\u001b[37m\u001b[0m \u001b[1m18s\u001b[0m 57ms/step - accuracy: 0.8053 - loss: 0.4373 - val_accuracy: 0.7920 - val_loss: 0.4498\n",
      "Epoch 23/100\n",
      "\u001b[1m313/313\u001b[0m \u001b[32m━━━━━━━━━━━━━━━━━━━━\u001b[0m\u001b[37m\u001b[0m \u001b[1m19s\u001b[0m 60ms/step - accuracy: 0.8041 - loss: 0.4371 - val_accuracy: 0.7922 - val_loss: 0.4464\n",
      "Epoch 24/100\n",
      "\u001b[1m313/313\u001b[0m \u001b[32m━━━━━━━━━━━━━━━━━━━━\u001b[0m\u001b[37m\u001b[0m \u001b[1m21s\u001b[0m 67ms/step - accuracy: 0.8089 - loss: 0.4300 - val_accuracy: 0.7946 - val_loss: 0.4414\n",
      "Epoch 25/100\n",
      "\u001b[1m313/313\u001b[0m \u001b[32m━━━━━━━━━━━━━━━━━━━━\u001b[0m\u001b[37m\u001b[0m \u001b[1m18s\u001b[0m 58ms/step - accuracy: 0.8105 - loss: 0.4258 - val_accuracy: 0.7936 - val_loss: 0.4411\n",
      "Epoch 26/100\n",
      "\u001b[1m313/313\u001b[0m \u001b[32m━━━━━━━━━━━━━━━━━━━━\u001b[0m\u001b[37m\u001b[0m \u001b[1m20s\u001b[0m 62ms/step - accuracy: 0.8133 - loss: 0.4207 - val_accuracy: 0.7980 - val_loss: 0.4397\n",
      "Epoch 27/100\n",
      "\u001b[1m313/313\u001b[0m \u001b[32m━━━━━━━━━━━━━━━━━━━━\u001b[0m\u001b[37m\u001b[0m \u001b[1m19s\u001b[0m 61ms/step - accuracy: 0.8157 - loss: 0.4215 - val_accuracy: 0.7992 - val_loss: 0.4361\n",
      "Epoch 28/100\n",
      "\u001b[1m313/313\u001b[0m \u001b[32m━━━━━━━━━━━━━━━━━━━━\u001b[0m\u001b[37m\u001b[0m \u001b[1m19s\u001b[0m 59ms/step - accuracy: 0.8134 - loss: 0.4201 - val_accuracy: 0.7974 - val_loss: 0.4403\n",
      "Epoch 29/100\n",
      "\u001b[1m313/313\u001b[0m \u001b[32m━━━━━━━━━━━━━━━━━━━━\u001b[0m\u001b[37m\u001b[0m \u001b[1m18s\u001b[0m 59ms/step - accuracy: 0.8116 - loss: 0.4194 - val_accuracy: 0.8002 - val_loss: 0.4338\n",
      "Epoch 30/100\n",
      "\u001b[1m313/313\u001b[0m \u001b[32m━━━━━━━━━━━━━━━━━━━━\u001b[0m\u001b[37m\u001b[0m \u001b[1m19s\u001b[0m 60ms/step - accuracy: 0.8162 - loss: 0.4102 - val_accuracy: 0.7982 - val_loss: 0.4324\n",
      "Epoch 31/100\n",
      "\u001b[1m313/313\u001b[0m \u001b[32m━━━━━━━━━━━━━━━━━━━━\u001b[0m\u001b[37m\u001b[0m \u001b[1m19s\u001b[0m 60ms/step - accuracy: 0.8151 - loss: 0.4104 - val_accuracy: 0.7976 - val_loss: 0.4318\n",
      "Epoch 32/100\n",
      "\u001b[1m313/313\u001b[0m \u001b[32m━━━━━━━━━━━━━━━━━━━━\u001b[0m\u001b[37m\u001b[0m \u001b[1m19s\u001b[0m 62ms/step - accuracy: 0.8138 - loss: 0.4195 - val_accuracy: 0.8018 - val_loss: 0.4299\n",
      "Epoch 33/100\n",
      "\u001b[1m313/313\u001b[0m \u001b[32m━━━━━━━━━━━━━━━━━━━━\u001b[0m\u001b[37m\u001b[0m \u001b[1m20s\u001b[0m 64ms/step - accuracy: 0.8118 - loss: 0.4154 - val_accuracy: 0.7984 - val_loss: 0.4292\n",
      "Epoch 34/100\n",
      "\u001b[1m313/313\u001b[0m \u001b[32m━━━━━━━━━━━━━━━━━━━━\u001b[0m\u001b[37m\u001b[0m \u001b[1m19s\u001b[0m 62ms/step - accuracy: 0.8146 - loss: 0.4100 - val_accuracy: 0.8010 - val_loss: 0.4291\n",
      "Epoch 35/100\n",
      "\u001b[1m313/313\u001b[0m \u001b[32m━━━━━━━━━━━━━━━━━━━━\u001b[0m\u001b[37m\u001b[0m \u001b[1m19s\u001b[0m 61ms/step - accuracy: 0.8160 - loss: 0.4059 - val_accuracy: 0.7982 - val_loss: 0.4422\n",
      "Epoch 36/100\n",
      "\u001b[1m313/313\u001b[0m \u001b[32m━━━━━━━━━━━━━━━━━━━━\u001b[0m\u001b[37m\u001b[0m \u001b[1m19s\u001b[0m 62ms/step - accuracy: 0.8170 - loss: 0.4089 - val_accuracy: 0.8014 - val_loss: 0.4289\n",
      "Epoch 37/100\n",
      "\u001b[1m313/313\u001b[0m \u001b[32m━━━━━━━━━━━━━━━━━━━━\u001b[0m\u001b[37m\u001b[0m \u001b[1m22s\u001b[0m 70ms/step - accuracy: 0.8190 - loss: 0.4005 - val_accuracy: 0.8012 - val_loss: 0.4289\n",
      "Epoch 38/100\n",
      "\u001b[1m313/313\u001b[0m \u001b[32m━━━━━━━━━━━━━━━━━━━━\u001b[0m\u001b[37m\u001b[0m \u001b[1m21s\u001b[0m 68ms/step - accuracy: 0.8198 - loss: 0.4056 - val_accuracy: 0.8036 - val_loss: 0.4292\n",
      "Epoch 39/100\n",
      "\u001b[1m313/313\u001b[0m \u001b[32m━━━━━━━━━━━━━━━━━━━━\u001b[0m\u001b[37m\u001b[0m \u001b[1m21s\u001b[0m 66ms/step - accuracy: 0.8164 - loss: 0.4003 - val_accuracy: 0.8020 - val_loss: 0.4300\n",
      "Epoch 40/100\n",
      "\u001b[1m313/313\u001b[0m \u001b[32m━━━━━━━━━━━━━━━━━━━━\u001b[0m\u001b[37m\u001b[0m \u001b[1m20s\u001b[0m 63ms/step - accuracy: 0.8212 - loss: 0.4005 - val_accuracy: 0.8010 - val_loss: 0.4275\n",
      "Epoch 41/100\n",
      "\u001b[1m313/313\u001b[0m \u001b[32m━━━━━━━━━━━━━━━━━━━━\u001b[0m\u001b[37m\u001b[0m \u001b[1m19s\u001b[0m 62ms/step - accuracy: 0.8191 - loss: 0.4025 - val_accuracy: 0.8042 - val_loss: 0.4277\n",
      "Epoch 42/100\n",
      "\u001b[1m313/313\u001b[0m \u001b[32m━━━━━━━━━━━━━━━━━━━━\u001b[0m\u001b[37m\u001b[0m \u001b[1m19s\u001b[0m 61ms/step - accuracy: 0.8154 - loss: 0.4056 - val_accuracy: 0.8030 - val_loss: 0.4266\n",
      "Epoch 43/100\n",
      "\u001b[1m313/313\u001b[0m \u001b[32m━━━━━━━━━━━━━━━━━━━━\u001b[0m\u001b[37m\u001b[0m \u001b[1m21s\u001b[0m 68ms/step - accuracy: 0.8153 - loss: 0.4059 - val_accuracy: 0.8032 - val_loss: 0.4312\n",
      "Epoch 44/100\n",
      "\u001b[1m313/313\u001b[0m \u001b[32m━━━━━━━━━━━━━━━━━━━━\u001b[0m\u001b[37m\u001b[0m \u001b[1m19s\u001b[0m 62ms/step - accuracy: 0.8201 - loss: 0.4041 - val_accuracy: 0.7988 - val_loss: 0.4279\n",
      "Epoch 45/100\n",
      "\u001b[1m313/313\u001b[0m \u001b[32m━━━━━━━━━━━━━━━━━━━━\u001b[0m\u001b[37m\u001b[0m \u001b[1m20s\u001b[0m 62ms/step - accuracy: 0.8181 - loss: 0.3991 - val_accuracy: 0.8040 - val_loss: 0.4284\n"
     ]
    }
   ],
   "source": [
    "rmsprop = keras.optimizers.RMSprop(learning_rate=1e-4)\n",
    "model.compile(optimizer=rmsprop, loss='binary_crossentropy', metrics=['accuracy'])\n",
    "\n",
    "checkpoint_cb = keras.callbacks.ModelCheckpoint('best-lstm-model.keras', save_best_only=True)\n",
    "early_stopping_cb = keras.callbacks.EarlyStopping(patience=3, restore_best_weights=True)\n",
    "\n",
    "history = model.fit(train_seq, y_train, epochs=100, batch_size=64,\n",
    "         validation_data=(val_seq, y_val), callbacks=[checkpoint_cb, early_stopping_cb])"
   ]
  },
  {
   "cell_type": "code",
   "execution_count": 13,
   "id": "8720aa92-cfb3-4294-887d-7595625653f1",
   "metadata": {},
   "outputs": [
    {
     "data": {
      "text/plain": [
       "41"
      ]
     },
     "execution_count": 13,
     "metadata": {},
     "output_type": "execute_result"
    }
   ],
   "source": [
    "early_stopping_cb.best_epoch"
   ]
  },
  {
   "cell_type": "code",
   "execution_count": 14,
   "id": "d9255243-fcf0-430f-b26c-c4167f6a4204",
   "metadata": {},
   "outputs": [
    {
     "name": "stdout",
     "output_type": "stream",
     "text": [
      "\u001b[1m157/157\u001b[0m \u001b[32m━━━━━━━━━━━━━━━━━━━━\u001b[0m\u001b[37m\u001b[0m \u001b[1m2s\u001b[0m 14ms/step - accuracy: 0.8007 - loss: 0.4282\n"
     ]
    },
    {
     "data": {
      "text/plain": [
       "[0.4266113340854645, 0.8029999732971191]"
      ]
     },
     "execution_count": 14,
     "metadata": {},
     "output_type": "execute_result"
    }
   ],
   "source": [
    "model.evaluate(val_seq, y_val)"
   ]
  },
  {
   "cell_type": "markdown",
   "id": "b47c23f3-97a6-4bb4-b561-9c4a9b84dd84",
   "metadata": {},
   "source": [
    "앞의 simpleRNN으로 구현했을 때는 accuracy가 70점대였던 거와 비교하면 성능이 많이 좋아졌다는 것을 알 수 있다."
   ]
  },
  {
   "cell_type": "markdown",
   "id": "4e4a6588-47ae-4056-b3b3-4c0eac3814cc",
   "metadata": {},
   "source": [
    "### Plot"
   ]
  },
  {
   "cell_type": "code",
   "execution_count": 17,
   "id": "5dffe0a9-84de-4fff-b59c-703c51d28d99",
   "metadata": {},
   "outputs": [
    {
     "data": {
      "image/png": "[encoded data removed]",
      "text/plain": [
       "<Figure size 640x480 with 1 Axes>"
      ]
     },
     "metadata": {},
     "output_type": "display_data"
    }
   ],
   "source": [
    "import matplotlib.pyplot as plt\n",
    "\n",
    "plt.plot(history.history['loss'])\n",
    "plt.plot(history.history['val_loss'])\n",
    "plt.xlabel('epoch')\n",
    "plt.ylabel('loss')\n",
    "plt.legend(['train', 'val'])\n",
    "plt.show()"
   ]
  },
  {
   "cell_type": "markdown",
   "id": "f8cea283-5756-439e-a9f4-0b7d9ed7d4f1",
   "metadata": {},
   "source": [
    "## 2) LSTM - Dropout \n",
    "### Model Construct"
   ]
  },
  {
   "cell_type": "markdown",
   "id": "b8ef64c9-64ed-41cc-8c86-c98033e4c970",
   "metadata": {},
   "source": [
    "과대적합을 막기 위한 dropout layer를 추가하여 model을 구성해보자.\n",
    "\n",
    "   >#### Dropout layer\n",
    "   >훈련할 데이터를 랜덤하게 추출하여 학습함으로써 과대적합을 막는다.\n",
    "\n",
    "\n",
    "순환층은 자체적으로 dropout, recurrent_dropout 매개변수를 통해 dropout 기능을 제공한다.\n",
    "- dropout : 셀 입력에 적용\n",
    "- recurrent_dropout : 순환하는 은닉상태에 적용"
   ]
  },
  {
   "cell_type": "code",
   "execution_count": 35,
   "id": "256613f3-b8f7-46fc-8223-b2f9edf1c892",
   "metadata": {},
   "outputs": [],
   "source": [
    "model2 = keras.Sequential()\n",
    "\n",
    "model2.add(keras.layers.Embedding(500, 16))\n",
    "model2.add(keras.layers.LSTM(8, dropout=0.3)) # 입력의 30%를 drop한다.\n",
    "model2.add(keras.layers.Dense(1, activation='sigmoid'))"
   ]
  },
  {
   "cell_type": "markdown",
   "id": "4332b373-46f0-4866-863f-8d2fc39fe52b",
   "metadata": {},
   "source": [
    "### Train Model "
   ]
  },
  {
   "cell_type": "code",
   "execution_count": 44,
   "id": "2d1aeab9-9a44-471f-91ce-2b846ada4b45",
   "metadata": {},
   "outputs": [
    {
     "name": "stdout",
     "output_type": "stream",
     "text": [
      "Epoch 1/100\n",
      "\u001b[1m313/313\u001b[0m \u001b[32m━━━━━━━━━━━━━━━━━━━━\u001b[0m\u001b[37m\u001b[0m \u001b[1m24s\u001b[0m 62ms/step - accuracy: 0.4982 - loss: 0.6931 - val_accuracy: 0.5706 - val_loss: 0.6918\n",
      "Epoch 2/100\n",
      "\u001b[1m313/313\u001b[0m \u001b[32m━━━━━━━━━━━━━━━━━━━━\u001b[0m\u001b[37m\u001b[0m \u001b[1m19s\u001b[0m 62ms/step - accuracy: 0.5700 - loss: 0.6912 - val_accuracy: 0.6106 - val_loss: 0.6894\n",
      "Epoch 3/100\n",
      "\u001b[1m313/313\u001b[0m \u001b[32m━━━━━━━━━━━━━━━━━━━━\u001b[0m\u001b[37m\u001b[0m \u001b[1m18s\u001b[0m 59ms/step - accuracy: 0.6048 - loss: 0.6882 - val_accuracy: 0.6272 - val_loss: 0.6844\n",
      "Epoch 4/100\n",
      "\u001b[1m313/313\u001b[0m \u001b[32m━━━━━━━━━━━━━━━━━━━━\u001b[0m\u001b[37m\u001b[0m \u001b[1m18s\u001b[0m 59ms/step - accuracy: 0.6262 - loss: 0.6824 - val_accuracy: 0.6496 - val_loss: 0.6735\n",
      "Epoch 5/100\n",
      "\u001b[1m313/313\u001b[0m \u001b[32m━━━━━━━━━━━━━━━━━━━━\u001b[0m\u001b[37m\u001b[0m \u001b[1m18s\u001b[0m 58ms/step - accuracy: 0.6534 - loss: 0.6673 - val_accuracy: 0.7042 - val_loss: 0.6355\n",
      "Epoch 6/100\n",
      "\u001b[1m313/313\u001b[0m \u001b[32m━━━━━━━━━━━━━━━━━━━━\u001b[0m\u001b[37m\u001b[0m \u001b[1m18s\u001b[0m 59ms/step - accuracy: 0.7017 - loss: 0.6209 - val_accuracy: 0.7242 - val_loss: 0.5825\n",
      "Epoch 7/100\n",
      "\u001b[1m313/313\u001b[0m \u001b[32m━━━━━━━━━━━━━━━━━━━━\u001b[0m\u001b[37m\u001b[0m \u001b[1m19s\u001b[0m 60ms/step - accuracy: 0.7316 - loss: 0.5771 - val_accuracy: 0.7366 - val_loss: 0.5601\n",
      "Epoch 8/100\n",
      "\u001b[1m313/313\u001b[0m \u001b[32m━━━━━━━━━━━━━━━━━━━━\u001b[0m\u001b[37m\u001b[0m \u001b[1m19s\u001b[0m 60ms/step - accuracy: 0.7477 - loss: 0.5559 - val_accuracy: 0.7506 - val_loss: 0.5383\n",
      "Epoch 9/100\n",
      "\u001b[1m313/313\u001b[0m \u001b[32m━━━━━━━━━━━━━━━━━━━━\u001b[0m\u001b[37m\u001b[0m \u001b[1m19s\u001b[0m 60ms/step - accuracy: 0.7524 - loss: 0.5362 - val_accuracy: 0.7618 - val_loss: 0.5220\n",
      "Epoch 10/100\n",
      "\u001b[1m313/313\u001b[0m \u001b[32m━━━━━━━━━━━━━━━━━━━━\u001b[0m\u001b[37m\u001b[0m \u001b[1m19s\u001b[0m 61ms/step - accuracy: 0.7658 - loss: 0.5176 - val_accuracy: 0.7702 - val_loss: 0.5047\n",
      "Epoch 11/100\n",
      "\u001b[1m313/313\u001b[0m \u001b[32m━━━━━━━━━━━━━━━━━━━━\u001b[0m\u001b[37m\u001b[0m \u001b[1m20s\u001b[0m 63ms/step - accuracy: 0.7732 - loss: 0.5031 - val_accuracy: 0.7752 - val_loss: 0.4965\n",
      "Epoch 12/100\n",
      "\u001b[1m313/313\u001b[0m \u001b[32m━━━━━━━━━━━━━━━━━━━━\u001b[0m\u001b[37m\u001b[0m \u001b[1m22s\u001b[0m 69ms/step - accuracy: 0.7751 - loss: 0.4921 - val_accuracy: 0.7788 - val_loss: 0.4849\n",
      "Epoch 13/100\n",
      "\u001b[1m313/313\u001b[0m \u001b[32m━━━━━━━━━━━━━━━━━━━━\u001b[0m\u001b[37m\u001b[0m \u001b[1m21s\u001b[0m 68ms/step - accuracy: 0.7852 - loss: 0.4774 - val_accuracy: 0.7848 - val_loss: 0.4747\n",
      "Epoch 14/100\n",
      "\u001b[1m313/313\u001b[0m \u001b[32m━━━━━━━━━━━━━━━━━━━━\u001b[0m\u001b[37m\u001b[0m \u001b[1m27s\u001b[0m 87ms/step - accuracy: 0.7897 - loss: 0.4682 - val_accuracy: 0.7886 - val_loss: 0.4667\n",
      "Epoch 15/100\n",
      "\u001b[1m313/313\u001b[0m \u001b[32m━━━━━━━━━━━━━━━━━━━━\u001b[0m\u001b[37m\u001b[0m \u001b[1m21s\u001b[0m 67ms/step - accuracy: 0.7914 - loss: 0.4637 - val_accuracy: 0.7832 - val_loss: 0.4677\n",
      "Epoch 16/100\n",
      "\u001b[1m313/313\u001b[0m \u001b[32m━━━━━━━━━━━━━━━━━━━━\u001b[0m\u001b[37m\u001b[0m \u001b[1m20s\u001b[0m 65ms/step - accuracy: 0.7973 - loss: 0.4530 - val_accuracy: 0.7936 - val_loss: 0.4547\n",
      "Epoch 17/100\n",
      "\u001b[1m313/313\u001b[0m \u001b[32m━━━━━━━━━━━━━━━━━━━━\u001b[0m\u001b[37m\u001b[0m \u001b[1m20s\u001b[0m 65ms/step - accuracy: 0.8003 - loss: 0.4467 - val_accuracy: 0.7964 - val_loss: 0.4513\n",
      "Epoch 18/100\n",
      "\u001b[1m313/313\u001b[0m \u001b[32m━━━━━━━━━━━━━━━━━━━━\u001b[0m\u001b[37m\u001b[0m \u001b[1m21s\u001b[0m 68ms/step - accuracy: 0.8044 - loss: 0.4429 - val_accuracy: 0.7936 - val_loss: 0.4491\n",
      "Epoch 19/100\n",
      "\u001b[1m313/313\u001b[0m \u001b[32m━━━━━━━━━━━━━━━━━━━━\u001b[0m\u001b[37m\u001b[0m \u001b[1m21s\u001b[0m 68ms/step - accuracy: 0.7977 - loss: 0.4438 - val_accuracy: 0.7940 - val_loss: 0.4467\n",
      "Epoch 20/100\n",
      "\u001b[1m313/313\u001b[0m \u001b[32m━━━━━━━━━━━━━━━━━━━━\u001b[0m\u001b[37m\u001b[0m \u001b[1m21s\u001b[0m 66ms/step - accuracy: 0.8055 - loss: 0.4349 - val_accuracy: 0.7932 - val_loss: 0.4563\n",
      "Epoch 21/100\n",
      "\u001b[1m313/313\u001b[0m \u001b[32m━━━━━━━━━━━━━━━━━━━━\u001b[0m\u001b[37m\u001b[0m \u001b[1m20s\u001b[0m 65ms/step - accuracy: 0.8050 - loss: 0.4340 - val_accuracy: 0.7982 - val_loss: 0.4504\n",
      "Epoch 22/100\n",
      "\u001b[1m313/313\u001b[0m \u001b[32m━━━━━━━━━━━━━━━━━━━━\u001b[0m\u001b[37m\u001b[0m \u001b[1m21s\u001b[0m 68ms/step - accuracy: 0.8059 - loss: 0.4347 - val_accuracy: 0.7954 - val_loss: 0.4409\n",
      "Epoch 23/100\n",
      "\u001b[1m313/313\u001b[0m \u001b[32m━━━━━━━━━━━━━━━━━━━━\u001b[0m\u001b[37m\u001b[0m \u001b[1m21s\u001b[0m 67ms/step - accuracy: 0.8100 - loss: 0.4242 - val_accuracy: 0.7982 - val_loss: 0.4391\n",
      "Epoch 24/100\n",
      "\u001b[1m313/313\u001b[0m \u001b[32m━━━━━━━━━━━━━━━━━━━━\u001b[0m\u001b[37m\u001b[0m \u001b[1m21s\u001b[0m 68ms/step - accuracy: 0.8027 - loss: 0.4327 - val_accuracy: 0.7984 - val_loss: 0.4382\n",
      "Epoch 25/100\n",
      "\u001b[1m313/313\u001b[0m \u001b[32m━━━━━━━━━━━━━━━━━━━━\u001b[0m\u001b[37m\u001b[0m \u001b[1m21s\u001b[0m 67ms/step - accuracy: 0.8127 - loss: 0.4231 - val_accuracy: 0.7982 - val_loss: 0.4381\n",
      "Epoch 26/100\n",
      "\u001b[1m313/313\u001b[0m \u001b[32m━━━━━━━━━━━━━━━━━━━━\u001b[0m\u001b[37m\u001b[0m \u001b[1m21s\u001b[0m 67ms/step - accuracy: 0.8120 - loss: 0.4218 - val_accuracy: 0.7970 - val_loss: 0.4379\n",
      "Epoch 27/100\n",
      "\u001b[1m313/313\u001b[0m \u001b[32m━━━━━━━━━━━━━━━━━━━━\u001b[0m\u001b[37m\u001b[0m \u001b[1m22s\u001b[0m 71ms/step - accuracy: 0.8079 - loss: 0.4240 - val_accuracy: 0.8012 - val_loss: 0.4361\n",
      "Epoch 28/100\n",
      "\u001b[1m313/313\u001b[0m \u001b[32m━━━━━━━━━━━━━━━━━━━━\u001b[0m\u001b[37m\u001b[0m \u001b[1m22s\u001b[0m 69ms/step - accuracy: 0.8058 - loss: 0.4256 - val_accuracy: 0.7948 - val_loss: 0.4392\n",
      "Epoch 29/100\n",
      "\u001b[1m313/313\u001b[0m \u001b[32m━━━━━━━━━━━━━━━━━━━━\u001b[0m\u001b[37m\u001b[0m \u001b[1m21s\u001b[0m 68ms/step - accuracy: 0.8067 - loss: 0.4286 - val_accuracy: 0.8000 - val_loss: 0.4345\n",
      "Epoch 30/100\n",
      "\u001b[1m313/313\u001b[0m \u001b[32m━━━━━━━━━━━━━━━━━━━━\u001b[0m\u001b[37m\u001b[0m \u001b[1m23s\u001b[0m 72ms/step - accuracy: 0.8060 - loss: 0.4219 - val_accuracy: 0.8000 - val_loss: 0.4396\n",
      "Epoch 31/100\n",
      "\u001b[1m313/313\u001b[0m \u001b[32m━━━━━━━━━━━━━━━━━━━━\u001b[0m\u001b[37m\u001b[0m \u001b[1m22s\u001b[0m 71ms/step - accuracy: 0.8138 - loss: 0.4140 - val_accuracy: 0.8002 - val_loss: 0.4371\n",
      "Epoch 32/100\n",
      "\u001b[1m313/313\u001b[0m \u001b[32m━━━━━━━━━━━━━━━━━━━━\u001b[0m\u001b[37m\u001b[0m \u001b[1m22s\u001b[0m 71ms/step - accuracy: 0.8080 - loss: 0.4209 - val_accuracy: 0.7982 - val_loss: 0.4333\n",
      "Epoch 33/100\n",
      "\u001b[1m313/313\u001b[0m \u001b[32m━━━━━━━━━━━━━━━━━━━━\u001b[0m\u001b[37m\u001b[0m \u001b[1m22s\u001b[0m 69ms/step - accuracy: 0.8076 - loss: 0.4238 - val_accuracy: 0.7968 - val_loss: 0.4338\n",
      "Epoch 34/100\n",
      "\u001b[1m313/313\u001b[0m \u001b[32m━━━━━━━━━━━━━━━━━━━━\u001b[0m\u001b[37m\u001b[0m \u001b[1m22s\u001b[0m 69ms/step - accuracy: 0.8060 - loss: 0.4266 - val_accuracy: 0.7922 - val_loss: 0.4380\n",
      "Epoch 35/100\n",
      "\u001b[1m313/313\u001b[0m \u001b[32m━━━━━━━━━━━━━━━━━━━━\u001b[0m\u001b[37m\u001b[0m \u001b[1m22s\u001b[0m 70ms/step - accuracy: 0.8083 - loss: 0.4226 - val_accuracy: 0.7984 - val_loss: 0.4327\n",
      "Epoch 36/100\n",
      "\u001b[1m313/313\u001b[0m \u001b[32m━━━━━━━━━━━━━━━━━━━━\u001b[0m\u001b[37m\u001b[0m \u001b[1m22s\u001b[0m 71ms/step - accuracy: 0.8143 - loss: 0.4135 - val_accuracy: 0.7868 - val_loss: 0.4518\n",
      "Epoch 37/100\n",
      "\u001b[1m313/313\u001b[0m \u001b[32m━━━━━━━━━━━━━━━━━━━━\u001b[0m\u001b[37m\u001b[0m \u001b[1m22s\u001b[0m 71ms/step - accuracy: 0.8150 - loss: 0.4159 - val_accuracy: 0.7976 - val_loss: 0.4316\n",
      "Epoch 38/100\n",
      "\u001b[1m313/313\u001b[0m \u001b[32m━━━━━━━━━━━━━━━━━━━━\u001b[0m\u001b[37m\u001b[0m \u001b[1m23s\u001b[0m 72ms/step - accuracy: 0.8101 - loss: 0.4187 - val_accuracy: 0.7938 - val_loss: 0.4386\n",
      "Epoch 39/100\n",
      "\u001b[1m313/313\u001b[0m \u001b[32m━━━━━━━━━━━━━━━━━━━━\u001b[0m\u001b[37m\u001b[0m \u001b[1m22s\u001b[0m 70ms/step - accuracy: 0.8102 - loss: 0.4203 - val_accuracy: 0.7956 - val_loss: 0.4335\n",
      "Epoch 40/100\n",
      "\u001b[1m313/313\u001b[0m \u001b[32m━━━━━━━━━━━━━━━━━━━━\u001b[0m\u001b[37m\u001b[0m \u001b[1m23s\u001b[0m 72ms/step - accuracy: 0.8143 - loss: 0.4129 - val_accuracy: 0.8014 - val_loss: 0.4320\n"
     ]
    }
   ],
   "source": [
    "rmsprop = keras.optimizers.RMSprop(learning_rate=1e-4)\n",
    "model2.compile(optimizer=rmsprop, loss='binary_crossentropy', metrics=['accuracy'])\n",
    "\n",
    "checkpoint_cb = keras.callbacks.ModelCheckpoint('best-dropout-model.keras', save_best_only=True)\n",
    "early_stopping_cb = keras.callbacks.EarlyStopping(patience=3, restore_best_weights=True)\n",
    "\n",
    "history = model2.fit(train_seq, y_train, epochs=100, batch_size=64,\n",
    "         validation_data=(val_seq, y_val), callbacks=[checkpoint_cb, early_stopping_cb])"
   ]
  },
  {
   "cell_type": "markdown",
   "id": "0d0b84f2-9bc2-4663-b9c2-aa3b5d0e195a",
   "metadata": {},
   "source": [
    "### Plot"
   ]
  },
  {
   "cell_type": "code",
   "execution_count": 52,
   "id": "7c44a219-47a8-4d53-8a46-2fc5afb92639",
   "metadata": {},
   "outputs": [
    {
     "data": {
      "image/png": "[encoded data removed]",
      "text/plain": [
       "<Figure size 640x480 with 1 Axes>"
      ]
     },
     "metadata": {},
     "output_type": "display_data"
    }
   ],
   "source": [
    "plt.plot(history.history['loss'])\n",
    "plt.plot(history.history['val_loss'])\n",
    "plt.xlabel('epoch')\n",
    "plt.ylabel('loss')\n",
    "plt.legend(['train', 'val'])\n",
    "plt.show()"
   ]
  },
  {
   "cell_type": "markdown",
   "id": "1de05cd1-c820-454e-8ac0-53ba21852ee1",
   "metadata": {},
   "source": [
    "### Evaluate"
   ]
  },
  {
   "cell_type": "code",
   "execution_count": 54,
   "id": "d76f25a7-8253-42c8-b89f-1490fb930b16",
   "metadata": {},
   "outputs": [
    {
     "name": "stdout",
     "output_type": "stream",
     "text": [
      "\u001b[1m157/157\u001b[0m \u001b[32m━━━━━━━━━━━━━━━━━━━━\u001b[0m\u001b[37m\u001b[0m \u001b[1m1s\u001b[0m 8ms/step - accuracy: 0.7960 - loss: 0.4330\n"
     ]
    },
    {
     "data": {
      "text/plain": [
       "[0.43164029717445374, 0.7975999712944031]"
      ]
     },
     "execution_count": 54,
     "metadata": {},
     "output_type": "execute_result"
    }
   ],
   "source": [
    "model2.evaluate(val_seq, y_val)"
   ]
  },
  {
   "cell_type": "markdown",
   "id": "de521185-ee99-4ad3-9214-907cf3c884c5",
   "metadata": {},
   "source": [
    "## 3) Multi-LSTM - dropout\n",
    "- LSTM  \n",
    "순환층은 마지막 타임스텝에 대한 은닉 상태만 출력한다.  \n",
    "모든 순환층은 input으로 순차적 data를 기대한다.  \n",
    "따라서 순환층을 여러겹 쌓을 경우, 앞의 순환층에선 모든 타임스텝의 은닉상태를 출력하고, 마지막 순환층에서만 마지막 타임스텝에 대한 은닉상태를 출력해야 한다.  \n",
    "👉 이는 마지막 층을 제외한 모든 순환층에서 return_sequences=True를 설정하면 된다."
   ]
  },
  {
   "cell_type": "markdown",
   "id": "fb2db6f2-253c-4fcb-9c14-d20e2ad2ef5c",
   "metadata": {},
   "source": [
    "### Construct Model"
   ]
  },
  {
   "cell_type": "code",
   "execution_count": 58,
   "id": "054813ab-d394-44ff-999b-00cce3b4738c",
   "metadata": {},
   "outputs": [],
   "source": [
    "model3 = keras.Sequential()\n",
    "\n",
    "model3.add(keras.layers.Embedding(500, 16))\n",
    "model3.add(keras.layers.LSTM(8, dropout=0.3, return_sequences=True))\n",
    "model3.add(keras.layers.LSTM(8, dropout=0.3))\n",
    "model3.add(keras.layers.Dense(1, activation='sigmoid')) # output layer"
   ]
  },
  {
   "cell_type": "markdown",
   "id": "c06944f6-0a4c-4c5d-9b7b-ed4fa546a53a",
   "metadata": {},
   "source": [
    "### Train model"
   ]
  },
  {
   "cell_type": "code",
   "execution_count": 60,
   "id": "d34819cd-8e98-4962-a9c6-75f60e39a905",
   "metadata": {},
   "outputs": [
    {
     "name": "stdout",
     "output_type": "stream",
     "text": [
      "Epoch 1/100\n",
      "\u001b[1m313/313\u001b[0m \u001b[32m━━━━━━━━━━━━━━━━━━━━\u001b[0m\u001b[37m\u001b[0m \u001b[1m37s\u001b[0m 98ms/step - accuracy: 0.5130 - loss: 0.6930 - val_accuracy: 0.5882 - val_loss: 0.6922\n",
      "Epoch 2/100\n",
      "\u001b[1m313/313\u001b[0m \u001b[32m━━━━━━━━━━━━━━━━━━━━\u001b[0m\u001b[37m\u001b[0m \u001b[1m32s\u001b[0m 104ms/step - accuracy: 0.5603 - loss: 0.6918 - val_accuracy: 0.6332 - val_loss: 0.6896\n",
      "Epoch 3/100\n",
      "\u001b[1m313/313\u001b[0m \u001b[32m━━━━━━━━━━━━━━━━━━━━\u001b[0m\u001b[37m\u001b[0m \u001b[1m37s\u001b[0m 117ms/step - accuracy: 0.6100 - loss: 0.6879 - val_accuracy: 0.6634 - val_loss: 0.6796\n",
      "Epoch 4/100\n",
      "\u001b[1m313/313\u001b[0m \u001b[32m━━━━━━━━━━━━━━━━━━━━\u001b[0m\u001b[37m\u001b[0m \u001b[1m37s\u001b[0m 117ms/step - accuracy: 0.6447 - loss: 0.6731 - val_accuracy: 0.6900 - val_loss: 0.6426\n",
      "Epoch 5/100\n",
      "\u001b[1m313/313\u001b[0m \u001b[32m━━━━━━━━━━━━━━━━━━━━\u001b[0m\u001b[37m\u001b[0m \u001b[1m33s\u001b[0m 106ms/step - accuracy: 0.6824 - loss: 0.6303 - val_accuracy: 0.7198 - val_loss: 0.5797\n",
      "Epoch 6/100\n",
      "\u001b[1m313/313\u001b[0m \u001b[32m━━━━━━━━━━━━━━━━━━━━\u001b[0m\u001b[37m\u001b[0m \u001b[1m34s\u001b[0m 110ms/step - accuracy: 0.7216 - loss: 0.5740 - val_accuracy: 0.7406 - val_loss: 0.5418\n",
      "Epoch 7/100\n",
      "\u001b[1m313/313\u001b[0m \u001b[32m━━━━━━━━━━━━━━━━━━━━\u001b[0m\u001b[37m\u001b[0m \u001b[1m43s\u001b[0m 136ms/step - accuracy: 0.7418 - loss: 0.5436 - val_accuracy: 0.7492 - val_loss: 0.5220\n",
      "Epoch 8/100\n",
      "\u001b[1m313/313\u001b[0m \u001b[32m━━━━━━━━━━━━━━━━━━━━\u001b[0m\u001b[37m\u001b[0m \u001b[1m40s\u001b[0m 128ms/step - accuracy: 0.7521 - loss: 0.5262 - val_accuracy: 0.7668 - val_loss: 0.5070\n",
      "Epoch 9/100\n",
      "\u001b[1m313/313\u001b[0m \u001b[32m━━━━━━━━━━━━━━━━━━━━\u001b[0m\u001b[37m\u001b[0m \u001b[1m45s\u001b[0m 144ms/step - accuracy: 0.7590 - loss: 0.5118 - val_accuracy: 0.7674 - val_loss: 0.4931\n",
      "Epoch 10/100\n",
      "\u001b[1m313/313\u001b[0m \u001b[32m━━━━━━━━━━━━━━━━━━━━\u001b[0m\u001b[37m\u001b[0m \u001b[1m51s\u001b[0m 163ms/step - accuracy: 0.7744 - loss: 0.4948 - val_accuracy: 0.7668 - val_loss: 0.4892\n",
      "Epoch 11/100\n",
      "\u001b[1m313/313\u001b[0m \u001b[32m━━━━━━━━━━━━━━━━━━━━\u001b[0m\u001b[37m\u001b[0m \u001b[1m41s\u001b[0m 132ms/step - accuracy: 0.7768 - loss: 0.4874 - val_accuracy: 0.7686 - val_loss: 0.4843\n",
      "Epoch 12/100\n",
      "\u001b[1m313/313\u001b[0m \u001b[32m━━━━━━━━━━━━━━━━━━━━\u001b[0m\u001b[37m\u001b[0m \u001b[1m34s\u001b[0m 109ms/step - accuracy: 0.7802 - loss: 0.4782 - val_accuracy: 0.7798 - val_loss: 0.4732\n",
      "Epoch 13/100\n",
      "\u001b[1m313/313\u001b[0m \u001b[32m━━━━━━━━━━━━━━━━━━━━\u001b[0m\u001b[37m\u001b[0m \u001b[1m34s\u001b[0m 110ms/step - accuracy: 0.7897 - loss: 0.4694 - val_accuracy: 0.7828 - val_loss: 0.4686\n",
      "Epoch 14/100\n",
      "\u001b[1m313/313\u001b[0m \u001b[32m━━━━━━━━━━━━━━━━━━━━\u001b[0m\u001b[37m\u001b[0m \u001b[1m34s\u001b[0m 108ms/step - accuracy: 0.7933 - loss: 0.4610 - val_accuracy: 0.7840 - val_loss: 0.4623\n",
      "Epoch 15/100\n",
      "\u001b[1m313/313\u001b[0m \u001b[32m━━━━━━━━━━━━━━━━━━━━\u001b[0m\u001b[37m\u001b[0m \u001b[1m34s\u001b[0m 109ms/step - accuracy: 0.7995 - loss: 0.4550 - val_accuracy: 0.7786 - val_loss: 0.4735\n",
      "Epoch 16/100\n",
      "\u001b[1m313/313\u001b[0m \u001b[32m━━━━━━━━━━━━━━━━━━━━\u001b[0m\u001b[37m\u001b[0m \u001b[1m34s\u001b[0m 109ms/step - accuracy: 0.7939 - loss: 0.4572 - val_accuracy: 0.7858 - val_loss: 0.4558\n",
      "Epoch 17/100\n",
      "\u001b[1m313/313\u001b[0m \u001b[32m━━━━━━━━━━━━━━━━━━━━\u001b[0m\u001b[37m\u001b[0m \u001b[1m35s\u001b[0m 112ms/step - accuracy: 0.8007 - loss: 0.4480 - val_accuracy: 0.7884 - val_loss: 0.4504\n",
      "Epoch 18/100\n",
      "\u001b[1m313/313\u001b[0m \u001b[32m━━━━━━━━━━━━━━━━━━━━\u001b[0m\u001b[37m\u001b[0m \u001b[1m35s\u001b[0m 113ms/step - accuracy: 0.8000 - loss: 0.4471 - val_accuracy: 0.7934 - val_loss: 0.4475\n",
      "Epoch 19/100\n",
      "\u001b[1m313/313\u001b[0m \u001b[32m━━━━━━━━━━━━━━━━━━━━\u001b[0m\u001b[37m\u001b[0m \u001b[1m37s\u001b[0m 119ms/step - accuracy: 0.8063 - loss: 0.4416 - val_accuracy: 0.7904 - val_loss: 0.4483\n",
      "Epoch 20/100\n",
      "\u001b[1m313/313\u001b[0m \u001b[32m━━━━━━━━━━━━━━━━━━━━\u001b[0m\u001b[37m\u001b[0m \u001b[1m36s\u001b[0m 115ms/step - accuracy: 0.7999 - loss: 0.4447 - val_accuracy: 0.7880 - val_loss: 0.4504\n",
      "Epoch 21/100\n",
      "\u001b[1m313/313\u001b[0m \u001b[32m━━━━━━━━━━━━━━━━━━━━\u001b[0m\u001b[37m\u001b[0m \u001b[1m35s\u001b[0m 113ms/step - accuracy: 0.8061 - loss: 0.4358 - val_accuracy: 0.7824 - val_loss: 0.4563\n"
     ]
    }
   ],
   "source": [
    "rmsprop = keras.optimizers.RMSprop(learning_rate=1e-4)\n",
    "model3.compile(optimizer=rmsprop, loss='binary_crossentropy', metrics=['accuracy'])\n",
    "\n",
    "checkpoint_cb = keras.callbacks.ModelCheckpoint('best-2rnn-model.keras', save_best_only=True)\n",
    "early_stopping_cb = keras.callbacks.EarlyStopping(patience=3, restore_best_weights=True)\n",
    "\n",
    "history = model3.fit(train_seq, y_train, epochs=100, batch_size=64,\n",
    "                    validation_data=(val_seq, y_val), callbacks=[checkpoint_cb, early_stopping_cb])"
   ]
  },
  {
   "cell_type": "code",
   "execution_count": 62,
   "id": "5fb964fd-d368-48bc-9ebf-470870993e3d",
   "metadata": {},
   "outputs": [
    {
     "data": {
      "text/plain": [
       "17"
      ]
     },
     "execution_count": 62,
     "metadata": {},
     "output_type": "execute_result"
    }
   ],
   "source": [
    "early_stopping_cb.best_epoch"
   ]
  },
  {
   "cell_type": "markdown",
   "id": "9ae39945-a8a3-40e1-b687-5e354494f4ad",
   "metadata": {},
   "source": [
    "### Plot"
   ]
  },
  {
   "cell_type": "code",
   "execution_count": 64,
   "id": "9da2e5cc-05bb-4f88-8a4b-7888ce3a476e",
   "metadata": {},
   "outputs": [
    {
     "data": {
      "image/png": "[encoded data removed]",
      "text/plain": [
       "<Figure size 640x480 with 1 Axes>"
      ]
     },
     "metadata": {},
     "output_type": "display_data"
    }
   ],
   "source": [
    "plt.plot(history.history['loss'])\n",
    "plt.plot(history.history['val_loss'])\n",
    "plt.xlabel('epoch')\n",
    "plt.ylabel('loss')\n",
    "plt.legend(['train', 'val'])\n",
    "plt.show()"
   ]
  },
  {
   "cell_type": "markdown",
   "id": "24d52017-bae1-4b97-8fe0-490977e6b97a",
   "metadata": {},
   "source": [
    "## Evaluate"
   ]
  },
  {
   "cell_type": "code",
   "execution_count": 67,
   "id": "7b1c9fb1-7978-45a5-b4e6-85682a719e24",
   "metadata": {},
   "outputs": [
    {
     "name": "stdout",
     "output_type": "stream",
     "text": [
      "\u001b[1m157/157\u001b[0m \u001b[32m━━━━━━━━━━━━━━━━━━━━\u001b[0m\u001b[37m\u001b[0m \u001b[1m2s\u001b[0m 14ms/step - accuracy: 0.7915 - loss: 0.4508\n"
     ]
    },
    {
     "data": {
      "text/plain": [
       "[0.44751787185668945, 0.79339998960495]"
      ]
     },
     "execution_count": 67,
     "metadata": {},
     "output_type": "execute_result"
    }
   ],
   "source": [
    "model3.evaluate(val_seq, y_val)"
   ]
  },
  {
   "cell_type": "markdown",
   "id": "36de148a-62de-4988-8fca-7be43f6e67ba",
   "metadata": {},
   "source": [
    "## 2️⃣ GRU (Gated Recurrent Unit)\n",
    "LSTM의 간소화된 버전으로, 3개의 셀로 구성된다.  \n",
    "활성화 함수로 두 개의 셀은 sigmoid를 나머지 하나는 tanh를 쓴다.  \n",
    "세 값이 어떻게 활용되는 지 알아보자.  \n",
    "> - sigmoid를 통과한 값 하나는 은닉층에 곱해져 삭제 게이트 역할을 하는 동시에,\n",
    ">   같은 값이 1에서 뺀 후 tanh를 통과 한 값과 곱해져, 입력 정보를 제어한다.\n",
    "> - sigmoid를 통과한 나머지 값 하나는 이전 은닉층과 곱해져 tanh 함수를 사용하는 셀의 입력으로 들어가, 은닉층을 제어한다.\n"
   ]
  },
  {
   "cell_type": "markdown",
   "id": "e911fa3c-a740-4573-87b7-29d38be9835c",
   "metadata": {},
   "source": [
    "## 4) GRU\n",
    "\n",
    "### Model Construct"
   ]
  },
  {
   "cell_type": "code",
   "execution_count": 74,
   "id": "ae2e1e5d-d867-4f79-b6f7-47c30fa5f66f",
   "metadata": {},
   "outputs": [],
   "source": [
    "model4 = keras.Sequential()\n",
    "\n",
    "model4.add(keras.layers.Embedding(500, 16))\n",
    "model4.add(keras.layers.GRU(8))\n",
    "model4.add(keras.layers.Dense(1, activation='sigmoid'))"
   ]
  },
  {
   "cell_type": "code",
   "execution_count": 80,
   "id": "3d546cc2-af99-47a9-b105-04ce9f11da4b",
   "metadata": {},
   "outputs": [
    {
     "name": "stdout",
     "output_type": "stream",
     "text": [
      "Epoch 1/100\n",
      "\u001b[1m313/313\u001b[0m \u001b[32m━━━━━━━━━━━━━━━━━━━━\u001b[0m\u001b[37m\u001b[0m \u001b[1m24s\u001b[0m 59ms/step - accuracy: 0.4964 - loss: 0.6933 - val_accuracy: 0.5164 - val_loss: 0.6930\n",
      "Epoch 2/100\n",
      "\u001b[1m313/313\u001b[0m \u001b[32m━━━━━━━━━━━━━━━━━━━━\u001b[0m\u001b[37m\u001b[0m \u001b[1m19s\u001b[0m 61ms/step - accuracy: 0.5266 - loss: 0.6927 - val_accuracy: 0.5520 - val_loss: 0.6922\n",
      "Epoch 3/100\n",
      "\u001b[1m313/313\u001b[0m \u001b[32m━━━━━━━━━━━━━━━━━━━━\u001b[0m\u001b[37m\u001b[0m \u001b[1m20s\u001b[0m 63ms/step - accuracy: 0.5708 - loss: 0.6917 - val_accuracy: 0.5674 - val_loss: 0.6910\n",
      "Epoch 4/100\n",
      "\u001b[1m313/313\u001b[0m \u001b[32m━━━━━━━━━━━━━━━━━━━━\u001b[0m\u001b[37m\u001b[0m \u001b[1m20s\u001b[0m 64ms/step - accuracy: 0.5833 - loss: 0.6904 - val_accuracy: 0.5782 - val_loss: 0.6892\n",
      "Epoch 5/100\n",
      "\u001b[1m313/313\u001b[0m \u001b[32m━━━━━━━━━━━━━━━━━━━━\u001b[0m\u001b[37m\u001b[0m \u001b[1m21s\u001b[0m 66ms/step - accuracy: 0.5931 - loss: 0.6882 - val_accuracy: 0.5850 - val_loss: 0.6864\n",
      "Epoch 6/100\n",
      "\u001b[1m313/313\u001b[0m \u001b[32m━━━━━━━━━━━━━━━━━━━━\u001b[0m\u001b[37m\u001b[0m \u001b[1m20s\u001b[0m 65ms/step - accuracy: 0.6005 - loss: 0.6849 - val_accuracy: 0.5888 - val_loss: 0.6820\n",
      "Epoch 7/100\n",
      "\u001b[1m313/313\u001b[0m \u001b[32m━━━━━━━━━━━━━━━━━━━━\u001b[0m\u001b[37m\u001b[0m \u001b[1m21s\u001b[0m 67ms/step - accuracy: 0.6093 - loss: 0.6791 - val_accuracy: 0.5988 - val_loss: 0.6754\n",
      "Epoch 8/100\n",
      "\u001b[1m313/313\u001b[0m \u001b[32m━━━━━━━━━━━━━━━━━━━━\u001b[0m\u001b[37m\u001b[0m \u001b[1m21s\u001b[0m 67ms/step - accuracy: 0.6229 - loss: 0.6710 - val_accuracy: 0.6134 - val_loss: 0.6654\n",
      "Epoch 9/100\n",
      "\u001b[1m313/313\u001b[0m \u001b[32m━━━━━━━━━━━━━━━━━━━━\u001b[0m\u001b[37m\u001b[0m \u001b[1m21s\u001b[0m 68ms/step - accuracy: 0.6410 - loss: 0.6592 - val_accuracy: 0.6338 - val_loss: 0.6502\n",
      "Epoch 10/100\n",
      "\u001b[1m313/313\u001b[0m \u001b[32m━━━━━━━━━━━━━━━━━━━━\u001b[0m\u001b[37m\u001b[0m \u001b[1m21s\u001b[0m 67ms/step - accuracy: 0.6474 - loss: 0.6419 - val_accuracy: 0.6572 - val_loss: 0.6270\n",
      "Epoch 11/100\n",
      "\u001b[1m313/313\u001b[0m \u001b[32m━━━━━━━━━━━━━━━━━━━━\u001b[0m\u001b[37m\u001b[0m \u001b[1m22s\u001b[0m 69ms/step - accuracy: 0.6753 - loss: 0.6130 - val_accuracy: 0.6958 - val_loss: 0.5877\n",
      "Epoch 12/100\n",
      "\u001b[1m313/313\u001b[0m \u001b[32m━━━━━━━━━━━━━━━━━━━━\u001b[0m\u001b[37m\u001b[0m \u001b[1m24s\u001b[0m 78ms/step - accuracy: 0.7134 - loss: 0.5639 - val_accuracy: 0.7384 - val_loss: 0.5285\n",
      "Epoch 13/100\n",
      "\u001b[1m313/313\u001b[0m \u001b[32m━━━━━━━━━━━━━━━━━━━━\u001b[0m\u001b[37m\u001b[0m \u001b[1m23s\u001b[0m 72ms/step - accuracy: 0.7530 - loss: 0.5091 - val_accuracy: 0.7548 - val_loss: 0.5026\n",
      "Epoch 14/100\n",
      "\u001b[1m313/313\u001b[0m \u001b[32m━━━━━━━━━━━━━━━━━━━━\u001b[0m\u001b[37m\u001b[0m \u001b[1m23s\u001b[0m 72ms/step - accuracy: 0.7684 - loss: 0.4870 - val_accuracy: 0.7598 - val_loss: 0.5000\n",
      "Epoch 15/100\n",
      "\u001b[1m313/313\u001b[0m \u001b[32m━━━━━━━━━━━━━━━━━━━━\u001b[0m\u001b[37m\u001b[0m \u001b[1m23s\u001b[0m 74ms/step - accuracy: 0.7788 - loss: 0.4729 - val_accuracy: 0.7696 - val_loss: 0.4856\n",
      "Epoch 16/100\n",
      "\u001b[1m313/313\u001b[0m \u001b[32m━━━━━━━━━━━━━━━━━━━━\u001b[0m\u001b[37m\u001b[0m \u001b[1m23s\u001b[0m 72ms/step - accuracy: 0.7848 - loss: 0.4676 - val_accuracy: 0.7780 - val_loss: 0.4706\n",
      "Epoch 17/100\n",
      "\u001b[1m313/313\u001b[0m \u001b[32m━━━━━━━━━━━━━━━━━━━━\u001b[0m\u001b[37m\u001b[0m \u001b[1m23s\u001b[0m 72ms/step - accuracy: 0.7893 - loss: 0.4571 - val_accuracy: 0.7830 - val_loss: 0.4677\n",
      "Epoch 18/100\n",
      "\u001b[1m313/313\u001b[0m \u001b[32m━━━━━━━━━━━━━━━━━━━━\u001b[0m\u001b[37m\u001b[0m \u001b[1m23s\u001b[0m 72ms/step - accuracy: 0.7972 - loss: 0.4521 - val_accuracy: 0.7812 - val_loss: 0.4646\n",
      "Epoch 19/100\n",
      "\u001b[1m313/313\u001b[0m \u001b[32m━━━━━━━━━━━━━━━━━━━━\u001b[0m\u001b[37m\u001b[0m \u001b[1m23s\u001b[0m 73ms/step - accuracy: 0.8041 - loss: 0.4410 - val_accuracy: 0.7874 - val_loss: 0.4583\n",
      "Epoch 20/100\n",
      "\u001b[1m313/313\u001b[0m \u001b[32m━━━━━━━━━━━━━━━━━━━━\u001b[0m\u001b[37m\u001b[0m \u001b[1m22s\u001b[0m 71ms/step - accuracy: 0.8051 - loss: 0.4377 - val_accuracy: 0.7844 - val_loss: 0.4613\n",
      "Epoch 21/100\n",
      "\u001b[1m313/313\u001b[0m \u001b[32m━━━━━━━━━━━━━━━━━━━━\u001b[0m\u001b[37m\u001b[0m \u001b[1m22s\u001b[0m 71ms/step - accuracy: 0.8042 - loss: 0.4360 - val_accuracy: 0.7890 - val_loss: 0.4556\n",
      "Epoch 22/100\n",
      "\u001b[1m313/313\u001b[0m \u001b[32m━━━━━━━━━━━━━━━━━━━━\u001b[0m\u001b[37m\u001b[0m \u001b[1m23s\u001b[0m 74ms/step - accuracy: 0.8070 - loss: 0.4355 - val_accuracy: 0.7906 - val_loss: 0.4520\n",
      "Epoch 23/100\n",
      "\u001b[1m313/313\u001b[0m \u001b[32m━━━━━━━━━━━━━━━━━━━━\u001b[0m\u001b[37m\u001b[0m \u001b[1m21s\u001b[0m 68ms/step - accuracy: 0.8097 - loss: 0.4315 - val_accuracy: 0.7902 - val_loss: 0.4524\n",
      "Epoch 24/100\n",
      "\u001b[1m313/313\u001b[0m \u001b[32m━━━━━━━━━━━━━━━━━━━━\u001b[0m\u001b[37m\u001b[0m \u001b[1m22s\u001b[0m 70ms/step - accuracy: 0.8111 - loss: 0.4237 - val_accuracy: 0.7852 - val_loss: 0.4618\n",
      "Epoch 25/100\n",
      "\u001b[1m313/313\u001b[0m \u001b[32m━━━━━━━━━━━━━━━━━━━━\u001b[0m\u001b[37m\u001b[0m \u001b[1m22s\u001b[0m 70ms/step - accuracy: 0.8099 - loss: 0.4269 - val_accuracy: 0.7900 - val_loss: 0.4537\n"
     ]
    }
   ],
   "source": [
    "rmsprop = keras.optimizers.RMSprop(learning_rate=1e-4)\n",
    "model4.compile(optimizer=rmsprop, loss='binary_crossentropy', metrics=['accuracy'])\n",
    "checkpoint_cb = keras.callbacks.ModelCheckpoint('best-gru-model.keras', save_best_only=True)\n",
    "early_stopping_cb = keras.callbacks.EarlyStopping(patience=3, restore_best_weights=True)\n",
    "\n",
    "history = model4.fit(train_seq, y_train, epochs=100, batch_size=64,\n",
    "                    validation_data=(val_seq, y_val), callbacks=[checkpoint_cb, early_stopping_cb])"
   ]
  },
  {
   "cell_type": "code",
   "execution_count": 82,
   "id": "4d4a6942-cbc4-4326-b9a0-21df9af202c6",
   "metadata": {},
   "outputs": [
    {
     "data": {
      "image/png": "[encoded data removed]",
      "text/plain": [
       "<Figure size 640x480 with 1 Axes>"
      ]
     },
     "metadata": {},
     "output_type": "display_data"
    }
   ],
   "source": [
    "plt.plot(history.history['loss'])\n",
    "plt.plot(history.history['val_loss'])\n",
    "plt.xlabel('epoch')\n",
    "plt.ylabel('loss')\n",
    "plt.legend(['train', 'val'])\n",
    "plt.show()"
   ]
  },
  {
   "cell_type": "code",
   "execution_count": 84,
   "id": "1588277a-e7b4-4ca1-b20a-b6fba9a1c0b4",
   "metadata": {},
   "outputs": [
    {
     "name": "stdout",
     "output_type": "stream",
     "text": [
      "\u001b[1m157/157\u001b[0m \u001b[32m━━━━━━━━━━━━━━━━━━━━\u001b[0m\u001b[37m\u001b[0m \u001b[1m2s\u001b[0m 14ms/step - accuracy: 0.7886 - loss: 0.4556\n"
     ]
    },
    {
     "data": {
      "text/plain": [
       "[0.4519541561603546, 0.7906000018119812]"
      ]
     },
     "execution_count": 84,
     "metadata": {},
     "output_type": "execute_result"
    }
   ],
   "source": [
    "model4.evaluate(val_seq, y_val)"
   ]
  }
 ],
 "metadata": {
  "kernelspec": {
   "display_name": "Python 3 (ipykernel)",
   "language": "python",
   "name": "python3"
  },
  "language_info": {
   "codemirror_mode": {
    "name": "ipython",
    "version": 3
   },
   "file_extension": ".py",
   "mimetype": "text/x-python",
   "name": "python",
   "nbconvert_exporter": "python",
   "pygments_lexer": "ipython3",
   "version": "3.12.4"
  }
 },
 "nbformat": 4,
 "nbformat_minor": 5
}
