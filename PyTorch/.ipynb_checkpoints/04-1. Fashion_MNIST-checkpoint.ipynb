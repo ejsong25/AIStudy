{
 "cells": [
  {
   "cell_type": "markdown",
   "id": "7c0ce60f",
   "metadata": {},
   "source": [
    "# DNN\n",
    "fashion MNIST 데이터 셋을 활용해 classification을 해보자. \n",
    "\n",
    "1️⃣ Fashion MNIST 데이터 살펴보기\n"
   ]
  },
  {
   "cell_type": "code",
   "execution_count": 3,
   "id": "23bd6e54",
   "metadata": {},
   "outputs": [],
   "source": [
    "from torchvision import datasets, transforms, utils # 이미지 데이터 조작\n",
    "from torch.utils import data # 데이터 로드 및 조작"
   ]
  },
  {
   "cell_type": "code",
   "execution_count": 4,
   "id": "7e2aa753",
   "metadata": {},
   "outputs": [],
   "source": [
    "import matplotlib.pyplot as plt\n",
    "import numpy as np"
   ]
  },
  {
   "cell_type": "markdown",
   "id": "9642b770",
   "metadata": {},
   "source": [
    "## torchvision\n",
    "PyTorch에는 이미지 데이터를 위한 torchvision 모듈을 제공한다.  \n",
    "> - transforms : 이미지 변형\n",
    ">     - ToTensor() , Resize(), Normalize() 등 제공\n",
    ">     - Compose()안의 List로 전달하면 순서대로 변형이 진행된다.\n",
    "> - utils : 이미지 시각화 도구 제공\n",
    "    - make_grid() : 여러 이미지를 모아 하나의 이미지를 만든다."
   ]
  },
  {
   "cell_type": "code",
   "execution_count": 5,
   "id": "ca5cc02e",
   "metadata": {},
   "outputs": [],
   "source": [
    "transform = transforms.Compose([\n",
    "    transforms.ToTensor() # tensor로 변형\n",
    "])"
   ]
  },
  {
   "cell_type": "markdown",
   "id": "66c743d7",
   "metadata": {},
   "source": [
    "### Load Fashion MNIST Data\n",
    "> - Fashion MNIST Data  \n",
    ">   - Train, Test용으로 나뉘어 있어 train 매개변수를 통해 나눠서 불러온다.  \n",
    ">   - 28 * 28 크기의 흑백 이미지이므로 shape은 (28, 28, 1)이다. 즉 784개의 픽셀로 구성된다.\n",
    "\n",
    "#### 불러올 데이터 정의"
   ]
  },
  {
   "cell_type": "code",
   "execution_count": 10,
   "id": "8cea17d4",
   "metadata": {},
   "outputs": [],
   "source": [
    "trainset = datasets.FashionMNIST(\n",
    "    root = './.data/',\n",
    "    train = True, # 훈련용 데이터\n",
    "    download = True, # root 경로에 없으면 download\n",
    "    transform = transform # load시 적용할 filters\n",
    ")\n",
    "testset = datasets.FashionMNIST(\n",
    "    root = './.data/',\n",
    "    train = False,\n",
    "    download = True,\n",
    "    transform = transform\n",
    ")"
   ]
  },
  {
   "cell_type": "markdown",
   "id": "97ba6718",
   "metadata": {},
   "source": [
    "#### Load Data\n",
    "torch.utils.data.DataLoader  \n",
    "데이터 셋을 배치 단위로 쪼개서 학습 시 반복문 시 배치단위로 데이터를 공급한다.\n",
    "> -  배치 : 한 번에 처리하는 데이터 수"
   ]
  },
  {
   "cell_type": "code",
   "execution_count": 11,
   "id": "f809fb3d",
   "metadata": {},
   "outputs": [],
   "source": [
    "batch_size = 16\n",
    "\n",
    "train_loader = data.DataLoader(\n",
    "    dataset = trainset,\n",
    "    batch_size = batch_size\n",
    ")\n",
    "\n",
    "test_loader = data.DataLoader(\n",
    "    dataset = testset,\n",
    "    batch_size = batch_size\n",
    ")"
   ]
  },
  {
   "cell_type": "markdown",
   "id": "15b9dbd3",
   "metadata": {},
   "source": [
    "배치 하나의 데이터를 출력해보자.  \n",
    "batch_size = 16이므로 배치 하나에는 16개의 image와 label이 있을 것이다.\n"
   ]
  },
  {
   "cell_type": "code",
   "execution_count": 13,
   "id": "cfde9d63",
   "metadata": {},
   "outputs": [],
   "source": [
    "dataiter = iter(train_loader)\n",
    "images, labels = next(dataiter)"
   ]
  },
  {
   "cell_type": "markdown",
   "id": "14d3b2a2",
   "metadata": {},
   "source": [
    "1. torchvision.utils.make_grid()를 통해 여러 이미지를 모아 하나의 이미지로 만든다.  \n",
    "1. 시각화를 위해 현재 데이터는 tensor type이므로 matplotlib과 호환이 좋은 numpy 배열로 변환하자.  \n",
    "1. plt.figure()를 통해 자리를 만들고 plt.imshow()를 통해 시각화하자."
   ]
  },
  {
   "cell_type": "code",
   "execution_count": 14,
   "id": "b569a48b",
   "metadata": {},
   "outputs": [
    {
     "data": {
      "image/png": "[encoded data removed]",
      "text/plain": [
       "<Figure size 1000x700 with 1 Axes>"
      ]
     },
     "metadata": {},
     "output_type": "display_data"
    }
   ],
   "source": [
    "img = utils.make_grid(images, padding=0)\n",
    "img_np = img.numpy()\n",
    "plt.figure(figsize=(10, 7))\n",
    "plt.imshow(np.transpose(img_np, (1, 2, 0)))\n",
    "plt.show()"
   ]
  },
  {
   "cell_type": "code",
   "execution_count": 15,
   "id": "853856b4",
   "metadata": {},
   "outputs": [
    {
     "data": {
      "text/plain": [
       "tensor([9, 0, 0, 3, 0, 2, 7, 2, 5, 5, 0, 9, 5, 5, 7, 9])"
      ]
     },
     "execution_count": 15,
     "metadata": {},
     "output_type": "execute_result"
    }
   ],
   "source": [
    "labels"
   ]
  },
  {
   "cell_type": "code",
   "execution_count": 16,
   "id": "15923e0c",
   "metadata": {},
   "outputs": [],
   "source": [
    "# Fashion MNIST 데이터는 총 10가지 카테고리 데이테를 제공한다.\n",
    "CLASSES = {\n",
    "    0: 'T-shirt/top',\n",
    "    1: 'Trouser',\n",
    "    2: 'Pullover',\n",
    "    3: 'Dress',\n",
    "    4: 'Coat',\n",
    "    5: 'Sandal',\n",
    "    6: 'Shirt',\n",
    "    7: 'Sneaker',\n",
    "    8: 'Bag',\n",
    "    9: 'Ankle boot'\n",
    "}"
   ]
  },
  {
   "cell_type": "code",
   "execution_count": 18,
   "id": "144f6bc2",
   "metadata": {
    "scrolled": true
   },
   "outputs": [
    {
     "name": "stdout",
     "output_type": "stream",
     "text": [
      "Ankle boot\n",
      "T-shirt/top\n",
      "T-shirt/top\n",
      "Dress\n",
      "T-shirt/top\n",
      "Pullover\n",
      "Sneaker\n",
      "Pullover\n",
      "Sandal\n",
      "Sandal\n",
      "T-shirt/top\n",
      "Ankle boot\n",
      "Sandal\n",
      "Sandal\n",
      "Sneaker\n",
      "Ankle boot\n"
     ]
    }
   ],
   "source": [
    "for label in labels:\n",
    "    label = label.item()\n",
    "    print(CLASSES[label])"
   ]
  },
  {
   "cell_type": "markdown",
   "id": "1ecd5788",
   "metadata": {},
   "source": [
    "개별 이미지를 살펴보자."
   ]
  },
  {
   "cell_type": "code",
   "execution_count": 19,
   "id": "e68ab8d9",
   "metadata": {},
   "outputs": [
    {
     "data": {
      "text/plain": [
       "torch.Size([1, 28, 28])"
      ]
     },
     "execution_count": 19,
     "metadata": {},
     "output_type": "execute_result"
    }
   ],
   "source": [
    "idx = 1\n",
    "single_img = images[idx]\n",
    "single_img.shape"
   ]
  },
  {
   "cell_type": "code",
   "execution_count": 21,
   "id": "19ade183",
   "metadata": {},
   "outputs": [
    {
     "data": {
      "text/plain": [
       "(28, 28)"
      ]
     },
     "execution_count": 21,
     "metadata": {},
     "output_type": "execute_result"
    }
   ],
   "source": [
    "single_np_img = single_img.squeeze().numpy()\n",
    "single_np_img.shape"
   ]
  },
  {
   "cell_type": "code",
   "execution_count": 23,
   "id": "7d067dc9",
   "metadata": {},
   "outputs": [
    {
     "data": {
      "image/png": "[encoded data removed]",
      "text/plain": [
       "<Figure size 640x480 with 1 Axes>"
      ]
     },
     "metadata": {},
     "output_type": "display_data"
    }
   ],
   "source": [
    "plt.title(CLASSES[labels[idx].item()])\n",
    "plt.imshow(single_np_img, cmap='gray')\n",
    "plt.show()"
   ]
  }
 ],
 "metadata": {
  "kernelspec": {
   "display_name": "Python 3 (ipykernel)",
   "language": "python",
   "name": "python3"
  },
  "language_info": {
   "codemirror_mode": {
    "name": "ipython",
    "version": 3
   },
   "file_extension": ".py",
   "mimetype": "text/x-python",
   "name": "python",
   "nbconvert_exporter": "python",
   "pygments_lexer": "ipython3",
   "version": "3.7.16"
  }
 },
 "nbformat": 4,
 "nbformat_minor": 5
}
