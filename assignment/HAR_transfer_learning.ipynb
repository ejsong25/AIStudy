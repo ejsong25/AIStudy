{
 "cells": [
  {
   "cell_type": "markdown",
   "id": "23c6dea3-554e-4c11-9fac-77976d085bd1",
   "metadata": {},
   "source": [
    "## 목표  \n",
    "미세조정 학습에 대해 알아보고 처음부터 모델을 설계하는 것과 미세 조정 모델간의 차이에 대해 알아보자.\n"
   ]
  },
  {
   "cell_type": "code",
   "execution_count": null,
   "id": "cce6532f-6eff-4ee7-8172-b82461d97bcf",
   "metadata": {},
   "outputs": [],
   "source": []
  },
  {
   "cell_type": "markdown",
   "id": "856fbb63-03b6-43db-936d-f7440cd2ac28",
   "metadata": {},
   "source": [
    "# Load Data"
   ]
  },
  {
   "cell_type": "code",
   "execution_count": 3,
   "id": "a4bbf68a-0361-44b8-a5b6-aee70c53dce0",
   "metadata": {},
   "outputs": [],
   "source": [
    "import pandas as pd\n",
    "from sklearn.model_selection import StratifiedShuffleSplit\n",
    "from scipy.stats import skew\n",
    "import os\n",
    "import csv\n",
    "import pandas as pd\n",
    "from tqdm import tqdm"
   ]
  },
  {
   "cell_type": "code",
   "execution_count": 4,
   "id": "58f7f366-c809-45ba-8799-cb3cfcd5e223",
   "metadata": {},
   "outputs": [
    {
     "data": {
      "text/html": [
       "<div>\n",
       "<style scoped>\n",
       "    .dataframe tbody tr th:only-of-type {\n",
       "        vertical-align: middle;\n",
       "    }\n",
       "\n",
       "    .dataframe tbody tr th {\n",
       "        vertical-align: top;\n",
       "    }\n",
       "\n",
       "    .dataframe thead th {\n",
       "        text-align: right;\n",
       "    }\n",
       "</style>\n",
       "<table border=\"1\" class=\"dataframe\">\n",
       "  <thead>\n",
       "    <tr style=\"text-align: right;\">\n",
       "      <th></th>\n",
       "      <th>T_xacc_mean</th>\n",
       "      <th>T_xacc_max</th>\n",
       "      <th>T_xacc_min</th>\n",
       "      <th>T_xacc_var</th>\n",
       "      <th>T_xacc_std</th>\n",
       "      <th>T_xacc_skew</th>\n",
       "      <th>T_yacc_mean</th>\n",
       "      <th>T_yacc_max</th>\n",
       "      <th>T_yacc_min</th>\n",
       "      <th>T_yacc_var</th>\n",
       "      <th>...</th>\n",
       "      <th>LL_ymag_std</th>\n",
       "      <th>LL_ymag_skew</th>\n",
       "      <th>LL_zmag_mean</th>\n",
       "      <th>LL_zmag_max</th>\n",
       "      <th>LL_zmag_min</th>\n",
       "      <th>LL_zmag_var</th>\n",
       "      <th>LL_zmag_std</th>\n",
       "      <th>LL_zmag_skew</th>\n",
       "      <th>activity</th>\n",
       "      <th>people</th>\n",
       "    </tr>\n",
       "  </thead>\n",
       "  <tbody>\n",
       "    <tr>\n",
       "      <th>0</th>\n",
       "      <td>7.975714</td>\n",
       "      <td>8.1605</td>\n",
       "      <td>7.6823</td>\n",
       "      <td>0.014395</td>\n",
       "      <td>0.119981</td>\n",
       "      <td>-0.023319</td>\n",
       "      <td>1.083150</td>\n",
       "      <td>1.1832</td>\n",
       "      <td>0.99744</td>\n",
       "      <td>0.002208</td>\n",
       "      <td>...</td>\n",
       "      <td>0.000792</td>\n",
       "      <td>0.177075</td>\n",
       "      <td>-0.057119</td>\n",
       "      <td>-0.054963</td>\n",
       "      <td>-0.059241</td>\n",
       "      <td>6.778722e-07</td>\n",
       "      <td>0.000823</td>\n",
       "      <td>0.036729</td>\n",
       "      <td>sitting</td>\n",
       "      <td>p1</td>\n",
       "    </tr>\n",
       "    <tr>\n",
       "      <th>1</th>\n",
       "      <td>7.978250</td>\n",
       "      <td>8.1763</td>\n",
       "      <td>7.8472</td>\n",
       "      <td>0.007551</td>\n",
       "      <td>0.086896</td>\n",
       "      <td>0.552416</td>\n",
       "      <td>1.140865</td>\n",
       "      <td>1.2129</td>\n",
       "      <td>1.05810</td>\n",
       "      <td>0.000784</td>\n",
       "      <td>...</td>\n",
       "      <td>0.000860</td>\n",
       "      <td>-0.286918</td>\n",
       "      <td>-0.057268</td>\n",
       "      <td>-0.054945</td>\n",
       "      <td>-0.059589</td>\n",
       "      <td>7.032302e-07</td>\n",
       "      <td>0.000839</td>\n",
       "      <td>0.347471</td>\n",
       "      <td>sitting</td>\n",
       "      <td>p1</td>\n",
       "    </tr>\n",
       "    <tr>\n",
       "      <th>2</th>\n",
       "      <td>7.970894</td>\n",
       "      <td>8.0860</td>\n",
       "      <td>7.8470</td>\n",
       "      <td>0.003092</td>\n",
       "      <td>0.055603</td>\n",
       "      <td>0.100538</td>\n",
       "      <td>1.140962</td>\n",
       "      <td>1.2128</td>\n",
       "      <td>1.07960</td>\n",
       "      <td>0.000508</td>\n",
       "      <td>...</td>\n",
       "      <td>0.000762</td>\n",
       "      <td>-0.134430</td>\n",
       "      <td>-0.057068</td>\n",
       "      <td>-0.054711</td>\n",
       "      <td>-0.059065</td>\n",
       "      <td>6.268222e-07</td>\n",
       "      <td>0.000792</td>\n",
       "      <td>0.045579</td>\n",
       "      <td>sitting</td>\n",
       "      <td>p1</td>\n",
       "    </tr>\n",
       "    <tr>\n",
       "      <th>3</th>\n",
       "      <td>7.938412</td>\n",
       "      <td>8.1083</td>\n",
       "      <td>7.6901</td>\n",
       "      <td>0.003763</td>\n",
       "      <td>0.061343</td>\n",
       "      <td>-0.231914</td>\n",
       "      <td>1.165260</td>\n",
       "      <td>1.3170</td>\n",
       "      <td>1.07870</td>\n",
       "      <td>0.002173</td>\n",
       "      <td>...</td>\n",
       "      <td>0.000735</td>\n",
       "      <td>0.021485</td>\n",
       "      <td>-0.056422</td>\n",
       "      <td>-0.053670</td>\n",
       "      <td>-0.058310</td>\n",
       "      <td>8.011245e-07</td>\n",
       "      <td>0.000895</td>\n",
       "      <td>0.240690</td>\n",
       "      <td>sitting</td>\n",
       "      <td>p1</td>\n",
       "    </tr>\n",
       "    <tr>\n",
       "      <th>4</th>\n",
       "      <td>7.908930</td>\n",
       "      <td>8.1305</td>\n",
       "      <td>7.8322</td>\n",
       "      <td>0.001741</td>\n",
       "      <td>0.041731</td>\n",
       "      <td>2.042285</td>\n",
       "      <td>1.187504</td>\n",
       "      <td>1.2574</td>\n",
       "      <td>1.09450</td>\n",
       "      <td>0.000662</td>\n",
       "      <td>...</td>\n",
       "      <td>0.000824</td>\n",
       "      <td>-0.148229</td>\n",
       "      <td>-0.055801</td>\n",
       "      <td>-0.053313</td>\n",
       "      <td>-0.057815</td>\n",
       "      <td>6.853423e-07</td>\n",
       "      <td>0.000828</td>\n",
       "      <td>0.258429</td>\n",
       "      <td>sitting</td>\n",
       "      <td>p1</td>\n",
       "    </tr>\n",
       "    <tr>\n",
       "      <th>...</th>\n",
       "      <td>...</td>\n",
       "      <td>...</td>\n",
       "      <td>...</td>\n",
       "      <td>...</td>\n",
       "      <td>...</td>\n",
       "      <td>...</td>\n",
       "      <td>...</td>\n",
       "      <td>...</td>\n",
       "      <td>...</td>\n",
       "      <td>...</td>\n",
       "      <td>...</td>\n",
       "      <td>...</td>\n",
       "      <td>...</td>\n",
       "      <td>...</td>\n",
       "      <td>...</td>\n",
       "      <td>...</td>\n",
       "      <td>...</td>\n",
       "      <td>...</td>\n",
       "      <td>...</td>\n",
       "      <td>...</td>\n",
       "      <td>...</td>\n",
       "    </tr>\n",
       "    <tr>\n",
       "      <th>9115</th>\n",
       "      <td>8.280854</td>\n",
       "      <td>34.1980</td>\n",
       "      <td>-2.9038</td>\n",
       "      <td>28.080803</td>\n",
       "      <td>5.299132</td>\n",
       "      <td>1.350075</td>\n",
       "      <td>-1.491537</td>\n",
       "      <td>11.2240</td>\n",
       "      <td>-11.65100</td>\n",
       "      <td>14.670334</td>\n",
       "      <td>...</td>\n",
       "      <td>0.200829</td>\n",
       "      <td>-0.040701</td>\n",
       "      <td>0.297666</td>\n",
       "      <td>0.708480</td>\n",
       "      <td>-0.117430</td>\n",
       "      <td>4.135451e-02</td>\n",
       "      <td>0.203358</td>\n",
       "      <td>-0.310022</td>\n",
       "      <td>basketBall</td>\n",
       "      <td>p8</td>\n",
       "    </tr>\n",
       "    <tr>\n",
       "      <th>9116</th>\n",
       "      <td>9.591118</td>\n",
       "      <td>51.6970</td>\n",
       "      <td>-3.4129</td>\n",
       "      <td>35.722025</td>\n",
       "      <td>5.976791</td>\n",
       "      <td>2.981144</td>\n",
       "      <td>0.086304</td>\n",
       "      <td>6.9951</td>\n",
       "      <td>-11.76400</td>\n",
       "      <td>5.329897</td>\n",
       "      <td>...</td>\n",
       "      <td>0.148745</td>\n",
       "      <td>-0.266377</td>\n",
       "      <td>0.224716</td>\n",
       "      <td>0.554670</td>\n",
       "      <td>-0.250950</td>\n",
       "      <td>3.355704e-02</td>\n",
       "      <td>0.183186</td>\n",
       "      <td>-0.736410</td>\n",
       "      <td>basketBall</td>\n",
       "      <td>p8</td>\n",
       "    </tr>\n",
       "    <tr>\n",
       "      <th>9117</th>\n",
       "      <td>9.599113</td>\n",
       "      <td>27.9300</td>\n",
       "      <td>-1.0765</td>\n",
       "      <td>48.850886</td>\n",
       "      <td>6.989341</td>\n",
       "      <td>0.449237</td>\n",
       "      <td>-0.728367</td>\n",
       "      <td>3.7801</td>\n",
       "      <td>-8.36910</td>\n",
       "      <td>5.683022</td>\n",
       "      <td>...</td>\n",
       "      <td>0.310748</td>\n",
       "      <td>-0.009505</td>\n",
       "      <td>-0.237786</td>\n",
       "      <td>0.088854</td>\n",
       "      <td>-0.477260</td>\n",
       "      <td>2.026107e-02</td>\n",
       "      <td>0.142341</td>\n",
       "      <td>0.668438</td>\n",
       "      <td>basketBall</td>\n",
       "      <td>p8</td>\n",
       "    </tr>\n",
       "    <tr>\n",
       "      <th>9118</th>\n",
       "      <td>9.692482</td>\n",
       "      <td>72.7820</td>\n",
       "      <td>-2.6734</td>\n",
       "      <td>59.378336</td>\n",
       "      <td>7.705734</td>\n",
       "      <td>4.491114</td>\n",
       "      <td>-0.582724</td>\n",
       "      <td>6.1216</td>\n",
       "      <td>-8.85710</td>\n",
       "      <td>4.162963</td>\n",
       "      <td>...</td>\n",
       "      <td>0.156493</td>\n",
       "      <td>0.050624</td>\n",
       "      <td>0.533023</td>\n",
       "      <td>0.677800</td>\n",
       "      <td>0.055941</td>\n",
       "      <td>1.356379e-02</td>\n",
       "      <td>0.116464</td>\n",
       "      <td>-1.482489</td>\n",
       "      <td>basketBall</td>\n",
       "      <td>p8</td>\n",
       "    </tr>\n",
       "    <tr>\n",
       "      <th>9119</th>\n",
       "      <td>9.380641</td>\n",
       "      <td>45.0090</td>\n",
       "      <td>-3.5938</td>\n",
       "      <td>40.459334</td>\n",
       "      <td>6.360765</td>\n",
       "      <td>1.688626</td>\n",
       "      <td>-0.266325</td>\n",
       "      <td>5.8603</td>\n",
       "      <td>-6.91970</td>\n",
       "      <td>4.017098</td>\n",
       "      <td>...</td>\n",
       "      <td>0.229154</td>\n",
       "      <td>-0.342228</td>\n",
       "      <td>0.491919</td>\n",
       "      <td>0.707920</td>\n",
       "      <td>0.251280</td>\n",
       "      <td>9.358254e-03</td>\n",
       "      <td>0.096738</td>\n",
       "      <td>-0.223302</td>\n",
       "      <td>basketBall</td>\n",
       "      <td>p8</td>\n",
       "    </tr>\n",
       "  </tbody>\n",
       "</table>\n",
       "<p>9120 rows × 272 columns</p>\n",
       "</div>"
      ],
      "text/plain": [
       "      T_xacc_mean  T_xacc_max  T_xacc_min  T_xacc_var  T_xacc_std  \\\n",
       "0        7.975714      8.1605      7.6823    0.014395    0.119981   \n",
       "1        7.978250      8.1763      7.8472    0.007551    0.086896   \n",
       "2        7.970894      8.0860      7.8470    0.003092    0.055603   \n",
       "3        7.938412      8.1083      7.6901    0.003763    0.061343   \n",
       "4        7.908930      8.1305      7.8322    0.001741    0.041731   \n",
       "...           ...         ...         ...         ...         ...   \n",
       "9115     8.280854     34.1980     -2.9038   28.080803    5.299132   \n",
       "9116     9.591118     51.6970     -3.4129   35.722025    5.976791   \n",
       "9117     9.599113     27.9300     -1.0765   48.850886    6.989341   \n",
       "9118     9.692482     72.7820     -2.6734   59.378336    7.705734   \n",
       "9119     9.380641     45.0090     -3.5938   40.459334    6.360765   \n",
       "\n",
       "      T_xacc_skew  T_yacc_mean  T_yacc_max  T_yacc_min  T_yacc_var  ...  \\\n",
       "0       -0.023319     1.083150      1.1832     0.99744    0.002208  ...   \n",
       "1        0.552416     1.140865      1.2129     1.05810    0.000784  ...   \n",
       "2        0.100538     1.140962      1.2128     1.07960    0.000508  ...   \n",
       "3       -0.231914     1.165260      1.3170     1.07870    0.002173  ...   \n",
       "4        2.042285     1.187504      1.2574     1.09450    0.000662  ...   \n",
       "...           ...          ...         ...         ...         ...  ...   \n",
       "9115     1.350075    -1.491537     11.2240   -11.65100   14.670334  ...   \n",
       "9116     2.981144     0.086304      6.9951   -11.76400    5.329897  ...   \n",
       "9117     0.449237    -0.728367      3.7801    -8.36910    5.683022  ...   \n",
       "9118     4.491114    -0.582724      6.1216    -8.85710    4.162963  ...   \n",
       "9119     1.688626    -0.266325      5.8603    -6.91970    4.017098  ...   \n",
       "\n",
       "      LL_ymag_std  LL_ymag_skew  LL_zmag_mean  LL_zmag_max  LL_zmag_min  \\\n",
       "0        0.000792      0.177075     -0.057119    -0.054963    -0.059241   \n",
       "1        0.000860     -0.286918     -0.057268    -0.054945    -0.059589   \n",
       "2        0.000762     -0.134430     -0.057068    -0.054711    -0.059065   \n",
       "3        0.000735      0.021485     -0.056422    -0.053670    -0.058310   \n",
       "4        0.000824     -0.148229     -0.055801    -0.053313    -0.057815   \n",
       "...           ...           ...           ...          ...          ...   \n",
       "9115     0.200829     -0.040701      0.297666     0.708480    -0.117430   \n",
       "9116     0.148745     -0.266377      0.224716     0.554670    -0.250950   \n",
       "9117     0.310748     -0.009505     -0.237786     0.088854    -0.477260   \n",
       "9118     0.156493      0.050624      0.533023     0.677800     0.055941   \n",
       "9119     0.229154     -0.342228      0.491919     0.707920     0.251280   \n",
       "\n",
       "       LL_zmag_var  LL_zmag_std  LL_zmag_skew    activity  people  \n",
       "0     6.778722e-07     0.000823      0.036729     sitting      p1  \n",
       "1     7.032302e-07     0.000839      0.347471     sitting      p1  \n",
       "2     6.268222e-07     0.000792      0.045579     sitting      p1  \n",
       "3     8.011245e-07     0.000895      0.240690     sitting      p1  \n",
       "4     6.853423e-07     0.000828      0.258429     sitting      p1  \n",
       "...            ...          ...           ...         ...     ...  \n",
       "9115  4.135451e-02     0.203358     -0.310022  basketBall      p8  \n",
       "9116  3.355704e-02     0.183186     -0.736410  basketBall      p8  \n",
       "9117  2.026107e-02     0.142341      0.668438  basketBall      p8  \n",
       "9118  1.356379e-02     0.116464     -1.482489  basketBall      p8  \n",
       "9119  9.358254e-03     0.096738     -0.223302  basketBall      p8  \n",
       "\n",
       "[9120 rows x 272 columns]"
      ]
     },
     "execution_count": 4,
     "metadata": {},
     "output_type": "execute_result"
    }
   ],
   "source": [
    "df = pd.read_csv('./datasets/DSA_features.csv')\n",
    "df"
   ]
  },
  {
   "cell_type": "code",
   "execution_count": 5,
   "id": "7a058e78-7288-4253-b1f8-43c0c6a6460a",
   "metadata": {},
   "outputs": [
    {
     "data": {
      "text/plain": [
       "(9120, 272)"
      ]
     },
     "execution_count": 5,
     "metadata": {},
     "output_type": "execute_result"
    }
   ],
   "source": [
    "df.shape"
   ]
  },
  {
   "cell_type": "code",
   "execution_count": 6,
   "id": "6b2bd2c9-d15b-4577-9a51-1997f5aa1aac",
   "metadata": {},
   "outputs": [
    {
     "data": {
      "text/plain": [
       "array(['p1', 'p2', 'p3', 'p4', 'p5', 'p6', 'p7', 'p8'], dtype=object)"
      ]
     },
     "execution_count": 6,
     "metadata": {},
     "output_type": "execute_result"
    }
   ],
   "source": [
    "df['people'].unique()"
   ]
  },
  {
   "cell_type": "code",
   "execution_count": 7,
   "id": "17b2a037-3f8e-405b-b91f-029f75cbd5ff",
   "metadata": {},
   "outputs": [
    {
     "data": {
      "text/plain": [
       "T_xacc_mean     0\n",
       "T_xacc_max      0\n",
       "T_xacc_min      0\n",
       "T_xacc_var      0\n",
       "T_xacc_std      0\n",
       "               ..\n",
       "LL_zmag_var     0\n",
       "LL_zmag_std     0\n",
       "LL_zmag_skew    0\n",
       "activity        0\n",
       "people          0\n",
       "Length: 272, dtype: int64"
      ]
     },
     "execution_count": 7,
     "metadata": {},
     "output_type": "execute_result"
    }
   ],
   "source": [
    "df.isna().sum()"
   ]
  },
  {
   "cell_type": "code",
   "execution_count": 8,
   "id": "73188fa5-0dc1-4a29-b2fe-fcda366e9042",
   "metadata": {},
   "outputs": [
    {
     "data": {
      "text/plain": [
       "Index(['T_xacc_mean', 'T_xacc_max', 'T_xacc_min', 'T_xacc_var', 'T_xacc_std',\n",
       "       'T_xacc_skew', 'T_yacc_mean', 'T_yacc_max', 'T_yacc_min', 'T_yacc_var',\n",
       "       ...\n",
       "       'LL_ymag_std', 'LL_ymag_skew', 'LL_zmag_mean', 'LL_zmag_max',\n",
       "       'LL_zmag_min', 'LL_zmag_var', 'LL_zmag_std', 'LL_zmag_skew', 'activity',\n",
       "       'people'],\n",
       "      dtype='object', length=272)"
      ]
     },
     "execution_count": 8,
     "metadata": {},
     "output_type": "execute_result"
    }
   ],
   "source": [
    "df.columns"
   ]
  },
  {
   "cell_type": "code",
   "execution_count": 9,
   "id": "eafdbc1c-a9a8-4192-9278-1a5d3b04d9e2",
   "metadata": {},
   "outputs": [
    {
     "data": {
      "text/plain": [
       "activity\n",
       "sitting                    480\n",
       "walkingTreadmillIncline    480\n",
       "jumping                    480\n",
       "rowing                     480\n",
       "cyclingVertical            480\n",
       "cyclingHorizontal          480\n",
       "crossTrainer               480\n",
       "stepper                    480\n",
       "runningTreadmill           480\n",
       "walkingTreadmillFlat       480\n",
       "standing                   480\n",
       "walkingLot                 480\n",
       "movingInElevator           480\n",
       "standingInElevatorStill    480\n",
       "decendingStairs            480\n",
       "ascendingStairs            480\n",
       "lyingRigh                  480\n",
       "lyingBack                  480\n",
       "basketBall                 480\n",
       "Name: count, dtype: int64"
      ]
     },
     "execution_count": 9,
     "metadata": {},
     "output_type": "execute_result"
    }
   ],
   "source": [
    "df['activity'].value_counts()"
   ]
  },
  {
   "cell_type": "code",
   "execution_count": 10,
   "id": "d2768a45-f567-4b06-91dc-ba21b0707035",
   "metadata": {},
   "outputs": [
    {
     "data": {
      "text/plain": [
       "Text(0, 0.5, 'Count')"
      ]
     },
     "execution_count": 10,
     "metadata": {},
     "output_type": "execute_result"
    },
    {
     "data": {
      "image/png": "[encoded data removed]",
      "text/plain": [
       "<Figure size 640x480 with 1 Axes>"
      ]
     },
     "metadata": {},
     "output_type": "display_data"
    }
   ],
   "source": [
    "import pandas as pd\n",
    "import matplotlib.pyplot as plt\n",
    "\n",
    "# 레이블별 갯수 확인\n",
    "label_counts = df['activity'].value_counts()\n",
    "\n",
    "# 바 그래프 그리기\n",
    "label_counts.plot(kind='bar')\n",
    "\n",
    "# 그래프 제목 및 라벨 설정\n",
    "plt.title('Label Count')\n",
    "plt.xlabel('Labels')\n",
    "plt.ylabel('Count')"
   ]
  },
  {
   "cell_type": "markdown",
   "id": "2c28f411-2e04-4238-ba9e-580ec60559c3",
   "metadata": {},
   "source": [
    "## RA, LA 데이터 분리"
   ]
  },
  {
   "cell_type": "code",
   "execution_count": 12,
   "id": "a8d8a5f6-af7f-4dc7-b142-48dae90bc379",
   "metadata": {},
   "outputs": [],
   "source": [
    "df_RA = df.filter(regex='RA_') # 오른팔\n",
    "df_LA = df.filter(regex='LA_') # 왼팔 "
   ]
  },
  {
   "cell_type": "code",
   "execution_count": 13,
   "id": "b44e9ecd-9aa7-471e-9dbb-d5d090983ec5",
   "metadata": {},
   "outputs": [],
   "source": [
    "df_RA.insert(3, 'activity', df['activity'])\n",
    "df_LA.insert(3, 'activity', df['activity'])"
   ]
  },
  {
   "cell_type": "code",
   "execution_count": 14,
   "id": "ff11aba2-2cdc-4b95-bcb2-5efd5301e820",
   "metadata": {},
   "outputs": [
    {
     "data": {
      "text/html": [
       "<div>\n",
       "<style scoped>\n",
       "    .dataframe tbody tr th:only-of-type {\n",
       "        vertical-align: middle;\n",
       "    }\n",
       "\n",
       "    .dataframe tbody tr th {\n",
       "        vertical-align: top;\n",
       "    }\n",
       "\n",
       "    .dataframe thead th {\n",
       "        text-align: right;\n",
       "    }\n",
       "</style>\n",
       "<table border=\"1\" class=\"dataframe\">\n",
       "  <thead>\n",
       "    <tr style=\"text-align: right;\">\n",
       "      <th></th>\n",
       "      <th>RA_xacc_mean</th>\n",
       "      <th>RA_xacc_max</th>\n",
       "      <th>RA_xacc_min</th>\n",
       "      <th>activity</th>\n",
       "      <th>RA_xacc_var</th>\n",
       "      <th>RA_xacc_std</th>\n",
       "      <th>RA_xacc_skew</th>\n",
       "      <th>RA_yacc_mean</th>\n",
       "      <th>RA_yacc_max</th>\n",
       "      <th>RA_yacc_min</th>\n",
       "      <th>...</th>\n",
       "      <th>RA_ymag_min</th>\n",
       "      <th>RA_ymag_var</th>\n",
       "      <th>RA_ymag_std</th>\n",
       "      <th>RA_ymag_skew</th>\n",
       "      <th>RA_zmag_mean</th>\n",
       "      <th>RA_zmag_max</th>\n",
       "      <th>RA_zmag_min</th>\n",
       "      <th>RA_zmag_var</th>\n",
       "      <th>RA_zmag_std</th>\n",
       "      <th>RA_zmag_skew</th>\n",
       "    </tr>\n",
       "  </thead>\n",
       "  <tbody>\n",
       "    <tr>\n",
       "      <th>0</th>\n",
       "      <td>0.679134</td>\n",
       "      <td>0.75930</td>\n",
       "      <td>0.58542</td>\n",
       "      <td>sitting</td>\n",
       "      <td>0.001546</td>\n",
       "      <td>0.039324</td>\n",
       "      <td>-0.415694</td>\n",
       "      <td>5.713088</td>\n",
       "      <td>5.8483</td>\n",
       "      <td>5.5956</td>\n",
       "      <td>...</td>\n",
       "      <td>-0.57428</td>\n",
       "      <td>0.000012</td>\n",
       "      <td>0.003401</td>\n",
       "      <td>-0.052190</td>\n",
       "      <td>-0.211136</td>\n",
       "      <td>-0.18401</td>\n",
       "      <td>-0.24523</td>\n",
       "      <td>0.000044</td>\n",
       "      <td>0.006638</td>\n",
       "      <td>-1.153902</td>\n",
       "    </tr>\n",
       "    <tr>\n",
       "      <th>1</th>\n",
       "      <td>0.644964</td>\n",
       "      <td>0.73158</td>\n",
       "      <td>0.53064</td>\n",
       "      <td>sitting</td>\n",
       "      <td>0.001333</td>\n",
       "      <td>0.036508</td>\n",
       "      <td>0.410625</td>\n",
       "      <td>5.795154</td>\n",
       "      <td>5.9546</td>\n",
       "      <td>5.6687</td>\n",
       "      <td>...</td>\n",
       "      <td>-0.57398</td>\n",
       "      <td>0.000005</td>\n",
       "      <td>0.002216</td>\n",
       "      <td>0.222740</td>\n",
       "      <td>-0.206431</td>\n",
       "      <td>-0.18054</td>\n",
       "      <td>-0.23624</td>\n",
       "      <td>0.000032</td>\n",
       "      <td>0.005660</td>\n",
       "      <td>0.458427</td>\n",
       "    </tr>\n",
       "    <tr>\n",
       "      <th>2</th>\n",
       "      <td>0.608212</td>\n",
       "      <td>0.67737</td>\n",
       "      <td>0.53546</td>\n",
       "      <td>sitting</td>\n",
       "      <td>0.000637</td>\n",
       "      <td>0.025244</td>\n",
       "      <td>0.153302</td>\n",
       "      <td>5.833086</td>\n",
       "      <td>5.8918</td>\n",
       "      <td>5.7656</td>\n",
       "      <td>...</td>\n",
       "      <td>-0.57563</td>\n",
       "      <td>0.000004</td>\n",
       "      <td>0.001954</td>\n",
       "      <td>-0.221765</td>\n",
       "      <td>-0.205648</td>\n",
       "      <td>-0.18342</td>\n",
       "      <td>-0.22933</td>\n",
       "      <td>0.000024</td>\n",
       "      <td>0.004868</td>\n",
       "      <td>-0.984915</td>\n",
       "    </tr>\n",
       "    <tr>\n",
       "      <th>3</th>\n",
       "      <td>0.591138</td>\n",
       "      <td>0.71177</td>\n",
       "      <td>0.51524</td>\n",
       "      <td>sitting</td>\n",
       "      <td>0.001349</td>\n",
       "      <td>0.036731</td>\n",
       "      <td>0.525019</td>\n",
       "      <td>5.863846</td>\n",
       "      <td>5.9645</td>\n",
       "      <td>5.7556</td>\n",
       "      <td>...</td>\n",
       "      <td>-0.57858</td>\n",
       "      <td>0.000007</td>\n",
       "      <td>0.002688</td>\n",
       "      <td>0.075011</td>\n",
       "      <td>-0.203739</td>\n",
       "      <td>-0.17999</td>\n",
       "      <td>-0.22958</td>\n",
       "      <td>0.000026</td>\n",
       "      <td>0.005099</td>\n",
       "      <td>0.185634</td>\n",
       "    </tr>\n",
       "    <tr>\n",
       "      <th>4</th>\n",
       "      <td>0.558168</td>\n",
       "      <td>0.67190</td>\n",
       "      <td>0.50535</td>\n",
       "      <td>sitting</td>\n",
       "      <td>0.000626</td>\n",
       "      <td>0.025020</td>\n",
       "      <td>1.076782</td>\n",
       "      <td>5.884745</td>\n",
       "      <td>5.9401</td>\n",
       "      <td>5.8384</td>\n",
       "      <td>...</td>\n",
       "      <td>-0.57996</td>\n",
       "      <td>0.000005</td>\n",
       "      <td>0.002278</td>\n",
       "      <td>-0.219440</td>\n",
       "      <td>-0.203684</td>\n",
       "      <td>-0.17904</td>\n",
       "      <td>-0.22924</td>\n",
       "      <td>0.000027</td>\n",
       "      <td>0.005175</td>\n",
       "      <td>-0.820907</td>\n",
       "    </tr>\n",
       "  </tbody>\n",
       "</table>\n",
       "<p>5 rows × 55 columns</p>\n",
       "</div>"
      ],
      "text/plain": [
       "   RA_xacc_mean  RA_xacc_max  RA_xacc_min activity  RA_xacc_var  RA_xacc_std  \\\n",
       "0      0.679134      0.75930      0.58542  sitting     0.001546     0.039324   \n",
       "1      0.644964      0.73158      0.53064  sitting     0.001333     0.036508   \n",
       "2      0.608212      0.67737      0.53546  sitting     0.000637     0.025244   \n",
       "3      0.591138      0.71177      0.51524  sitting     0.001349     0.036731   \n",
       "4      0.558168      0.67190      0.50535  sitting     0.000626     0.025020   \n",
       "\n",
       "   RA_xacc_skew  RA_yacc_mean  RA_yacc_max  RA_yacc_min  ...  RA_ymag_min  \\\n",
       "0     -0.415694      5.713088       5.8483       5.5956  ...     -0.57428   \n",
       "1      0.410625      5.795154       5.9546       5.6687  ...     -0.57398   \n",
       "2      0.153302      5.833086       5.8918       5.7656  ...     -0.57563   \n",
       "3      0.525019      5.863846       5.9645       5.7556  ...     -0.57858   \n",
       "4      1.076782      5.884745       5.9401       5.8384  ...     -0.57996   \n",
       "\n",
       "   RA_ymag_var  RA_ymag_std  RA_ymag_skew  RA_zmag_mean  RA_zmag_max  \\\n",
       "0     0.000012     0.003401     -0.052190     -0.211136     -0.18401   \n",
       "1     0.000005     0.002216      0.222740     -0.206431     -0.18054   \n",
       "2     0.000004     0.001954     -0.221765     -0.205648     -0.18342   \n",
       "3     0.000007     0.002688      0.075011     -0.203739     -0.17999   \n",
       "4     0.000005     0.002278     -0.219440     -0.203684     -0.17904   \n",
       "\n",
       "   RA_zmag_min  RA_zmag_var  RA_zmag_std  RA_zmag_skew  \n",
       "0     -0.24523     0.000044     0.006638     -1.153902  \n",
       "1     -0.23624     0.000032     0.005660      0.458427  \n",
       "2     -0.22933     0.000024     0.004868     -0.984915  \n",
       "3     -0.22958     0.000026     0.005099      0.185634  \n",
       "4     -0.22924     0.000027     0.005175     -0.820907  \n",
       "\n",
       "[5 rows x 55 columns]"
      ]
     },
     "execution_count": 14,
     "metadata": {},
     "output_type": "execute_result"
    }
   ],
   "source": [
    "df_RA.head()"
   ]
  },
  {
   "cell_type": "code",
   "execution_count": 15,
   "id": "bd0b81fb-95df-4b67-b677-f0fc0a596052",
   "metadata": {},
   "outputs": [
    {
     "data": {
      "text/html": [
       "<div>\n",
       "<style scoped>\n",
       "    .dataframe tbody tr th:only-of-type {\n",
       "        vertical-align: middle;\n",
       "    }\n",
       "\n",
       "    .dataframe tbody tr th {\n",
       "        vertical-align: top;\n",
       "    }\n",
       "\n",
       "    .dataframe thead th {\n",
       "        text-align: right;\n",
       "    }\n",
       "</style>\n",
       "<table border=\"1\" class=\"dataframe\">\n",
       "  <thead>\n",
       "    <tr style=\"text-align: right;\">\n",
       "      <th></th>\n",
       "      <th>LA_xacc_mean</th>\n",
       "      <th>LA_xacc_max</th>\n",
       "      <th>LA_xacc_min</th>\n",
       "      <th>activity</th>\n",
       "      <th>LA_xacc_var</th>\n",
       "      <th>LA_xacc_std</th>\n",
       "      <th>LA_xacc_skew</th>\n",
       "      <th>LA_yacc_mean</th>\n",
       "      <th>LA_yacc_max</th>\n",
       "      <th>LA_yacc_min</th>\n",
       "      <th>...</th>\n",
       "      <th>LA_ymag_min</th>\n",
       "      <th>LA_ymag_var</th>\n",
       "      <th>LA_ymag_std</th>\n",
       "      <th>LA_ymag_skew</th>\n",
       "      <th>LA_zmag_mean</th>\n",
       "      <th>LA_zmag_max</th>\n",
       "      <th>LA_zmag_min</th>\n",
       "      <th>LA_zmag_var</th>\n",
       "      <th>LA_zmag_std</th>\n",
       "      <th>LA_zmag_skew</th>\n",
       "    </tr>\n",
       "  </thead>\n",
       "  <tbody>\n",
       "    <tr>\n",
       "      <th>0</th>\n",
       "      <td>3.403317</td>\n",
       "      <td>3.4875</td>\n",
       "      <td>3.2682</td>\n",
       "      <td>sitting</td>\n",
       "      <td>0.001583</td>\n",
       "      <td>0.039790</td>\n",
       "      <td>-0.744647</td>\n",
       "      <td>-8.375713</td>\n",
       "      <td>-8.2927</td>\n",
       "      <td>-8.4821</td>\n",
       "      <td>...</td>\n",
       "      <td>0.33748</td>\n",
       "      <td>0.000003</td>\n",
       "      <td>0.001810</td>\n",
       "      <td>-0.215069</td>\n",
       "      <td>0.072273</td>\n",
       "      <td>0.076374</td>\n",
       "      <td>0.067940</td>\n",
       "      <td>0.000004</td>\n",
       "      <td>0.001910</td>\n",
       "      <td>-0.166015</td>\n",
       "    </tr>\n",
       "    <tr>\n",
       "      <th>1</th>\n",
       "      <td>3.427302</td>\n",
       "      <td>3.6630</td>\n",
       "      <td>3.3168</td>\n",
       "      <td>sitting</td>\n",
       "      <td>0.004305</td>\n",
       "      <td>0.065614</td>\n",
       "      <td>1.000107</td>\n",
       "      <td>-8.397591</td>\n",
       "      <td>-8.3118</td>\n",
       "      <td>-8.5017</td>\n",
       "      <td>...</td>\n",
       "      <td>0.33000</td>\n",
       "      <td>0.000017</td>\n",
       "      <td>0.004159</td>\n",
       "      <td>-0.611251</td>\n",
       "      <td>0.074557</td>\n",
       "      <td>0.085184</td>\n",
       "      <td>0.068169</td>\n",
       "      <td>0.000022</td>\n",
       "      <td>0.004643</td>\n",
       "      <td>0.717286</td>\n",
       "    </tr>\n",
       "    <tr>\n",
       "      <th>2</th>\n",
       "      <td>3.400870</td>\n",
       "      <td>3.5168</td>\n",
       "      <td>3.3315</td>\n",
       "      <td>sitting</td>\n",
       "      <td>0.001007</td>\n",
       "      <td>0.031732</td>\n",
       "      <td>0.978319</td>\n",
       "      <td>-8.439138</td>\n",
       "      <td>-8.3599</td>\n",
       "      <td>-8.5204</td>\n",
       "      <td>...</td>\n",
       "      <td>0.33307</td>\n",
       "      <td>0.000002</td>\n",
       "      <td>0.001316</td>\n",
       "      <td>-0.506255</td>\n",
       "      <td>0.075852</td>\n",
       "      <td>0.083227</td>\n",
       "      <td>0.072507</td>\n",
       "      <td>0.000004</td>\n",
       "      <td>0.002106</td>\n",
       "      <td>1.043919</td>\n",
       "    </tr>\n",
       "    <tr>\n",
       "      <th>3</th>\n",
       "      <td>3.391002</td>\n",
       "      <td>3.5311</td>\n",
       "      <td>3.2608</td>\n",
       "      <td>sitting</td>\n",
       "      <td>0.001792</td>\n",
       "      <td>0.042328</td>\n",
       "      <td>0.117935</td>\n",
       "      <td>-8.441421</td>\n",
       "      <td>-8.3207</td>\n",
       "      <td>-8.5446</td>\n",
       "      <td>...</td>\n",
       "      <td>0.33431</td>\n",
       "      <td>0.000002</td>\n",
       "      <td>0.001395</td>\n",
       "      <td>0.155251</td>\n",
       "      <td>0.074878</td>\n",
       "      <td>0.080059</td>\n",
       "      <td>0.069942</td>\n",
       "      <td>0.000006</td>\n",
       "      <td>0.002414</td>\n",
       "      <td>0.242524</td>\n",
       "    </tr>\n",
       "    <tr>\n",
       "      <th>4</th>\n",
       "      <td>3.359974</td>\n",
       "      <td>3.4434</td>\n",
       "      <td>3.3069</td>\n",
       "      <td>sitting</td>\n",
       "      <td>0.000633</td>\n",
       "      <td>0.025160</td>\n",
       "      <td>1.051627</td>\n",
       "      <td>-8.454854</td>\n",
       "      <td>-8.3202</td>\n",
       "      <td>-8.5561</td>\n",
       "      <td>...</td>\n",
       "      <td>0.33631</td>\n",
       "      <td>0.000001</td>\n",
       "      <td>0.001005</td>\n",
       "      <td>-0.299017</td>\n",
       "      <td>0.073398</td>\n",
       "      <td>0.077461</td>\n",
       "      <td>0.070175</td>\n",
       "      <td>0.000002</td>\n",
       "      <td>0.001482</td>\n",
       "      <td>0.606258</td>\n",
       "    </tr>\n",
       "  </tbody>\n",
       "</table>\n",
       "<p>5 rows × 55 columns</p>\n",
       "</div>"
      ],
      "text/plain": [
       "   LA_xacc_mean  LA_xacc_max  LA_xacc_min activity  LA_xacc_var  LA_xacc_std  \\\n",
       "0      3.403317       3.4875       3.2682  sitting     0.001583     0.039790   \n",
       "1      3.427302       3.6630       3.3168  sitting     0.004305     0.065614   \n",
       "2      3.400870       3.5168       3.3315  sitting     0.001007     0.031732   \n",
       "3      3.391002       3.5311       3.2608  sitting     0.001792     0.042328   \n",
       "4      3.359974       3.4434       3.3069  sitting     0.000633     0.025160   \n",
       "\n",
       "   LA_xacc_skew  LA_yacc_mean  LA_yacc_max  LA_yacc_min  ...  LA_ymag_min  \\\n",
       "0     -0.744647     -8.375713      -8.2927      -8.4821  ...      0.33748   \n",
       "1      1.000107     -8.397591      -8.3118      -8.5017  ...      0.33000   \n",
       "2      0.978319     -8.439138      -8.3599      -8.5204  ...      0.33307   \n",
       "3      0.117935     -8.441421      -8.3207      -8.5446  ...      0.33431   \n",
       "4      1.051627     -8.454854      -8.3202      -8.5561  ...      0.33631   \n",
       "\n",
       "   LA_ymag_var  LA_ymag_std  LA_ymag_skew  LA_zmag_mean  LA_zmag_max  \\\n",
       "0     0.000003     0.001810     -0.215069      0.072273     0.076374   \n",
       "1     0.000017     0.004159     -0.611251      0.074557     0.085184   \n",
       "2     0.000002     0.001316     -0.506255      0.075852     0.083227   \n",
       "3     0.000002     0.001395      0.155251      0.074878     0.080059   \n",
       "4     0.000001     0.001005     -0.299017      0.073398     0.077461   \n",
       "\n",
       "   LA_zmag_min  LA_zmag_var  LA_zmag_std  LA_zmag_skew  \n",
       "0     0.067940     0.000004     0.001910     -0.166015  \n",
       "1     0.068169     0.000022     0.004643      0.717286  \n",
       "2     0.072507     0.000004     0.002106      1.043919  \n",
       "3     0.069942     0.000006     0.002414      0.242524  \n",
       "4     0.070175     0.000002     0.001482      0.606258  \n",
       "\n",
       "[5 rows x 55 columns]"
      ]
     },
     "execution_count": 15,
     "metadata": {},
     "output_type": "execute_result"
    }
   ],
   "source": [
    "df_LA.head()"
   ]
  },
  {
   "cell_type": "code",
   "execution_count": 16,
   "id": "315ac181-d5fe-4270-9f2b-2a9e01cf6fbf",
   "metadata": {},
   "outputs": [
    {
     "data": {
      "text/plain": [
       "activity\n",
       "sitting                    480\n",
       "walkingTreadmillIncline    480\n",
       "jumping                    480\n",
       "rowing                     480\n",
       "cyclingVertical            480\n",
       "cyclingHorizontal          480\n",
       "crossTrainer               480\n",
       "stepper                    480\n",
       "runningTreadmill           480\n",
       "walkingTreadmillFlat       480\n",
       "standing                   480\n",
       "walkingLot                 480\n",
       "movingInElevator           480\n",
       "standingInElevatorStill    480\n",
       "decendingStairs            480\n",
       "ascendingStairs            480\n",
       "lyingRigh                  480\n",
       "lyingBack                  480\n",
       "basketBall                 480\n",
       "Name: count, dtype: int64"
      ]
     },
     "execution_count": 16,
     "metadata": {},
     "output_type": "execute_result"
    }
   ],
   "source": [
    "df_LA['activity'].value_counts()"
   ]
  },
  {
   "cell_type": "code",
   "execution_count": 17,
   "id": "e492dfcd-0057-49fc-a5ed-6da1c37a5110",
   "metadata": {},
   "outputs": [
    {
     "data": {
      "text/plain": [
       "activity\n",
       "sitting                    480\n",
       "walkingTreadmillIncline    480\n",
       "jumping                    480\n",
       "rowing                     480\n",
       "cyclingVertical            480\n",
       "cyclingHorizontal          480\n",
       "crossTrainer               480\n",
       "stepper                    480\n",
       "runningTreadmill           480\n",
       "walkingTreadmillFlat       480\n",
       "standing                   480\n",
       "walkingLot                 480\n",
       "movingInElevator           480\n",
       "standingInElevatorStill    480\n",
       "decendingStairs            480\n",
       "ascendingStairs            480\n",
       "lyingRigh                  480\n",
       "lyingBack                  480\n",
       "basketBall                 480\n",
       "Name: count, dtype: int64"
      ]
     },
     "execution_count": 17,
     "metadata": {},
     "output_type": "execute_result"
    }
   ],
   "source": [
    "df_RA['activity'].value_counts()"
   ]
  },
  {
   "cell_type": "code",
   "execution_count": 18,
   "id": "3ba87c29-a858-495b-b552-e31575fe3f01",
   "metadata": {},
   "outputs": [
    {
     "name": "stderr",
     "output_type": "stream",
     "text": [
      "C:\\Users\\user\\AppData\\Local\\Temp\\ipykernel_3464\\3441972880.py:7: SettingWithCopyWarning: \n",
      "A value is trying to be set on a copy of a slice from a DataFrame.\n",
      "Try using .loc[row_indexer,col_indexer] = value instead\n",
      "\n",
      "See the caveats in the documentation: https://pandas.pydata.org/pandas-docs/stable/user_guide/indexing.html#returning-a-view-versus-a-copy\n",
      "  df_RA['activity'] = label_encoder.fit_transform(df_RA['activity'])\n",
      "C:\\Users\\user\\AppData\\Local\\Temp\\ipykernel_3464\\3441972880.py:12: SettingWithCopyWarning: \n",
      "A value is trying to be set on a copy of a slice from a DataFrame.\n",
      "Try using .loc[row_indexer,col_indexer] = value instead\n",
      "\n",
      "See the caveats in the documentation: https://pandas.pydata.org/pandas-docs/stable/user_guide/indexing.html#returning-a-view-versus-a-copy\n",
      "  df_LA['activity'] = label_encoder.fit_transform(df_LA['activity'])\n"
     ]
    }
   ],
   "source": [
    "from sklearn.preprocessing import LabelEncoder\n",
    "\n",
    "# LabelEncoder 객체 생성\n",
    "label_encoder = LabelEncoder()\n",
    "\n",
    "# 'label' 컬럼을 숫자로 변환\n",
    "df_RA['activity'] = label_encoder.fit_transform(df_RA['activity'])\n",
    "\n",
    "# LabelEncoder 객체 생성\n",
    "label_encoder = LabelEncoder()\n",
    "# 'label' 컬럼을 숫자로 변환\n",
    "df_LA['activity'] = label_encoder.fit_transform(df_LA['activity'])"
   ]
  },
  {
   "cell_type": "code",
   "execution_count": 19,
   "id": "01cc40ad-f96a-4571-a222-f93ac21688df",
   "metadata": {},
   "outputs": [
    {
     "data": {
      "text/plain": [
       "activity\n",
       "12    480\n",
       "18    480\n",
       "6     480\n",
       "10    480\n",
       "4     480\n",
       "3     480\n",
       "2     480\n",
       "15    480\n",
       "11    480\n",
       "17    480\n",
       "13    480\n",
       "16    480\n",
       "9     480\n",
       "14    480\n",
       "5     480\n",
       "0     480\n",
       "8     480\n",
       "7     480\n",
       "1     480\n",
       "Name: count, dtype: int64"
      ]
     },
     "execution_count": 19,
     "metadata": {},
     "output_type": "execute_result"
    }
   ],
   "source": [
    "df_LA['activity'].value_counts()"
   ]
  },
  {
   "cell_type": "code",
   "execution_count": 20,
   "id": "65b252b6-a5da-425f-9455-bb14d664079d",
   "metadata": {},
   "outputs": [
    {
     "data": {
      "text/plain": [
       "activity\n",
       "12    480\n",
       "18    480\n",
       "6     480\n",
       "10    480\n",
       "4     480\n",
       "3     480\n",
       "2     480\n",
       "15    480\n",
       "11    480\n",
       "17    480\n",
       "13    480\n",
       "16    480\n",
       "9     480\n",
       "14    480\n",
       "5     480\n",
       "0     480\n",
       "8     480\n",
       "7     480\n",
       "1     480\n",
       "Name: count, dtype: int64"
      ]
     },
     "execution_count": 20,
     "metadata": {},
     "output_type": "execute_result"
    }
   ],
   "source": [
    "df_RA['activity'].value_counts()"
   ]
  },
  {
   "cell_type": "markdown",
   "id": "49c2b001-de9b-4645-a805-f80d9dbe2d02",
   "metadata": {},
   "source": [
    "## Train, Test 분리 - LA, RA"
   ]
  },
  {
   "cell_type": "code",
   "execution_count": 22,
   "id": "e5daeb88-baff-45de-aa36-0afa45966a3a",
   "metadata": {},
   "outputs": [],
   "source": [
    "# Right Arm\n",
    "df_RA_Y=df_RA['activity']"
   ]
  },
  {
   "cell_type": "code",
   "execution_count": 23,
   "id": "5dcbd18b-d1b8-4b73-a3fb-07c483b107eb",
   "metadata": {},
   "outputs": [
    {
     "data": {
      "text/html": [
       "<div>\n",
       "<style scoped>\n",
       "    .dataframe tbody tr th:only-of-type {\n",
       "        vertical-align: middle;\n",
       "    }\n",
       "\n",
       "    .dataframe tbody tr th {\n",
       "        vertical-align: top;\n",
       "    }\n",
       "\n",
       "    .dataframe thead th {\n",
       "        text-align: right;\n",
       "    }\n",
       "</style>\n",
       "<table border=\"1\" class=\"dataframe\">\n",
       "  <thead>\n",
       "    <tr style=\"text-align: right;\">\n",
       "      <th></th>\n",
       "      <th>RA_xacc_mean</th>\n",
       "      <th>RA_xacc_max</th>\n",
       "      <th>RA_xacc_min</th>\n",
       "      <th>RA_xacc_var</th>\n",
       "      <th>RA_xacc_std</th>\n",
       "      <th>RA_xacc_skew</th>\n",
       "      <th>RA_yacc_mean</th>\n",
       "      <th>RA_yacc_max</th>\n",
       "      <th>RA_yacc_min</th>\n",
       "      <th>RA_yacc_var</th>\n",
       "      <th>...</th>\n",
       "      <th>RA_ymag_min</th>\n",
       "      <th>RA_ymag_var</th>\n",
       "      <th>RA_ymag_std</th>\n",
       "      <th>RA_ymag_skew</th>\n",
       "      <th>RA_zmag_mean</th>\n",
       "      <th>RA_zmag_max</th>\n",
       "      <th>RA_zmag_min</th>\n",
       "      <th>RA_zmag_var</th>\n",
       "      <th>RA_zmag_std</th>\n",
       "      <th>RA_zmag_skew</th>\n",
       "    </tr>\n",
       "  </thead>\n",
       "  <tbody>\n",
       "    <tr>\n",
       "      <th>0</th>\n",
       "      <td>0.679134</td>\n",
       "      <td>0.75930</td>\n",
       "      <td>0.58542</td>\n",
       "      <td>0.001546</td>\n",
       "      <td>0.039324</td>\n",
       "      <td>-0.415694</td>\n",
       "      <td>5.713088</td>\n",
       "      <td>5.8483</td>\n",
       "      <td>5.5956</td>\n",
       "      <td>0.003779</td>\n",
       "      <td>...</td>\n",
       "      <td>-0.57428</td>\n",
       "      <td>0.000012</td>\n",
       "      <td>0.003401</td>\n",
       "      <td>-0.052190</td>\n",
       "      <td>-0.211136</td>\n",
       "      <td>-0.18401</td>\n",
       "      <td>-0.24523</td>\n",
       "      <td>0.000044</td>\n",
       "      <td>0.006638</td>\n",
       "      <td>-1.153902</td>\n",
       "    </tr>\n",
       "    <tr>\n",
       "      <th>1</th>\n",
       "      <td>0.644964</td>\n",
       "      <td>0.73158</td>\n",
       "      <td>0.53064</td>\n",
       "      <td>0.001333</td>\n",
       "      <td>0.036508</td>\n",
       "      <td>0.410625</td>\n",
       "      <td>5.795154</td>\n",
       "      <td>5.9546</td>\n",
       "      <td>5.6687</td>\n",
       "      <td>0.001132</td>\n",
       "      <td>...</td>\n",
       "      <td>-0.57398</td>\n",
       "      <td>0.000005</td>\n",
       "      <td>0.002216</td>\n",
       "      <td>0.222740</td>\n",
       "      <td>-0.206431</td>\n",
       "      <td>-0.18054</td>\n",
       "      <td>-0.23624</td>\n",
       "      <td>0.000032</td>\n",
       "      <td>0.005660</td>\n",
       "      <td>0.458427</td>\n",
       "    </tr>\n",
       "    <tr>\n",
       "      <th>2</th>\n",
       "      <td>0.608212</td>\n",
       "      <td>0.67737</td>\n",
       "      <td>0.53546</td>\n",
       "      <td>0.000637</td>\n",
       "      <td>0.025244</td>\n",
       "      <td>0.153302</td>\n",
       "      <td>5.833086</td>\n",
       "      <td>5.8918</td>\n",
       "      <td>5.7656</td>\n",
       "      <td>0.000488</td>\n",
       "      <td>...</td>\n",
       "      <td>-0.57563</td>\n",
       "      <td>0.000004</td>\n",
       "      <td>0.001954</td>\n",
       "      <td>-0.221765</td>\n",
       "      <td>-0.205648</td>\n",
       "      <td>-0.18342</td>\n",
       "      <td>-0.22933</td>\n",
       "      <td>0.000024</td>\n",
       "      <td>0.004868</td>\n",
       "      <td>-0.984915</td>\n",
       "    </tr>\n",
       "    <tr>\n",
       "      <th>3</th>\n",
       "      <td>0.591138</td>\n",
       "      <td>0.71177</td>\n",
       "      <td>0.51524</td>\n",
       "      <td>0.001349</td>\n",
       "      <td>0.036731</td>\n",
       "      <td>0.525019</td>\n",
       "      <td>5.863846</td>\n",
       "      <td>5.9645</td>\n",
       "      <td>5.7556</td>\n",
       "      <td>0.001423</td>\n",
       "      <td>...</td>\n",
       "      <td>-0.57858</td>\n",
       "      <td>0.000007</td>\n",
       "      <td>0.002688</td>\n",
       "      <td>0.075011</td>\n",
       "      <td>-0.203739</td>\n",
       "      <td>-0.17999</td>\n",
       "      <td>-0.22958</td>\n",
       "      <td>0.000026</td>\n",
       "      <td>0.005099</td>\n",
       "      <td>0.185634</td>\n",
       "    </tr>\n",
       "    <tr>\n",
       "      <th>4</th>\n",
       "      <td>0.558168</td>\n",
       "      <td>0.67190</td>\n",
       "      <td>0.50535</td>\n",
       "      <td>0.000626</td>\n",
       "      <td>0.025020</td>\n",
       "      <td>1.076782</td>\n",
       "      <td>5.884745</td>\n",
       "      <td>5.9401</td>\n",
       "      <td>5.8384</td>\n",
       "      <td>0.000471</td>\n",
       "      <td>...</td>\n",
       "      <td>-0.57996</td>\n",
       "      <td>0.000005</td>\n",
       "      <td>0.002278</td>\n",
       "      <td>-0.219440</td>\n",
       "      <td>-0.203684</td>\n",
       "      <td>-0.17904</td>\n",
       "      <td>-0.22924</td>\n",
       "      <td>0.000027</td>\n",
       "      <td>0.005175</td>\n",
       "      <td>-0.820907</td>\n",
       "    </tr>\n",
       "  </tbody>\n",
       "</table>\n",
       "<p>5 rows × 54 columns</p>\n",
       "</div>"
      ],
      "text/plain": [
       "   RA_xacc_mean  RA_xacc_max  RA_xacc_min  RA_xacc_var  RA_xacc_std  \\\n",
       "0      0.679134      0.75930      0.58542     0.001546     0.039324   \n",
       "1      0.644964      0.73158      0.53064     0.001333     0.036508   \n",
       "2      0.608212      0.67737      0.53546     0.000637     0.025244   \n",
       "3      0.591138      0.71177      0.51524     0.001349     0.036731   \n",
       "4      0.558168      0.67190      0.50535     0.000626     0.025020   \n",
       "\n",
       "   RA_xacc_skew  RA_yacc_mean  RA_yacc_max  RA_yacc_min  RA_yacc_var  ...  \\\n",
       "0     -0.415694      5.713088       5.8483       5.5956     0.003779  ...   \n",
       "1      0.410625      5.795154       5.9546       5.6687     0.001132  ...   \n",
       "2      0.153302      5.833086       5.8918       5.7656     0.000488  ...   \n",
       "3      0.525019      5.863846       5.9645       5.7556     0.001423  ...   \n",
       "4      1.076782      5.884745       5.9401       5.8384     0.000471  ...   \n",
       "\n",
       "   RA_ymag_min  RA_ymag_var  RA_ymag_std  RA_ymag_skew  RA_zmag_mean  \\\n",
       "0     -0.57428     0.000012     0.003401     -0.052190     -0.211136   \n",
       "1     -0.57398     0.000005     0.002216      0.222740     -0.206431   \n",
       "2     -0.57563     0.000004     0.001954     -0.221765     -0.205648   \n",
       "3     -0.57858     0.000007     0.002688      0.075011     -0.203739   \n",
       "4     -0.57996     0.000005     0.002278     -0.219440     -0.203684   \n",
       "\n",
       "   RA_zmag_max  RA_zmag_min  RA_zmag_var  RA_zmag_std  RA_zmag_skew  \n",
       "0     -0.18401     -0.24523     0.000044     0.006638     -1.153902  \n",
       "1     -0.18054     -0.23624     0.000032     0.005660      0.458427  \n",
       "2     -0.18342     -0.22933     0.000024     0.004868     -0.984915  \n",
       "3     -0.17999     -0.22958     0.000026     0.005099      0.185634  \n",
       "4     -0.17904     -0.22924     0.000027     0.005175     -0.820907  \n",
       "\n",
       "[5 rows x 54 columns]"
      ]
     },
     "execution_count": 23,
     "metadata": {},
     "output_type": "execute_result"
    }
   ],
   "source": [
    "df_RA_X=df_RA.drop('activity',axis=1)\n",
    "df_RA_X.head()"
   ]
  },
  {
   "cell_type": "code",
   "execution_count": 24,
   "id": "87fdacbf-becc-465a-9f71-1f6a53e4e95a",
   "metadata": {},
   "outputs": [],
   "source": [
    "from sklearn.model_selection import train_test_split\n",
    "\n",
    "X_train_RA, X_test_RA, y_train_RA, y_test_RA = train_test_split(df_RA_X, \n",
    "                                                    df_RA_Y,\n",
    "                                                    test_size = 0.25, \n",
    "                                                    random_state = 21)"
   ]
  },
  {
   "cell_type": "code",
   "execution_count": 25,
   "id": "ce267a51-b3b6-442d-a91c-1870fb5cd17b",
   "metadata": {},
   "outputs": [
    {
     "data": {
      "text/plain": [
       "0    12\n",
       "1    12\n",
       "2    12\n",
       "3    12\n",
       "4    12\n",
       "Name: activity, dtype: int32"
      ]
     },
     "execution_count": 25,
     "metadata": {},
     "output_type": "execute_result"
    }
   ],
   "source": [
    "# Left Arm\n",
    "df_LA_Y = df_LA['activity']\n",
    "df_LA_Y.head()"
   ]
  },
  {
   "cell_type": "code",
   "execution_count": 26,
   "id": "78790220-d8c9-493e-89d4-11b2f5446526",
   "metadata": {},
   "outputs": [
    {
     "data": {
      "text/html": [
       "<div>\n",
       "<style scoped>\n",
       "    .dataframe tbody tr th:only-of-type {\n",
       "        vertical-align: middle;\n",
       "    }\n",
       "\n",
       "    .dataframe tbody tr th {\n",
       "        vertical-align: top;\n",
       "    }\n",
       "\n",
       "    .dataframe thead th {\n",
       "        text-align: right;\n",
       "    }\n",
       "</style>\n",
       "<table border=\"1\" class=\"dataframe\">\n",
       "  <thead>\n",
       "    <tr style=\"text-align: right;\">\n",
       "      <th></th>\n",
       "      <th>LA_xacc_mean</th>\n",
       "      <th>LA_xacc_max</th>\n",
       "      <th>LA_xacc_min</th>\n",
       "      <th>LA_xacc_var</th>\n",
       "      <th>LA_xacc_std</th>\n",
       "      <th>LA_xacc_skew</th>\n",
       "      <th>LA_yacc_mean</th>\n",
       "      <th>LA_yacc_max</th>\n",
       "      <th>LA_yacc_min</th>\n",
       "      <th>LA_yacc_var</th>\n",
       "      <th>...</th>\n",
       "      <th>LA_ymag_min</th>\n",
       "      <th>LA_ymag_var</th>\n",
       "      <th>LA_ymag_std</th>\n",
       "      <th>LA_ymag_skew</th>\n",
       "      <th>LA_zmag_mean</th>\n",
       "      <th>LA_zmag_max</th>\n",
       "      <th>LA_zmag_min</th>\n",
       "      <th>LA_zmag_var</th>\n",
       "      <th>LA_zmag_std</th>\n",
       "      <th>LA_zmag_skew</th>\n",
       "    </tr>\n",
       "  </thead>\n",
       "  <tbody>\n",
       "    <tr>\n",
       "      <th>0</th>\n",
       "      <td>3.403317</td>\n",
       "      <td>3.4875</td>\n",
       "      <td>3.2682</td>\n",
       "      <td>0.001583</td>\n",
       "      <td>0.039790</td>\n",
       "      <td>-0.744647</td>\n",
       "      <td>-8.375713</td>\n",
       "      <td>-8.2927</td>\n",
       "      <td>-8.4821</td>\n",
       "      <td>0.001178</td>\n",
       "      <td>...</td>\n",
       "      <td>0.33748</td>\n",
       "      <td>0.000003</td>\n",
       "      <td>0.001810</td>\n",
       "      <td>-0.215069</td>\n",
       "      <td>0.072273</td>\n",
       "      <td>0.076374</td>\n",
       "      <td>0.067940</td>\n",
       "      <td>0.000004</td>\n",
       "      <td>0.001910</td>\n",
       "      <td>-0.166015</td>\n",
       "    </tr>\n",
       "    <tr>\n",
       "      <th>1</th>\n",
       "      <td>3.427302</td>\n",
       "      <td>3.6630</td>\n",
       "      <td>3.3168</td>\n",
       "      <td>0.004305</td>\n",
       "      <td>0.065614</td>\n",
       "      <td>1.000107</td>\n",
       "      <td>-8.397591</td>\n",
       "      <td>-8.3118</td>\n",
       "      <td>-8.5017</td>\n",
       "      <td>0.001098</td>\n",
       "      <td>...</td>\n",
       "      <td>0.33000</td>\n",
       "      <td>0.000017</td>\n",
       "      <td>0.004159</td>\n",
       "      <td>-0.611251</td>\n",
       "      <td>0.074557</td>\n",
       "      <td>0.085184</td>\n",
       "      <td>0.068169</td>\n",
       "      <td>0.000022</td>\n",
       "      <td>0.004643</td>\n",
       "      <td>0.717286</td>\n",
       "    </tr>\n",
       "    <tr>\n",
       "      <th>2</th>\n",
       "      <td>3.400870</td>\n",
       "      <td>3.5168</td>\n",
       "      <td>3.3315</td>\n",
       "      <td>0.001007</td>\n",
       "      <td>0.031732</td>\n",
       "      <td>0.978319</td>\n",
       "      <td>-8.439138</td>\n",
       "      <td>-8.3599</td>\n",
       "      <td>-8.5204</td>\n",
       "      <td>0.000684</td>\n",
       "      <td>...</td>\n",
       "      <td>0.33307</td>\n",
       "      <td>0.000002</td>\n",
       "      <td>0.001316</td>\n",
       "      <td>-0.506255</td>\n",
       "      <td>0.075852</td>\n",
       "      <td>0.083227</td>\n",
       "      <td>0.072507</td>\n",
       "      <td>0.000004</td>\n",
       "      <td>0.002106</td>\n",
       "      <td>1.043919</td>\n",
       "    </tr>\n",
       "    <tr>\n",
       "      <th>3</th>\n",
       "      <td>3.391002</td>\n",
       "      <td>3.5311</td>\n",
       "      <td>3.2608</td>\n",
       "      <td>0.001792</td>\n",
       "      <td>0.042328</td>\n",
       "      <td>0.117935</td>\n",
       "      <td>-8.441421</td>\n",
       "      <td>-8.3207</td>\n",
       "      <td>-8.5446</td>\n",
       "      <td>0.001862</td>\n",
       "      <td>...</td>\n",
       "      <td>0.33431</td>\n",
       "      <td>0.000002</td>\n",
       "      <td>0.001395</td>\n",
       "      <td>0.155251</td>\n",
       "      <td>0.074878</td>\n",
       "      <td>0.080059</td>\n",
       "      <td>0.069942</td>\n",
       "      <td>0.000006</td>\n",
       "      <td>0.002414</td>\n",
       "      <td>0.242524</td>\n",
       "    </tr>\n",
       "    <tr>\n",
       "      <th>4</th>\n",
       "      <td>3.359974</td>\n",
       "      <td>3.4434</td>\n",
       "      <td>3.3069</td>\n",
       "      <td>0.000633</td>\n",
       "      <td>0.025160</td>\n",
       "      <td>1.051627</td>\n",
       "      <td>-8.454854</td>\n",
       "      <td>-8.3202</td>\n",
       "      <td>-8.5561</td>\n",
       "      <td>0.001061</td>\n",
       "      <td>...</td>\n",
       "      <td>0.33631</td>\n",
       "      <td>0.000001</td>\n",
       "      <td>0.001005</td>\n",
       "      <td>-0.299017</td>\n",
       "      <td>0.073398</td>\n",
       "      <td>0.077461</td>\n",
       "      <td>0.070175</td>\n",
       "      <td>0.000002</td>\n",
       "      <td>0.001482</td>\n",
       "      <td>0.606258</td>\n",
       "    </tr>\n",
       "  </tbody>\n",
       "</table>\n",
       "<p>5 rows × 54 columns</p>\n",
       "</div>"
      ],
      "text/plain": [
       "   LA_xacc_mean  LA_xacc_max  LA_xacc_min  LA_xacc_var  LA_xacc_std  \\\n",
       "0      3.403317       3.4875       3.2682     0.001583     0.039790   \n",
       "1      3.427302       3.6630       3.3168     0.004305     0.065614   \n",
       "2      3.400870       3.5168       3.3315     0.001007     0.031732   \n",
       "3      3.391002       3.5311       3.2608     0.001792     0.042328   \n",
       "4      3.359974       3.4434       3.3069     0.000633     0.025160   \n",
       "\n",
       "   LA_xacc_skew  LA_yacc_mean  LA_yacc_max  LA_yacc_min  LA_yacc_var  ...  \\\n",
       "0     -0.744647     -8.375713      -8.2927      -8.4821     0.001178  ...   \n",
       "1      1.000107     -8.397591      -8.3118      -8.5017     0.001098  ...   \n",
       "2      0.978319     -8.439138      -8.3599      -8.5204     0.000684  ...   \n",
       "3      0.117935     -8.441421      -8.3207      -8.5446     0.001862  ...   \n",
       "4      1.051627     -8.454854      -8.3202      -8.5561     0.001061  ...   \n",
       "\n",
       "   LA_ymag_min  LA_ymag_var  LA_ymag_std  LA_ymag_skew  LA_zmag_mean  \\\n",
       "0      0.33748     0.000003     0.001810     -0.215069      0.072273   \n",
       "1      0.33000     0.000017     0.004159     -0.611251      0.074557   \n",
       "2      0.33307     0.000002     0.001316     -0.506255      0.075852   \n",
       "3      0.33431     0.000002     0.001395      0.155251      0.074878   \n",
       "4      0.33631     0.000001     0.001005     -0.299017      0.073398   \n",
       "\n",
       "   LA_zmag_max  LA_zmag_min  LA_zmag_var  LA_zmag_std  LA_zmag_skew  \n",
       "0     0.076374     0.067940     0.000004     0.001910     -0.166015  \n",
       "1     0.085184     0.068169     0.000022     0.004643      0.717286  \n",
       "2     0.083227     0.072507     0.000004     0.002106      1.043919  \n",
       "3     0.080059     0.069942     0.000006     0.002414      0.242524  \n",
       "4     0.077461     0.070175     0.000002     0.001482      0.606258  \n",
       "\n",
       "[5 rows x 54 columns]"
      ]
     },
     "execution_count": 26,
     "metadata": {},
     "output_type": "execute_result"
    }
   ],
   "source": [
    "df_LA_X=df_LA.drop('activity',axis=1)\n",
    "df_LA_X.head()"
   ]
  },
  {
   "cell_type": "code",
   "execution_count": 27,
   "id": "e9296b83-6cca-481e-9df1-047cc0e47f2c",
   "metadata": {},
   "outputs": [],
   "source": [
    "from sklearn.model_selection import train_test_split\n",
    "\n",
    "X_train_LA, X_test_LA, y_train_LA, y_test_LA = train_test_split(df_LA_X, \n",
    "                                                    df_LA_Y,\n",
    "                                                    test_size = 0.25, \n",
    "                                                    random_state = 21)"
   ]
  },
  {
   "cell_type": "code",
   "execution_count": 28,
   "id": "7b39eb50-9de6-4ea5-9eeb-904b61765ecc",
   "metadata": {},
   "outputs": [
    {
     "data": {
      "text/plain": [
       "((6840, 54), (2280, 54), (6840,), (2280,))"
      ]
     },
     "execution_count": 28,
     "metadata": {},
     "output_type": "execute_result"
    }
   ],
   "source": [
    "X_train_RA.shape, X_test_RA.shape, y_train_RA.shape, y_test_RA.shape"
   ]
  },
  {
   "cell_type": "code",
   "execution_count": 29,
   "id": "89ca2b87-2de4-4241-8cfa-a3d9f2659f07",
   "metadata": {},
   "outputs": [
    {
     "data": {
      "text/plain": [
       "((6840, 54), (2280, 54), (6840,), (2280,))"
      ]
     },
     "execution_count": 29,
     "metadata": {},
     "output_type": "execute_result"
    }
   ],
   "source": [
    "X_train_LA.shape, X_test_LA.shape, y_train_LA.shape, y_test_LA.shape"
   ]
  },
  {
   "cell_type": "markdown",
   "id": "d7a0f067-887d-49f8-9f4b-b32198fc0cc9",
   "metadata": {},
   "source": [
    "## 순환 데이터 전환 & One-Hot Encode Target Variable"
   ]
  },
  {
   "cell_type": "markdown",
   "id": "d1a01c46-9035-4b88-bb19-6ea47ac51869",
   "metadata": {},
   "source": [
    "Split Seuqence -> 순환형 데이터"
   ]
  },
  {
   "cell_type": "code",
   "execution_count": 32,
   "id": "ee0402fc-c3f6-4491-9382-77cb9001bda5",
   "metadata": {},
   "outputs": [],
   "source": [
    "from collections import Counter\n",
    "import numpy as np\n",
    "\n",
    "def split_sequences(sequences, n_steps):\n",
    "    X, y = list(), list()  # 빈 리스트를 생성하여 시퀀스 데이터와 레이블을 담을 공간을 만듦\n",
    "    for i in range(len(sequences)):  # 전체 시퀀스 데이터를 순회\n",
    "        # find the end of this pattern\n",
    "        end_ix = i + n_steps  # 현재 인덱스(i)에서 n_steps만큼 떨어진 시퀀스의 끝을 계산\n",
    "        # check if we are beyond the dataset\n",
    "        if end_ix > len(sequences):  # 시퀀스 끝이 데이터의 범위를 넘어서는지 확인\n",
    "            break  # 범위를 넘으면 루프 종료\n",
    "        # gather input (X) and output parts (y)\n",
    "        seq_x = sequences[i:end_ix, :-1]  # 입력 데이터 (특징 데이터)\n",
    "        seq_y_values = sequences[i:end_ix, -1]  # 시퀀스 동안의 출력 데이터 (레이블들)\n",
    "        \n",
    "        # 가장 빈번하게 나온 레이블 찾기\n",
    "        most_common_label = Counter(seq_y_values).most_common(1)[0][0]\n",
    "        \n",
    "        X.append(seq_x)  # 입력 데이터 추가\n",
    "        y.append(most_common_label)  # 가장 많이 나온 레이블 추가\n",
    "    \n",
    "    return np.array(X), np.array(y)  # 리스트를 numpy 배열로 변환하여 반환"
   ]
  },
  {
   "cell_type": "code",
   "execution_count": 33,
   "id": "165d0e73-e3d9-4b9d-9d45-001b3d7af03f",
   "metadata": {},
   "outputs": [],
   "source": [
    "# Merge train and test X/y data to apply sequence transformation function\n",
    "y_train_array_RA = np.array(y_train_RA)\n",
    "train_set_RA = np.c_[X_train_RA, y_train_array_RA]\n",
    "\n",
    "y_test_array_RA = np.array(y_test_RA)\n",
    "test_set_RA = np.c_[X_test_RA, y_test_array_RA]"
   ]
  },
  {
   "cell_type": "code",
   "execution_count": 34,
   "id": "dabbdd58-1e34-4bca-ae78-cba6139f0c73",
   "metadata": {},
   "outputs": [
    {
     "name": "stdout",
     "output_type": "stream",
     "text": [
      "(6838, 3, 54) (6838,)\n",
      "(2278, 3, 54) (2278,)\n"
     ]
    }
   ],
   "source": [
    "n_step = 3 \n",
    "\n",
    "X_train_seq_RA, y_train_seq_RA = split_sequences(train_set_RA, n_step)\n",
    "print(X_train_seq_RA.shape, y_train_seq_RA.shape)\n",
    "\n",
    "X_test_seq_RA, y_test_seq_RA = split_sequences(test_set_RA, n_step)\n",
    "print(X_test_seq_RA.shape, y_test_seq_RA.shape)"
   ]
  },
  {
   "cell_type": "code",
   "execution_count": 35,
   "id": "98b7ef1d-0fc0-4fb8-a431-a8a92dcdf408",
   "metadata": {},
   "outputs": [],
   "source": [
    "# Merge train and test X/y data to apply sequence transformation function\n",
    "y_train_array_LA = np.array(y_train_LA)\n",
    "train_set_LA = np.c_[X_train_LA, y_train_array_LA]\n",
    "\n",
    "y_test_array_LA = np.array(y_test_LA)\n",
    "test_set_LA = np.c_[X_test_LA, y_test_array_LA]"
   ]
  },
  {
   "cell_type": "code",
   "execution_count": 36,
   "id": "63e67de3-f1f5-4c40-89b0-d10063d4044f",
   "metadata": {},
   "outputs": [
    {
     "name": "stdout",
     "output_type": "stream",
     "text": [
      "(6838, 3, 54) (6838,)\n",
      "(2278, 3, 54) (2278,)\n"
     ]
    }
   ],
   "source": [
    "n_step = 3 \n",
    "\n",
    "X_train_seq_LA, y_train_seq_LA = split_sequences(train_set_LA, n_step)\n",
    "print(X_train_seq_LA.shape, y_train_seq_LA.shape)\n",
    "\n",
    "X_test_seq_LA, y_test_seq_LA = split_sequences(test_set_LA, n_step)\n",
    "print(X_test_seq_LA.shape, y_test_seq_LA.shape)"
   ]
  },
  {
   "cell_type": "markdown",
   "id": "8614d3fd-e844-484b-8529-04309f589a9b",
   "metadata": {},
   "source": [
    "One-Hot Encode target variable"
   ]
  },
  {
   "cell_type": "code",
   "execution_count": 38,
   "id": "0967c167-4984-453a-aeda-08f6a57739f9",
   "metadata": {},
   "outputs": [
    {
     "name": "stdout",
     "output_type": "stream",
     "text": [
      "(6838, 19)\n",
      "(2278, 19)\n"
     ]
    }
   ],
   "source": [
    "from keras.utils import to_categorical\n",
    "\n",
    "# Convert output variables to categorical for CNN\n",
    "y_train_seq_RA = to_categorical(y_train_seq_RA)\n",
    "print(y_train_seq_RA.shape)\n",
    "\n",
    "y_test_seq_RA = to_categorical(y_test_seq_RA)\n",
    "print(y_test_seq_RA.shape)"
   ]
  },
  {
   "cell_type": "code",
   "execution_count": 39,
   "id": "d9538bf9-dd5d-4fbc-be58-65dcf6ecc06c",
   "metadata": {},
   "outputs": [
    {
     "name": "stdout",
     "output_type": "stream",
     "text": [
      "(6838, 19)\n",
      "(2278, 19)\n"
     ]
    }
   ],
   "source": [
    "# Convert output variables to categorical for CNN\n",
    "y_train_seq_LA = to_categorical(y_train_seq_LA)\n",
    "print(y_train_seq_LA.shape)\n",
    "\n",
    "y_test_seq_LA = to_categorical(y_test_seq_LA)\n",
    "print(y_test_seq_LA.shape)"
   ]
  },
  {
   "cell_type": "code",
   "execution_count": 40,
   "id": "62440376-4a24-493b-bf91-fe231c514a09",
   "metadata": {},
   "outputs": [
    {
     "name": "stdout",
     "output_type": "stream",
     "text": [
      "3 54 19\n"
     ]
    }
   ],
   "source": [
    "# Produce variables for CNN input/output shape\n",
    "n_timesteps, n_features, n_outputs = X_train_seq_RA.shape[1], X_train_seq_RA.shape[2], y_train_seq_RA.shape[1]\n",
    "print(n_timesteps, n_features, n_outputs)"
   ]
  },
  {
   "cell_type": "markdown",
   "id": "9cd95d5b-112a-4b45-a455-6f4adb637b86",
   "metadata": {},
   "source": [
    "# Model Structure"
   ]
  },
  {
   "cell_type": "code",
   "execution_count": 42,
   "id": "c84b5a85-b4d9-40e9-9f3e-8981470a73be",
   "metadata": {},
   "outputs": [],
   "source": [
    "import tensorflow as tf\n",
    "from tensorflow import keras\n",
    "from tensorflow.keras import layers\n",
    "\n",
    "# cnn model vary kernel size\n",
    "from numpy import mean\n",
    "from numpy import std\n",
    "from numpy import dstack\n",
    "from pandas import read_csv\n",
    "from matplotlib import pyplot\n",
    "from tensorflow.keras.models import Sequential\n",
    "from tensorflow.keras.layers import Dense\n",
    "from tensorflow.keras.layers import Flatten\n",
    "from tensorflow.keras.layers import Dropout\n",
    "from keras.utils import to_categorical\n",
    "\n",
    "import tensorflow.keras\n",
    "from tensorflow.keras.models import Sequential\n",
    "from tensorflow.keras.layers import Dense, Dropout, Flatten, Reshape, LSTM, Conv1D, MaxPooling1D\n",
    "from tensorflow.keras.layers import TimeDistributed, Conv1D, MaxPooling1D"
   ]
  },
  {
   "cell_type": "markdown",
   "id": "dbb03417-0815-4e52-8828-a11fb075d2ea",
   "metadata": {},
   "source": [
    "## (1) 처음부터 모델 설계"
   ]
  },
  {
   "cell_type": "code",
   "execution_count": 44,
   "id": "6742e5f2-a703-45f2-a2d0-719104221426",
   "metadata": {},
   "outputs": [
    {
     "name": "stderr",
     "output_type": "stream",
     "text": [
      "C:\\Users\\user\\anaconda3\\Lib\\site-packages\\keras\\src\\layers\\rnn\\rnn.py:204: UserWarning: Do not pass an `input_shape`/`input_dim` argument to a layer. When using Sequential models, prefer using an `Input(shape)` object as the first layer in the model instead.\n",
      "  super().__init__(**kwargs)\n"
     ]
    }
   ],
   "source": [
    "# Build CNN model using keras. For model building suggestions, referenced:\n",
    "# https://machinelearningmastery.com/deep-learning-models-for-human-activity-recognition/\n",
    "# https://machinelearningmastery.com/how-to-choose-loss-functions-when-training-deep-learning-neural-networks/\n",
    "# https://machinelearningmastery.com/how-to-develop-convolutional-neural-network-models-for-time-series-forecasting/\n",
    "\n",
    "# Sequential model type\n",
    "model = Sequential()\n",
    "model.add(LSTM(units=128, input_shape = (n_timesteps,n_features)))\n",
    "model.add(Dense(128, activation='relu'))\n",
    "model.add(Dense(n_outputs, activation='softmax'))\n",
    "model.compile(optimizer='adam', metrics=['accuracy'], loss='categorical_crossentropy')"
   ]
  },
  {
   "cell_type": "code",
   "execution_count": 45,
   "id": "a52e73d0-2d4b-4485-b2d6-24f4eaf70c4a",
   "metadata": {},
   "outputs": [
    {
     "data": {
      "text/html": [
       "<pre style=\"white-space:pre;overflow-x:auto;line-height:normal;font-family:Menlo,'DejaVu Sans Mono',consolas,'Courier New',monospace\"><span style=\"font-weight: bold\">Model: \"sequential\"</span>\n",
       "</pre>\n"
      ],
      "text/plain": [
       "\u001b[1mModel: \"sequential\"\u001b[0m\n"
      ]
     },
     "metadata": {},
     "output_type": "display_data"
    },
    {
     "data": {
      "text/html": [
       "<pre style=\"white-space:pre;overflow-x:auto;line-height:normal;font-family:Menlo,'DejaVu Sans Mono',consolas,'Courier New',monospace\">┏━━━━━━━━━━━━━━━━━━━━━━━━━━━━━━━━━━━━━━┳━━━━━━━━━━━━━━━━━━━━━━━━━━━━━┳━━━━━━━━━━━━━━━━━┓\n",
       "┃<span style=\"font-weight: bold\"> Layer (type)                         </span>┃<span style=\"font-weight: bold\"> Output Shape                </span>┃<span style=\"font-weight: bold\">         Param # </span>┃\n",
       "┡━━━━━━━━━━━━━━━━━━━━━━━━━━━━━━━━━━━━━━╇━━━━━━━━━━━━━━━━━━━━━━━━━━━━━╇━━━━━━━━━━━━━━━━━┩\n",
       "│ lstm (<span style=\"color: #0087ff; text-decoration-color: #0087ff\">LSTM</span>)                          │ (<span style=\"color: #00d7ff; text-decoration-color: #00d7ff\">None</span>, <span style=\"color: #00af00; text-decoration-color: #00af00\">128</span>)                 │          <span style=\"color: #00af00; text-decoration-color: #00af00\">93,696</span> │\n",
       "├──────────────────────────────────────┼─────────────────────────────┼─────────────────┤\n",
       "│ dense (<span style=\"color: #0087ff; text-decoration-color: #0087ff\">Dense</span>)                        │ (<span style=\"color: #00d7ff; text-decoration-color: #00d7ff\">None</span>, <span style=\"color: #00af00; text-decoration-color: #00af00\">128</span>)                 │          <span style=\"color: #00af00; text-decoration-color: #00af00\">16,512</span> │\n",
       "├──────────────────────────────────────┼─────────────────────────────┼─────────────────┤\n",
       "│ dense_1 (<span style=\"color: #0087ff; text-decoration-color: #0087ff\">Dense</span>)                      │ (<span style=\"color: #00d7ff; text-decoration-color: #00d7ff\">None</span>, <span style=\"color: #00af00; text-decoration-color: #00af00\">19</span>)                  │           <span style=\"color: #00af00; text-decoration-color: #00af00\">2,451</span> │\n",
       "└──────────────────────────────────────┴─────────────────────────────┴─────────────────┘\n",
       "</pre>\n"
      ],
      "text/plain": [
       "┏━━━━━━━━━━━━━━━━━━━━━━━━━━━━━━━━━━━━━━┳━━━━━━━━━━━━━━━━━━━━━━━━━━━━━┳━━━━━━━━━━━━━━━━━┓\n",
       "┃\u001b[1m \u001b[0m\u001b[1mLayer (type)                        \u001b[0m\u001b[1m \u001b[0m┃\u001b[1m \u001b[0m\u001b[1mOutput Shape               \u001b[0m\u001b[1m \u001b[0m┃\u001b[1m \u001b[0m\u001b[1m        Param #\u001b[0m\u001b[1m \u001b[0m┃\n",
       "┡━━━━━━━━━━━━━━━━━━━━━━━━━━━━━━━━━━━━━━╇━━━━━━━━━━━━━━━━━━━━━━━━━━━━━╇━━━━━━━━━━━━━━━━━┩\n",
       "│ lstm (\u001b[38;5;33mLSTM\u001b[0m)                          │ (\u001b[38;5;45mNone\u001b[0m, \u001b[38;5;34m128\u001b[0m)                 │          \u001b[38;5;34m93,696\u001b[0m │\n",
       "├──────────────────────────────────────┼─────────────────────────────┼─────────────────┤\n",
       "│ dense (\u001b[38;5;33mDense\u001b[0m)                        │ (\u001b[38;5;45mNone\u001b[0m, \u001b[38;5;34m128\u001b[0m)                 │          \u001b[38;5;34m16,512\u001b[0m │\n",
       "├──────────────────────────────────────┼─────────────────────────────┼─────────────────┤\n",
       "│ dense_1 (\u001b[38;5;33mDense\u001b[0m)                      │ (\u001b[38;5;45mNone\u001b[0m, \u001b[38;5;34m19\u001b[0m)                  │           \u001b[38;5;34m2,451\u001b[0m │\n",
       "└──────────────────────────────────────┴─────────────────────────────┴─────────────────┘\n"
      ]
     },
     "metadata": {},
     "output_type": "display_data"
    },
    {
     "data": {
      "text/html": [
       "<pre style=\"white-space:pre;overflow-x:auto;line-height:normal;font-family:Menlo,'DejaVu Sans Mono',consolas,'Courier New',monospace\"><span style=\"font-weight: bold\"> Total params: </span><span style=\"color: #00af00; text-decoration-color: #00af00\">112,659</span> (440.07 KB)\n",
       "</pre>\n"
      ],
      "text/plain": [
       "\u001b[1m Total params: \u001b[0m\u001b[38;5;34m112,659\u001b[0m (440.07 KB)\n"
      ]
     },
     "metadata": {},
     "output_type": "display_data"
    },
    {
     "data": {
      "text/html": [
       "<pre style=\"white-space:pre;overflow-x:auto;line-height:normal;font-family:Menlo,'DejaVu Sans Mono',consolas,'Courier New',monospace\"><span style=\"font-weight: bold\"> Trainable params: </span><span style=\"color: #00af00; text-decoration-color: #00af00\">112,659</span> (440.07 KB)\n",
       "</pre>\n"
      ],
      "text/plain": [
       "\u001b[1m Trainable params: \u001b[0m\u001b[38;5;34m112,659\u001b[0m (440.07 KB)\n"
      ]
     },
     "metadata": {},
     "output_type": "display_data"
    },
    {
     "data": {
      "text/html": [
       "<pre style=\"white-space:pre;overflow-x:auto;line-height:normal;font-family:Menlo,'DejaVu Sans Mono',consolas,'Courier New',monospace\"><span style=\"font-weight: bold\"> Non-trainable params: </span><span style=\"color: #00af00; text-decoration-color: #00af00\">0</span> (0.00 B)\n",
       "</pre>\n"
      ],
      "text/plain": [
       "\u001b[1m Non-trainable params: \u001b[0m\u001b[38;5;34m0\u001b[0m (0.00 B)\n"
      ]
     },
     "metadata": {},
     "output_type": "display_data"
    }
   ],
   "source": [
    "model.summary()"
   ]
  },
  {
   "cell_type": "code",
   "execution_count": 46,
   "id": "4a4376f2-2e0f-4766-925b-d73b00e23b6e",
   "metadata": {},
   "outputs": [
    {
     "name": "stdout",
     "output_type": "stream",
     "text": [
      "Epoch 1/20\n",
      "\u001b[1m193/193\u001b[0m \u001b[32m━━━━━━━━━━━━━━━━━━━━\u001b[0m\u001b[37m\u001b[0m \u001b[1m13s\u001b[0m 18ms/step - accuracy: 0.2027 - loss: 2.5392 - val_accuracy: 0.5468 - val_loss: 1.4022\n",
      "Epoch 2/20\n",
      "\u001b[1m193/193\u001b[0m \u001b[32m━━━━━━━━━━━━━━━━━━━━\u001b[0m\u001b[37m\u001b[0m \u001b[1m2s\u001b[0m 11ms/step - accuracy: 0.6217 - loss: 1.2014 - val_accuracy: 0.7149 - val_loss: 0.9618\n",
      "Epoch 3/20\n",
      "\u001b[1m193/193\u001b[0m \u001b[32m━━━━━━━━━━━━━━━━━━━━\u001b[0m\u001b[37m\u001b[0m \u001b[1m2s\u001b[0m 9ms/step - accuracy: 0.7587 - loss: 0.7988 - val_accuracy: 0.7909 - val_loss: 0.7638\n",
      "Epoch 4/20\n",
      "\u001b[1m193/193\u001b[0m \u001b[32m━━━━━━━━━━━━━━━━━━━━\u001b[0m\u001b[37m\u001b[0m \u001b[1m2s\u001b[0m 10ms/step - accuracy: 0.8159 - loss: 0.6327 - val_accuracy: 0.8158 - val_loss: 0.7123\n",
      "Epoch 5/20\n",
      "\u001b[1m193/193\u001b[0m \u001b[32m━━━━━━━━━━━━━━━━━━━━\u001b[0m\u001b[37m\u001b[0m \u001b[1m2s\u001b[0m 10ms/step - accuracy: 0.8505 - loss: 0.5066 - val_accuracy: 0.8099 - val_loss: 0.6868\n",
      "Epoch 6/20\n",
      "\u001b[1m193/193\u001b[0m \u001b[32m━━━━━━━━━━━━━━━━━━━━\u001b[0m\u001b[37m\u001b[0m \u001b[1m2s\u001b[0m 11ms/step - accuracy: 0.8804 - loss: 0.3983 - val_accuracy: 0.8582 - val_loss: 0.6247\n",
      "Epoch 7/20\n",
      "\u001b[1m193/193\u001b[0m \u001b[32m━━━━━━━━━━━━━━━━━━━━\u001b[0m\u001b[37m\u001b[0m \u001b[1m2s\u001b[0m 10ms/step - accuracy: 0.9023 - loss: 0.3300 - val_accuracy: 0.8494 - val_loss: 0.5721\n",
      "Epoch 8/20\n",
      "\u001b[1m193/193\u001b[0m \u001b[32m━━━━━━━━━━━━━━━━━━━━\u001b[0m\u001b[37m\u001b[0m \u001b[1m3s\u001b[0m 13ms/step - accuracy: 0.9295 - loss: 0.2606 - val_accuracy: 0.8480 - val_loss: 0.5955\n",
      "Epoch 9/20\n",
      "\u001b[1m193/193\u001b[0m \u001b[32m━━━━━━━━━━━━━━━━━━━━\u001b[0m\u001b[37m\u001b[0m \u001b[1m2s\u001b[0m 11ms/step - accuracy: 0.9395 - loss: 0.2085 - val_accuracy: 0.8699 - val_loss: 0.5902\n",
      "Epoch 10/20\n",
      "\u001b[1m193/193\u001b[0m \u001b[32m━━━━━━━━━━━━━━━━━━━━\u001b[0m\u001b[37m\u001b[0m \u001b[1m2s\u001b[0m 10ms/step - accuracy: 0.9448 - loss: 0.1893 - val_accuracy: 0.8611 - val_loss: 0.5911\n",
      "Epoch 11/20\n",
      "\u001b[1m193/193\u001b[0m \u001b[32m━━━━━━━━━━━━━━━━━━━━\u001b[0m\u001b[37m\u001b[0m \u001b[1m2s\u001b[0m 10ms/step - accuracy: 0.9602 - loss: 0.1478 - val_accuracy: 0.8684 - val_loss: 0.5852\n",
      "Epoch 12/20\n",
      "\u001b[1m193/193\u001b[0m \u001b[32m━━━━━━━━━━━━━━━━━━━━\u001b[0m\u001b[37m\u001b[0m \u001b[1m2s\u001b[0m 11ms/step - accuracy: 0.9644 - loss: 0.1198 - val_accuracy: 0.8523 - val_loss: 0.6145\n",
      "Epoch 13/20\n",
      "\u001b[1m193/193\u001b[0m \u001b[32m━━━━━━━━━━━━━━━━━━━━\u001b[0m\u001b[37m\u001b[0m \u001b[1m3s\u001b[0m 11ms/step - accuracy: 0.9668 - loss: 0.1107 - val_accuracy: 0.8465 - val_loss: 0.6145\n",
      "Epoch 14/20\n",
      "\u001b[1m193/193\u001b[0m \u001b[32m━━━━━━━━━━━━━━━━━━━━\u001b[0m\u001b[37m\u001b[0m \u001b[1m2s\u001b[0m 10ms/step - accuracy: 0.9763 - loss: 0.0883 - val_accuracy: 0.8655 - val_loss: 0.6097\n",
      "Epoch 15/20\n",
      "\u001b[1m193/193\u001b[0m \u001b[32m━━━━━━━━━━━━━━━━━━━━\u001b[0m\u001b[37m\u001b[0m \u001b[1m2s\u001b[0m 10ms/step - accuracy: 0.9862 - loss: 0.0654 - val_accuracy: 0.8523 - val_loss: 0.6599\n",
      "Epoch 16/20\n",
      "\u001b[1m193/193\u001b[0m \u001b[32m━━━━━━━━━━━━━━━━━━━━\u001b[0m\u001b[37m\u001b[0m \u001b[1m2s\u001b[0m 11ms/step - accuracy: 0.9883 - loss: 0.0513 - val_accuracy: 0.8684 - val_loss: 0.6464\n",
      "Epoch 17/20\n",
      "\u001b[1m193/193\u001b[0m \u001b[32m━━━━━━━━━━━━━━━━━━━━\u001b[0m\u001b[37m\u001b[0m \u001b[1m2s\u001b[0m 11ms/step - accuracy: 0.9956 - loss: 0.0336 - val_accuracy: 0.8567 - val_loss: 0.6966\n",
      "Epoch 18/20\n",
      "\u001b[1m193/193\u001b[0m \u001b[32m━━━━━━━━━━━━━━━━━━━━\u001b[0m\u001b[37m\u001b[0m \u001b[1m2s\u001b[0m 11ms/step - accuracy: 0.9964 - loss: 0.0273 - val_accuracy: 0.8713 - val_loss: 0.6813\n",
      "Epoch 19/20\n",
      "\u001b[1m193/193\u001b[0m \u001b[32m━━━━━━━━━━━━━━━━━━━━\u001b[0m\u001b[37m\u001b[0m \u001b[1m2s\u001b[0m 11ms/step - accuracy: 0.9973 - loss: 0.0240 - val_accuracy: 0.8655 - val_loss: 0.6694\n",
      "Epoch 20/20\n",
      "\u001b[1m193/193\u001b[0m \u001b[32m━━━━━━━━━━━━━━━━━━━━\u001b[0m\u001b[37m\u001b[0m \u001b[1m2s\u001b[0m 11ms/step - accuracy: 0.9968 - loss: 0.0209 - val_accuracy: 0.8699 - val_loss: 0.6818\n"
     ]
    }
   ],
   "source": [
    "history = model.fit(X_train_seq_RA, y_train_seq_RA, epochs = 20, batch_size = 32, validation_split = 0.1, shuffle = True)"
   ]
  },
  {
   "cell_type": "code",
   "execution_count": 47,
   "id": "9932ce7f-ac89-437f-88c3-2564bee73abc",
   "metadata": {},
   "outputs": [
    {
     "data": {
      "text/plain": [
       "<matplotlib.legend.Legend at 0x293286fe390>"
      ]
     },
     "execution_count": 47,
     "metadata": {},
     "output_type": "execute_result"
    },
    {
     "data": {
      "image/png": "[encoded data removed]",
      "text/plain": [
       "<Figure size 640x480 with 1 Axes>"
      ]
     },
     "metadata": {},
     "output_type": "display_data"
    }
   ],
   "source": [
    "plt.plot(history.history[\"loss\"], label = \"train\")\n",
    "plt.plot(history.history[\"val_loss\"], label = \"test\")\n",
    "plt.legend()"
   ]
  },
  {
   "cell_type": "code",
   "execution_count": 48,
   "id": "0466483c-d24c-4248-bba5-b9a79b3d41a1",
   "metadata": {},
   "outputs": [
    {
     "name": "stdout",
     "output_type": "stream",
     "text": [
      "\u001b[1m214/214\u001b[0m \u001b[32m━━━━━━━━━━━━━━━━━━━━\u001b[0m\u001b[37m\u001b[0m \u001b[1m1s\u001b[0m 7ms/step - accuracy: 0.9988 - loss: 0.0192\n"
     ]
    },
    {
     "data": {
      "text/plain": [
       "[0.08224182575941086, 0.9862532615661621]"
      ]
     },
     "execution_count": 48,
     "metadata": {},
     "output_type": "execute_result"
    }
   ],
   "source": [
    "model.evaluate(X_train_seq_RA, y_train_seq_RA)"
   ]
  },
  {
   "cell_type": "code",
   "execution_count": 49,
   "id": "817a1f1c-eee2-407f-b6a0-fe4904a72c44",
   "metadata": {},
   "outputs": [
    {
     "name": "stdout",
     "output_type": "stream",
     "text": [
      "\u001b[1m72/72\u001b[0m \u001b[32m━━━━━━━━━━━━━━━━━━━━\u001b[0m\u001b[37m\u001b[0m \u001b[1m1s\u001b[0m 7ms/step - accuracy: 0.8684 - loss: 0.6587\n"
     ]
    },
    {
     "data": {
      "text/plain": [
       "[0.6595136523246765, 0.866110622882843]"
      ]
     },
     "execution_count": 49,
     "metadata": {},
     "output_type": "execute_result"
    }
   ],
   "source": [
    "model.evaluate(X_test_seq_RA, y_test_seq_RA)"
   ]
  },
  {
   "cell_type": "markdown",
   "id": "fcda2484-3692-4790-a89b-cfe3641e1b70",
   "metadata": {},
   "source": [
    "Confusion matrix"
   ]
  },
  {
   "cell_type": "code",
   "execution_count": 51,
   "id": "196d93dd-218a-496a-a64d-b844601d047f",
   "metadata": {},
   "outputs": [
    {
     "name": "stdout",
     "output_type": "stream",
     "text": [
      "\u001b[1m72/72\u001b[0m \u001b[32m━━━━━━━━━━━━━━━━━━━━\u001b[0m\u001b[37m\u001b[0m \u001b[1m2s\u001b[0m 16ms/step\n",
      "Confusion Matrix\n"
     ]
    },
    {
     "data": {
      "image/png": "[encoded data removed]",
      "text/plain": [
       "<Figure size 800x600 with 2 Axes>"
      ]
     },
     "metadata": {},
     "output_type": "display_data"
    }
   ],
   "source": [
    "import matplotlib.pyplot as plt\n",
    "import seaborn as sns\n",
    "from sklearn.metrics import confusion_matrix\n",
    "from sklearn.metrics import confusion_matrix,classification_report,accuracy_score\n",
    "\n",
    "y_test_arg=np.argmax(y_test_seq_RA, axis=1)\n",
    "Y_pred = np.argmax(model.predict(X_test_seq_RA),axis=1)\n",
    "\n",
    "print('Confusion Matrix')\n",
    "cm = confusion_matrix(y_test_arg, Y_pred)\n",
    "\n",
    "# 시각화\n",
    "plt.figure(figsize=(8, 6))  # 그래프 크기 조절 (너비 8, 높이 6)\n",
    "sns.heatmap(cm, annot=True, fmt=\"d\", cmap=\"Blues\")\n",
    "\n",
    "# 그래프 표시\n",
    "plt.show()"
   ]
  },
  {
   "cell_type": "code",
   "execution_count": 52,
   "id": "82a5ac20-9529-4b12-82ff-db8214f1e33b",
   "metadata": {},
   "outputs": [
    {
     "name": "stdout",
     "output_type": "stream",
     "text": [
      "\u001b[1m72/72\u001b[0m \u001b[32m━━━━━━━━━━━━━━━━━━━━\u001b[0m\u001b[37m\u001b[0m \u001b[1m0s\u001b[0m 6ms/step - accuracy: 0.8684 - loss: 0.6587\n",
      "model saved at  ./datasets/RA_Model.keras\n",
      "Accuracy >86.611062\n",
      "Base Loss >0.66\n"
     ]
    }
   ],
   "source": [
    "base_loss,base_accuracy=model.evaluate(X_test_seq_RA, y_test_seq_RA)\n",
    "\n",
    "model_file='./datasets/RA_Model.keras'\n",
    "  \n",
    "tf.keras.models.save_model(model, model_file, include_optimizer=False)\n",
    "print('model saved at ', model_file)\n",
    "#score,keras_file=evaluate_model(trainX,trainy,testX,testy)\n",
    "score=base_accuracy*100\n",
    "print('Accuracy >{:f}'.format(score))\n",
    "print('Base Loss >{:.2f}'.format(base_loss))"
   ]
  },
  {
   "cell_type": "code",
   "execution_count": 53,
   "id": "3de85602-829a-49c9-9908-8c08fc022664",
   "metadata": {},
   "outputs": [
    {
     "name": "stderr",
     "output_type": "stream",
     "text": [
      "C:\\Users\\user\\anaconda3\\Lib\\site-packages\\keras\\src\\layers\\rnn\\rnn.py:204: UserWarning: Do not pass an `input_shape`/`input_dim` argument to a layer. When using Sequential models, prefer using an `Input(shape)` object as the first layer in the model instead.\n",
      "  super().__init__(**kwargs)\n"
     ]
    }
   ],
   "source": [
    "# Build CNN model using keras. For model building suggestions, referenced:\n",
    "# https://machinelearningmastery.com/deep-learning-models-for-human-activity-recognition/\n",
    "# https://machinelearningmastery.com/how-to-choose-loss-functions-when-training-deep-learning-neural-networks/\n",
    "# https://machinelearningmastery.com/how-to-develop-convolutional-neural-network-models-for-time-series-forecasting/\n",
    "\n",
    "# Sequential model type\n",
    "model2 = Sequential()\n",
    "model2.add(LSTM(units=128, input_shape = (n_timesteps,n_features)))\n",
    "model2.add(Dense(128, activation='relu'))\n",
    "model2.add(Dense(n_outputs, activation='softmax'))\n",
    "model2.compile(optimizer='adam', metrics=['accuracy'], loss='categorical_crossentropy')"
   ]
  },
  {
   "cell_type": "code",
   "execution_count": 54,
   "id": "1076ab74-3e51-4cf5-a34b-21b762c86892",
   "metadata": {},
   "outputs": [
    {
     "data": {
      "text/html": [
       "<pre style=\"white-space:pre;overflow-x:auto;line-height:normal;font-family:Menlo,'DejaVu Sans Mono',consolas,'Courier New',monospace\"><span style=\"font-weight: bold\">Model: \"sequential_1\"</span>\n",
       "</pre>\n"
      ],
      "text/plain": [
       "\u001b[1mModel: \"sequential_1\"\u001b[0m\n"
      ]
     },
     "metadata": {},
     "output_type": "display_data"
    },
    {
     "data": {
      "text/html": [
       "<pre style=\"white-space:pre;overflow-x:auto;line-height:normal;font-family:Menlo,'DejaVu Sans Mono',consolas,'Courier New',monospace\">┏━━━━━━━━━━━━━━━━━━━━━━━━━━━━━━━━━━━━━━┳━━━━━━━━━━━━━━━━━━━━━━━━━━━━━┳━━━━━━━━━━━━━━━━━┓\n",
       "┃<span style=\"font-weight: bold\"> Layer (type)                         </span>┃<span style=\"font-weight: bold\"> Output Shape                </span>┃<span style=\"font-weight: bold\">         Param # </span>┃\n",
       "┡━━━━━━━━━━━━━━━━━━━━━━━━━━━━━━━━━━━━━━╇━━━━━━━━━━━━━━━━━━━━━━━━━━━━━╇━━━━━━━━━━━━━━━━━┩\n",
       "│ lstm_1 (<span style=\"color: #0087ff; text-decoration-color: #0087ff\">LSTM</span>)                        │ (<span style=\"color: #00d7ff; text-decoration-color: #00d7ff\">None</span>, <span style=\"color: #00af00; text-decoration-color: #00af00\">128</span>)                 │          <span style=\"color: #00af00; text-decoration-color: #00af00\">93,696</span> │\n",
       "├──────────────────────────────────────┼─────────────────────────────┼─────────────────┤\n",
       "│ dense_2 (<span style=\"color: #0087ff; text-decoration-color: #0087ff\">Dense</span>)                      │ (<span style=\"color: #00d7ff; text-decoration-color: #00d7ff\">None</span>, <span style=\"color: #00af00; text-decoration-color: #00af00\">128</span>)                 │          <span style=\"color: #00af00; text-decoration-color: #00af00\">16,512</span> │\n",
       "├──────────────────────────────────────┼─────────────────────────────┼─────────────────┤\n",
       "│ dense_3 (<span style=\"color: #0087ff; text-decoration-color: #0087ff\">Dense</span>)                      │ (<span style=\"color: #00d7ff; text-decoration-color: #00d7ff\">None</span>, <span style=\"color: #00af00; text-decoration-color: #00af00\">19</span>)                  │           <span style=\"color: #00af00; text-decoration-color: #00af00\">2,451</span> │\n",
       "└──────────────────────────────────────┴─────────────────────────────┴─────────────────┘\n",
       "</pre>\n"
      ],
      "text/plain": [
       "┏━━━━━━━━━━━━━━━━━━━━━━━━━━━━━━━━━━━━━━┳━━━━━━━━━━━━━━━━━━━━━━━━━━━━━┳━━━━━━━━━━━━━━━━━┓\n",
       "┃\u001b[1m \u001b[0m\u001b[1mLayer (type)                        \u001b[0m\u001b[1m \u001b[0m┃\u001b[1m \u001b[0m\u001b[1mOutput Shape               \u001b[0m\u001b[1m \u001b[0m┃\u001b[1m \u001b[0m\u001b[1m        Param #\u001b[0m\u001b[1m \u001b[0m┃\n",
       "┡━━━━━━━━━━━━━━━━━━━━━━━━━━━━━━━━━━━━━━╇━━━━━━━━━━━━━━━━━━━━━━━━━━━━━╇━━━━━━━━━━━━━━━━━┩\n",
       "│ lstm_1 (\u001b[38;5;33mLSTM\u001b[0m)                        │ (\u001b[38;5;45mNone\u001b[0m, \u001b[38;5;34m128\u001b[0m)                 │          \u001b[38;5;34m93,696\u001b[0m │\n",
       "├──────────────────────────────────────┼─────────────────────────────┼─────────────────┤\n",
       "│ dense_2 (\u001b[38;5;33mDense\u001b[0m)                      │ (\u001b[38;5;45mNone\u001b[0m, \u001b[38;5;34m128\u001b[0m)                 │          \u001b[38;5;34m16,512\u001b[0m │\n",
       "├──────────────────────────────────────┼─────────────────────────────┼─────────────────┤\n",
       "│ dense_3 (\u001b[38;5;33mDense\u001b[0m)                      │ (\u001b[38;5;45mNone\u001b[0m, \u001b[38;5;34m19\u001b[0m)                  │           \u001b[38;5;34m2,451\u001b[0m │\n",
       "└──────────────────────────────────────┴─────────────────────────────┴─────────────────┘\n"
      ]
     },
     "metadata": {},
     "output_type": "display_data"
    },
    {
     "data": {
      "text/html": [
       "<pre style=\"white-space:pre;overflow-x:auto;line-height:normal;font-family:Menlo,'DejaVu Sans Mono',consolas,'Courier New',monospace\"><span style=\"font-weight: bold\"> Total params: </span><span style=\"color: #00af00; text-decoration-color: #00af00\">112,659</span> (440.07 KB)\n",
       "</pre>\n"
      ],
      "text/plain": [
       "\u001b[1m Total params: \u001b[0m\u001b[38;5;34m112,659\u001b[0m (440.07 KB)\n"
      ]
     },
     "metadata": {},
     "output_type": "display_data"
    },
    {
     "data": {
      "text/html": [
       "<pre style=\"white-space:pre;overflow-x:auto;line-height:normal;font-family:Menlo,'DejaVu Sans Mono',consolas,'Courier New',monospace\"><span style=\"font-weight: bold\"> Trainable params: </span><span style=\"color: #00af00; text-decoration-color: #00af00\">112,659</span> (440.07 KB)\n",
       "</pre>\n"
      ],
      "text/plain": [
       "\u001b[1m Trainable params: \u001b[0m\u001b[38;5;34m112,659\u001b[0m (440.07 KB)\n"
      ]
     },
     "metadata": {},
     "output_type": "display_data"
    },
    {
     "data": {
      "text/html": [
       "<pre style=\"white-space:pre;overflow-x:auto;line-height:normal;font-family:Menlo,'DejaVu Sans Mono',consolas,'Courier New',monospace\"><span style=\"font-weight: bold\"> Non-trainable params: </span><span style=\"color: #00af00; text-decoration-color: #00af00\">0</span> (0.00 B)\n",
       "</pre>\n"
      ],
      "text/plain": [
       "\u001b[1m Non-trainable params: \u001b[0m\u001b[38;5;34m0\u001b[0m (0.00 B)\n"
      ]
     },
     "metadata": {},
     "output_type": "display_data"
    }
   ],
   "source": [
    "model2.summary()"
   ]
  },
  {
   "cell_type": "code",
   "execution_count": 55,
   "id": "98ef229b-a182-4a24-8144-6b1d975eb76a",
   "metadata": {},
   "outputs": [
    {
     "name": "stdout",
     "output_type": "stream",
     "text": [
      "Epoch 1/20\n",
      "\u001b[1m193/193\u001b[0m \u001b[32m━━━━━━━━━━━━━━━━━━━━\u001b[0m\u001b[37m\u001b[0m \u001b[1m12s\u001b[0m 17ms/step - accuracy: 0.2171 - loss: 2.5190 - val_accuracy: 0.5439 - val_loss: 1.2880\n",
      "Epoch 2/20\n",
      "\u001b[1m193/193\u001b[0m \u001b[32m━━━━━━━━━━━━━━━━━━━━\u001b[0m\u001b[37m\u001b[0m \u001b[1m2s\u001b[0m 10ms/step - accuracy: 0.6509 - loss: 1.0804 - val_accuracy: 0.6988 - val_loss: 0.9163\n",
      "Epoch 3/20\n",
      "\u001b[1m193/193\u001b[0m \u001b[32m━━━━━━━━━━━━━━━━━━━━\u001b[0m\u001b[37m\u001b[0m \u001b[1m2s\u001b[0m 10ms/step - accuracy: 0.7725 - loss: 0.7606 - val_accuracy: 0.7880 - val_loss: 0.7217\n",
      "Epoch 4/20\n",
      "\u001b[1m193/193\u001b[0m \u001b[32m━━━━━━━━━━━━━━━━━━━━\u001b[0m\u001b[37m\u001b[0m \u001b[1m2s\u001b[0m 10ms/step - accuracy: 0.8487 - loss: 0.5322 - val_accuracy: 0.8246 - val_loss: 0.6342\n",
      "Epoch 5/20\n",
      "\u001b[1m193/193\u001b[0m \u001b[32m━━━━━━━━━━━━━━━━━━━━\u001b[0m\u001b[37m\u001b[0m \u001b[1m2s\u001b[0m 11ms/step - accuracy: 0.8753 - loss: 0.4323 - val_accuracy: 0.8392 - val_loss: 0.5661\n",
      "Epoch 6/20\n",
      "\u001b[1m193/193\u001b[0m \u001b[32m━━━━━━━━━━━━━━━━━━━━\u001b[0m\u001b[37m\u001b[0m \u001b[1m2s\u001b[0m 11ms/step - accuracy: 0.8947 - loss: 0.3561 - val_accuracy: 0.8596 - val_loss: 0.5025\n",
      "Epoch 7/20\n",
      "\u001b[1m193/193\u001b[0m \u001b[32m━━━━━━━━━━━━━━━━━━━━\u001b[0m\u001b[37m\u001b[0m \u001b[1m2s\u001b[0m 11ms/step - accuracy: 0.9207 - loss: 0.2819 - val_accuracy: 0.8611 - val_loss: 0.4965\n",
      "Epoch 8/20\n",
      "\u001b[1m193/193\u001b[0m \u001b[32m━━━━━━━━━━━━━━━━━━━━\u001b[0m\u001b[37m\u001b[0m \u001b[1m2s\u001b[0m 11ms/step - accuracy: 0.9410 - loss: 0.2078 - val_accuracy: 0.8684 - val_loss: 0.4772\n",
      "Epoch 9/20\n",
      "\u001b[1m193/193\u001b[0m \u001b[32m━━━━━━━━━━━━━━━━━━━━\u001b[0m\u001b[37m\u001b[0m \u001b[1m2s\u001b[0m 11ms/step - accuracy: 0.9464 - loss: 0.1894 - val_accuracy: 0.8538 - val_loss: 0.4827\n",
      "Epoch 10/20\n",
      "\u001b[1m193/193\u001b[0m \u001b[32m━━━━━━━━━━━━━━━━━━━━\u001b[0m\u001b[37m\u001b[0m \u001b[1m2s\u001b[0m 10ms/step - accuracy: 0.9586 - loss: 0.1508 - val_accuracy: 0.8553 - val_loss: 0.4715\n",
      "Epoch 11/20\n",
      "\u001b[1m193/193\u001b[0m \u001b[32m━━━━━━━━━━━━━━━━━━━━\u001b[0m\u001b[37m\u001b[0m \u001b[1m2s\u001b[0m 12ms/step - accuracy: 0.9595 - loss: 0.1411 - val_accuracy: 0.8801 - val_loss: 0.4525\n",
      "Epoch 12/20\n",
      "\u001b[1m193/193\u001b[0m \u001b[32m━━━━━━━━━━━━━━━━━━━━\u001b[0m\u001b[37m\u001b[0m \u001b[1m2s\u001b[0m 11ms/step - accuracy: 0.9742 - loss: 0.1012 - val_accuracy: 0.8728 - val_loss: 0.5102\n",
      "Epoch 13/20\n",
      "\u001b[1m193/193\u001b[0m \u001b[32m━━━━━━━━━━━━━━━━━━━━\u001b[0m\u001b[37m\u001b[0m \u001b[1m2s\u001b[0m 11ms/step - accuracy: 0.9792 - loss: 0.0975 - val_accuracy: 0.8596 - val_loss: 0.5306\n",
      "Epoch 14/20\n",
      "\u001b[1m193/193\u001b[0m \u001b[32m━━━━━━━━━━━━━━━━━━━━\u001b[0m\u001b[37m\u001b[0m \u001b[1m2s\u001b[0m 10ms/step - accuracy: 0.9796 - loss: 0.0742 - val_accuracy: 0.8801 - val_loss: 0.4875\n",
      "Epoch 15/20\n",
      "\u001b[1m193/193\u001b[0m \u001b[32m━━━━━━━━━━━━━━━━━━━━\u001b[0m\u001b[37m\u001b[0m \u001b[1m2s\u001b[0m 11ms/step - accuracy: 0.9812 - loss: 0.0688 - val_accuracy: 0.8743 - val_loss: 0.5386\n",
      "Epoch 16/20\n",
      "\u001b[1m193/193\u001b[0m \u001b[32m━━━━━━━━━━━━━━━━━━━━\u001b[0m\u001b[37m\u001b[0m \u001b[1m2s\u001b[0m 11ms/step - accuracy: 0.9901 - loss: 0.0511 - val_accuracy: 0.8830 - val_loss: 0.5152\n",
      "Epoch 17/20\n",
      "\u001b[1m193/193\u001b[0m \u001b[32m━━━━━━━━━━━━━━━━━━━━\u001b[0m\u001b[37m\u001b[0m \u001b[1m2s\u001b[0m 11ms/step - accuracy: 0.9941 - loss: 0.0313 - val_accuracy: 0.8801 - val_loss: 0.5310\n",
      "Epoch 18/20\n",
      "\u001b[1m193/193\u001b[0m \u001b[32m━━━━━━━━━━━━━━━━━━━━\u001b[0m\u001b[37m\u001b[0m \u001b[1m2s\u001b[0m 11ms/step - accuracy: 0.9895 - loss: 0.0418 - val_accuracy: 0.8772 - val_loss: 0.5309\n",
      "Epoch 19/20\n",
      "\u001b[1m193/193\u001b[0m \u001b[32m━━━━━━━━━━━━━━━━━━━━\u001b[0m\u001b[37m\u001b[0m \u001b[1m2s\u001b[0m 10ms/step - accuracy: 0.9899 - loss: 0.0387 - val_accuracy: 0.8611 - val_loss: 0.6639\n",
      "Epoch 20/20\n",
      "\u001b[1m193/193\u001b[0m \u001b[32m━━━━━━━━━━━━━━━━━━━━\u001b[0m\u001b[37m\u001b[0m \u001b[1m2s\u001b[0m 11ms/step - accuracy: 0.9863 - loss: 0.0502 - val_accuracy: 0.8772 - val_loss: 0.5675\n"
     ]
    }
   ],
   "source": [
    "history2 = model2.fit(X_train_seq_LA, y_train_seq_LA, epochs = 20, batch_size = 32, validation_split = 0.1, shuffle = True)"
   ]
  },
  {
   "cell_type": "code",
   "execution_count": 56,
   "id": "584c0a1c-fb08-43fb-8aae-1a45dfdf5acb",
   "metadata": {},
   "outputs": [
    {
     "data": {
      "text/plain": [
       "<matplotlib.legend.Legend at 0x29327148080>"
      ]
     },
     "execution_count": 56,
     "metadata": {},
     "output_type": "execute_result"
    },
    {
     "data": {
      "image/png": "[encoded data removed]",
      "text/plain": [
       "<Figure size 640x480 with 1 Axes>"
      ]
     },
     "metadata": {},
     "output_type": "display_data"
    }
   ],
   "source": [
    "plt.plot(history2.history[\"loss\"], label = \"train\")\n",
    "plt.plot(history2.history[\"val_loss\"], label = \"test\")\n",
    "plt.legend()"
   ]
  },
  {
   "cell_type": "code",
   "execution_count": 57,
   "id": "03b0a4a1-c3c7-46c5-a240-5ea0ca5d5267",
   "metadata": {},
   "outputs": [
    {
     "name": "stdout",
     "output_type": "stream",
     "text": [
      "\u001b[1m214/214\u001b[0m \u001b[32m━━━━━━━━━━━━━━━━━━━━\u001b[0m\u001b[37m\u001b[0m \u001b[1m1s\u001b[0m 6ms/step - accuracy: 0.9920 - loss: 0.0330\n"
     ]
    },
    {
     "data": {
      "text/plain": [
       "[0.08200221508741379, 0.9814273118972778]"
      ]
     },
     "execution_count": 57,
     "metadata": {},
     "output_type": "execute_result"
    }
   ],
   "source": [
    "model2.evaluate(X_train_seq_LA, y_train_seq_LA)"
   ]
  },
  {
   "cell_type": "code",
   "execution_count": 58,
   "id": "86b0e8f6-c8f5-43d6-acf5-99cce38d18c3",
   "metadata": {},
   "outputs": [
    {
     "name": "stdout",
     "output_type": "stream",
     "text": [
      "\u001b[1m72/72\u001b[0m \u001b[32m━━━━━━━━━━━━━━━━━━━━\u001b[0m\u001b[37m\u001b[0m \u001b[1m1s\u001b[0m 6ms/step - accuracy: 0.8807 - loss: 0.5767\n"
     ]
    },
    {
     "data": {
      "text/plain": [
       "[0.5754761695861816, 0.8845478296279907]"
      ]
     },
     "execution_count": 58,
     "metadata": {},
     "output_type": "execute_result"
    }
   ],
   "source": [
    "model2.evaluate(X_test_seq_LA, y_test_seq_LA)"
   ]
  },
  {
   "cell_type": "code",
   "execution_count": 59,
   "id": "e067dc29-c9c0-4328-85cc-89804724ee84",
   "metadata": {},
   "outputs": [
    {
     "name": "stdout",
     "output_type": "stream",
     "text": [
      "\u001b[1m72/72\u001b[0m \u001b[32m━━━━━━━━━━━━━━━━━━━━\u001b[0m\u001b[37m\u001b[0m \u001b[1m2s\u001b[0m 15ms/step\n",
      "Confusion Matrix\n"
     ]
    },
    {
     "data": {
      "image/png": "[encoded data removed]",
      "text/plain": [
       "<Figure size 800x600 with 2 Axes>"
      ]
     },
     "metadata": {},
     "output_type": "display_data"
    }
   ],
   "source": [
    "import matplotlib.pyplot as plt\n",
    "import seaborn as sns\n",
    "from sklearn.metrics import confusion_matrix\n",
    "\n",
    "from sklearn.metrics import confusion_matrix,classification_report,accuracy_score\n",
    "\n",
    "y_test_arg=np.argmax(y_test_seq_LA, axis=1)\n",
    "Y_pred = np.argmax(model2.predict(X_test_seq_LA),axis=1)\n",
    "\n",
    "print('Confusion Matrix')\n",
    "cm = confusion_matrix(y_test_arg, Y_pred)\n",
    "\n",
    "# 시각화\n",
    "plt.figure(figsize=(8, 6))  # 그래프 크기 조절 (너비 8, 높이 6)\n",
    "sns.heatmap(cm, annot=True, fmt=\"d\", cmap=\"Greens\")\n",
    "\n",
    "# 그래프 표시\n",
    "plt.show()"
   ]
  },
  {
   "cell_type": "code",
   "execution_count": 60,
   "id": "cacf6b3c-e7e9-4872-bfba-674e0bb377e5",
   "metadata": {},
   "outputs": [
    {
     "name": "stdout",
     "output_type": "stream",
     "text": [
      "\u001b[1m72/72\u001b[0m \u001b[32m━━━━━━━━━━━━━━━━━━━━\u001b[0m\u001b[37m\u001b[0m \u001b[1m0s\u001b[0m 6ms/step - accuracy: 0.8807 - loss: 0.5767\n",
      "model saved at  ./datasets/LA_Model.keras\n",
      "Accuracy >88.454783\n",
      "Base Loss >0.58\n"
     ]
    }
   ],
   "source": [
    "base_loss,base_accuracy=model2.evaluate(X_test_seq_LA, y_test_seq_LA)\n",
    "\n",
    "model_file2='./datasets/LA_Model.keras'\n",
    "  \n",
    "tf.keras.models.save_model(model2, model_file2, include_optimizer=False)\n",
    "print('model saved at ', model_file2)\n",
    "score=base_accuracy*100\n",
    "print('Accuracy >{:f}'.format(score))\n",
    "print('Base Loss >{:.2f}'.format(base_loss))"
   ]
  },
  {
   "cell_type": "markdown",
   "id": "51b6871e-976c-4668-be63-4a57c8481592",
   "metadata": {},
   "source": [
    "학습시킨 LA 모델은 model_file 위치에, RA 모델 model_file2 위치에 저장해놓았다.  \n",
    "바로 아래에서 로드하여 전이학습 및 미세조정에 사용할 것이다."
   ]
  },
  {
   "cell_type": "markdown",
   "id": "f49c8c9e-2005-4975-89c4-e050cce59edf",
   "metadata": {},
   "source": [
    "## (2) 전이 학습 및 미세 조정\n",
    "### Load LA Model and Evaluate"
   ]
  },
  {
   "cell_type": "code",
   "execution_count": 63,
   "id": "3ee5f797-90a6-45c9-be0c-ff6b46ff7f5f",
   "metadata": {},
   "outputs": [],
   "source": [
    "# Base 모델을 로드 (LA_Model.keras)\n",
    "from tensorflow.keras.models import load_model\n",
    "\n",
    "base_model = load_model(model_file2)"
   ]
  },
  {
   "cell_type": "code",
   "execution_count": 64,
   "id": "6ef9c17f-51cc-44f8-8847-e6aa67fc1847",
   "metadata": {},
   "outputs": [
    {
     "name": "stdout",
     "output_type": "stream",
     "text": [
      "\u001b[1m72/72\u001b[0m \u001b[32m━━━━━━━━━━━━━━━━━━━━\u001b[0m\u001b[37m\u001b[0m \u001b[1m3s\u001b[0m 6ms/step - accuracy: 0.8807 - loss: 0.5767\n"
     ]
    },
    {
     "data": {
      "text/plain": [
       "[0.5754761695861816, 0.8845478296279907]"
      ]
     },
     "execution_count": 64,
     "metadata": {},
     "output_type": "execute_result"
    }
   ],
   "source": [
    "base_model.compile(optimizer='adam', metrics=['accuracy'], loss='categorical_crossentropy')\n",
    "base_model.evaluate(X_test_seq_LA, y_test_seq_LA)"
   ]
  },
  {
   "cell_type": "code",
   "execution_count": 65,
   "id": "a9ccb667-37fe-41ac-8a6f-2f0e728509fb",
   "metadata": {},
   "outputs": [
    {
     "name": "stdout",
     "output_type": "stream",
     "text": [
      "\u001b[1m72/72\u001b[0m \u001b[32m━━━━━━━━━━━━━━━━━━━━\u001b[0m\u001b[37m\u001b[0m \u001b[1m0s\u001b[0m 5ms/step - accuracy: 0.2174 - loss: 5.9441\n"
     ]
    },
    {
     "data": {
      "text/plain": [
       "[5.7742390632629395, 0.22914837300777435]"
      ]
     },
     "execution_count": 65,
     "metadata": {},
     "output_type": "execute_result"
    }
   ],
   "source": [
    "base_model.evaluate(X_test_seq_RA, y_test_seq_RA)"
   ]
  },
  {
   "cell_type": "markdown",
   "id": "b40fd344-2d55-4cee-b2d1-6021031ea9cf",
   "metadata": {},
   "source": [
    "로드한 LA 모델을 LA 데이터로 평가하면 88%의 정확도를 보이며, RA 데이터로 평가하면 22%의 정확도로 현저히 낮아짐을 보인다."
   ]
  },
  {
   "cell_type": "code",
   "execution_count": 67,
   "id": "d22738ff-7517-4ea1-9407-384625464183",
   "metadata": {},
   "outputs": [
    {
     "name": "stdout",
     "output_type": "stream",
     "text": [
      "Number of layers in the base model:  3\n"
     ]
    }
   ],
   "source": [
    "print(\"Number of layers in the base model: \", len(base_model.layers))"
   ]
  },
  {
   "cell_type": "markdown",
   "id": "f212b16f-ab34-4ccf-bd70-994d30e091e3",
   "metadata": {},
   "source": [
    "### 미세조정"
   ]
  },
  {
   "cell_type": "markdown",
   "id": "c3d020a2-57ad-4214-bf5f-909a9b5ca631",
   "metadata": {},
   "source": [
    "저장된 basemodel에 층을 추가하여 미세조정해볼 것이다.   \n",
    "이를 위해선 저장된 모델의 Output layer를 제외한 후 층을 쌓아야 한다.  \n"
   ]
  },
  {
   "cell_type": "code",
   "execution_count": 70,
   "id": "919f9524-8d90-469c-9f07-bbcb8d2742d4",
   "metadata": {},
   "outputs": [
    {
     "data": {
      "text/html": [
       "<pre style=\"white-space:pre;overflow-x:auto;line-height:normal;font-family:Menlo,'DejaVu Sans Mono',consolas,'Courier New',monospace\"><span style=\"font-weight: bold\">Model: \"sequential_1\"</span>\n",
       "</pre>\n"
      ],
      "text/plain": [
       "\u001b[1mModel: \"sequential_1\"\u001b[0m\n"
      ]
     },
     "metadata": {},
     "output_type": "display_data"
    },
    {
     "data": {
      "text/html": [
       "<pre style=\"white-space:pre;overflow-x:auto;line-height:normal;font-family:Menlo,'DejaVu Sans Mono',consolas,'Courier New',monospace\">┏━━━━━━━━━━━━━━━━━━━━━━━━━━━━━━━━━━━━━━┳━━━━━━━━━━━━━━━━━━━━━━━━━━━━━┳━━━━━━━━━━━━━━━━━┓\n",
       "┃<span style=\"font-weight: bold\"> Layer (type)                         </span>┃<span style=\"font-weight: bold\"> Output Shape                </span>┃<span style=\"font-weight: bold\">         Param # </span>┃\n",
       "┡━━━━━━━━━━━━━━━━━━━━━━━━━━━━━━━━━━━━━━╇━━━━━━━━━━━━━━━━━━━━━━━━━━━━━╇━━━━━━━━━━━━━━━━━┩\n",
       "│ lstm_1 (<span style=\"color: #0087ff; text-decoration-color: #0087ff\">LSTM</span>)                        │ (<span style=\"color: #00d7ff; text-decoration-color: #00d7ff\">None</span>, <span style=\"color: #00af00; text-decoration-color: #00af00\">128</span>)                 │          <span style=\"color: #00af00; text-decoration-color: #00af00\">93,696</span> │\n",
       "├──────────────────────────────────────┼─────────────────────────────┼─────────────────┤\n",
       "│ dense_2 (<span style=\"color: #0087ff; text-decoration-color: #0087ff\">Dense</span>)                      │ (<span style=\"color: #00d7ff; text-decoration-color: #00d7ff\">None</span>, <span style=\"color: #00af00; text-decoration-color: #00af00\">128</span>)                 │          <span style=\"color: #00af00; text-decoration-color: #00af00\">16,512</span> │\n",
       "├──────────────────────────────────────┼─────────────────────────────┼─────────────────┤\n",
       "│ dense_3 (<span style=\"color: #0087ff; text-decoration-color: #0087ff\">Dense</span>)                      │ (<span style=\"color: #00d7ff; text-decoration-color: #00d7ff\">None</span>, <span style=\"color: #00af00; text-decoration-color: #00af00\">19</span>)                  │           <span style=\"color: #00af00; text-decoration-color: #00af00\">2,451</span> │\n",
       "└──────────────────────────────────────┴─────────────────────────────┴─────────────────┘\n",
       "</pre>\n"
      ],
      "text/plain": [
       "┏━━━━━━━━━━━━━━━━━━━━━━━━━━━━━━━━━━━━━━┳━━━━━━━━━━━━━━━━━━━━━━━━━━━━━┳━━━━━━━━━━━━━━━━━┓\n",
       "┃\u001b[1m \u001b[0m\u001b[1mLayer (type)                        \u001b[0m\u001b[1m \u001b[0m┃\u001b[1m \u001b[0m\u001b[1mOutput Shape               \u001b[0m\u001b[1m \u001b[0m┃\u001b[1m \u001b[0m\u001b[1m        Param #\u001b[0m\u001b[1m \u001b[0m┃\n",
       "┡━━━━━━━━━━━━━━━━━━━━━━━━━━━━━━━━━━━━━━╇━━━━━━━━━━━━━━━━━━━━━━━━━━━━━╇━━━━━━━━━━━━━━━━━┩\n",
       "│ lstm_1 (\u001b[38;5;33mLSTM\u001b[0m)                        │ (\u001b[38;5;45mNone\u001b[0m, \u001b[38;5;34m128\u001b[0m)                 │          \u001b[38;5;34m93,696\u001b[0m │\n",
       "├──────────────────────────────────────┼─────────────────────────────┼─────────────────┤\n",
       "│ dense_2 (\u001b[38;5;33mDense\u001b[0m)                      │ (\u001b[38;5;45mNone\u001b[0m, \u001b[38;5;34m128\u001b[0m)                 │          \u001b[38;5;34m16,512\u001b[0m │\n",
       "├──────────────────────────────────────┼─────────────────────────────┼─────────────────┤\n",
       "│ dense_3 (\u001b[38;5;33mDense\u001b[0m)                      │ (\u001b[38;5;45mNone\u001b[0m, \u001b[38;5;34m19\u001b[0m)                  │           \u001b[38;5;34m2,451\u001b[0m │\n",
       "└──────────────────────────────────────┴─────────────────────────────┴─────────────────┘\n"
      ]
     },
     "metadata": {},
     "output_type": "display_data"
    },
    {
     "data": {
      "text/html": [
       "<pre style=\"white-space:pre;overflow-x:auto;line-height:normal;font-family:Menlo,'DejaVu Sans Mono',consolas,'Courier New',monospace\"><span style=\"font-weight: bold\"> Total params: </span><span style=\"color: #00af00; text-decoration-color: #00af00\">112,659</span> (440.07 KB)\n",
       "</pre>\n"
      ],
      "text/plain": [
       "\u001b[1m Total params: \u001b[0m\u001b[38;5;34m112,659\u001b[0m (440.07 KB)\n"
      ]
     },
     "metadata": {},
     "output_type": "display_data"
    },
    {
     "data": {
      "text/html": [
       "<pre style=\"white-space:pre;overflow-x:auto;line-height:normal;font-family:Menlo,'DejaVu Sans Mono',consolas,'Courier New',monospace\"><span style=\"font-weight: bold\"> Trainable params: </span><span style=\"color: #00af00; text-decoration-color: #00af00\">112,659</span> (440.07 KB)\n",
       "</pre>\n"
      ],
      "text/plain": [
       "\u001b[1m Trainable params: \u001b[0m\u001b[38;5;34m112,659\u001b[0m (440.07 KB)\n"
      ]
     },
     "metadata": {},
     "output_type": "display_data"
    },
    {
     "data": {
      "text/html": [
       "<pre style=\"white-space:pre;overflow-x:auto;line-height:normal;font-family:Menlo,'DejaVu Sans Mono',consolas,'Courier New',monospace\"><span style=\"font-weight: bold\"> Non-trainable params: </span><span style=\"color: #00af00; text-decoration-color: #00af00\">0</span> (0.00 B)\n",
       "</pre>\n"
      ],
      "text/plain": [
       "\u001b[1m Non-trainable params: \u001b[0m\u001b[38;5;34m0\u001b[0m (0.00 B)\n"
      ]
     },
     "metadata": {},
     "output_type": "display_data"
    }
   ],
   "source": [
    "# 기존 모델 구조\n",
    "base_model.summary()"
   ]
  },
  {
   "cell_type": "code",
   "execution_count": 71,
   "id": "a479698d-2ab4-4371-bc60-38e542e0a56f",
   "metadata": {},
   "outputs": [
    {
     "data": {
      "text/html": [
       "<pre style=\"white-space:pre;overflow-x:auto;line-height:normal;font-family:Menlo,'DejaVu Sans Mono',consolas,'Courier New',monospace\"><span style=\"font-weight: bold\">Model: \"sequential_1\"</span>\n",
       "</pre>\n"
      ],
      "text/plain": [
       "\u001b[1mModel: \"sequential_1\"\u001b[0m\n"
      ]
     },
     "metadata": {},
     "output_type": "display_data"
    },
    {
     "data": {
      "text/html": [
       "<pre style=\"white-space:pre;overflow-x:auto;line-height:normal;font-family:Menlo,'DejaVu Sans Mono',consolas,'Courier New',monospace\">┏━━━━━━━━━━━━━━━━━━━━━━━━━━━━━━━━━━━━━━┳━━━━━━━━━━━━━━━━━━━━━━━━━━━━━┳━━━━━━━━━━━━━━━━━┓\n",
       "┃<span style=\"font-weight: bold\"> Layer (type)                         </span>┃<span style=\"font-weight: bold\"> Output Shape                </span>┃<span style=\"font-weight: bold\">         Param # </span>┃\n",
       "┡━━━━━━━━━━━━━━━━━━━━━━━━━━━━━━━━━━━━━━╇━━━━━━━━━━━━━━━━━━━━━━━━━━━━━╇━━━━━━━━━━━━━━━━━┩\n",
       "│ lstm_1 (<span style=\"color: #0087ff; text-decoration-color: #0087ff\">LSTM</span>)                        │ (<span style=\"color: #00d7ff; text-decoration-color: #00d7ff\">None</span>, <span style=\"color: #00af00; text-decoration-color: #00af00\">128</span>)                 │          <span style=\"color: #00af00; text-decoration-color: #00af00\">93,696</span> │\n",
       "├──────────────────────────────────────┼─────────────────────────────┼─────────────────┤\n",
       "│ dense_2 (<span style=\"color: #0087ff; text-decoration-color: #0087ff\">Dense</span>)                      │ (<span style=\"color: #00d7ff; text-decoration-color: #00d7ff\">None</span>, <span style=\"color: #00af00; text-decoration-color: #00af00\">128</span>)                 │          <span style=\"color: #00af00; text-decoration-color: #00af00\">16,512</span> │\n",
       "└──────────────────────────────────────┴─────────────────────────────┴─────────────────┘\n",
       "</pre>\n"
      ],
      "text/plain": [
       "┏━━━━━━━━━━━━━━━━━━━━━━━━━━━━━━━━━━━━━━┳━━━━━━━━━━━━━━━━━━━━━━━━━━━━━┳━━━━━━━━━━━━━━━━━┓\n",
       "┃\u001b[1m \u001b[0m\u001b[1mLayer (type)                        \u001b[0m\u001b[1m \u001b[0m┃\u001b[1m \u001b[0m\u001b[1mOutput Shape               \u001b[0m\u001b[1m \u001b[0m┃\u001b[1m \u001b[0m\u001b[1m        Param #\u001b[0m\u001b[1m \u001b[0m┃\n",
       "┡━━━━━━━━━━━━━━━━━━━━━━━━━━━━━━━━━━━━━━╇━━━━━━━━━━━━━━━━━━━━━━━━━━━━━╇━━━━━━━━━━━━━━━━━┩\n",
       "│ lstm_1 (\u001b[38;5;33mLSTM\u001b[0m)                        │ (\u001b[38;5;45mNone\u001b[0m, \u001b[38;5;34m128\u001b[0m)                 │          \u001b[38;5;34m93,696\u001b[0m │\n",
       "├──────────────────────────────────────┼─────────────────────────────┼─────────────────┤\n",
       "│ dense_2 (\u001b[38;5;33mDense\u001b[0m)                      │ (\u001b[38;5;45mNone\u001b[0m, \u001b[38;5;34m128\u001b[0m)                 │          \u001b[38;5;34m16,512\u001b[0m │\n",
       "└──────────────────────────────────────┴─────────────────────────────┴─────────────────┘\n"
      ]
     },
     "metadata": {},
     "output_type": "display_data"
    },
    {
     "data": {
      "text/html": [
       "<pre style=\"white-space:pre;overflow-x:auto;line-height:normal;font-family:Menlo,'DejaVu Sans Mono',consolas,'Courier New',monospace\"><span style=\"font-weight: bold\"> Total params: </span><span style=\"color: #00af00; text-decoration-color: #00af00\">110,208</span> (430.50 KB)\n",
       "</pre>\n"
      ],
      "text/plain": [
       "\u001b[1m Total params: \u001b[0m\u001b[38;5;34m110,208\u001b[0m (430.50 KB)\n"
      ]
     },
     "metadata": {},
     "output_type": "display_data"
    },
    {
     "data": {
      "text/html": [
       "<pre style=\"white-space:pre;overflow-x:auto;line-height:normal;font-family:Menlo,'DejaVu Sans Mono',consolas,'Courier New',monospace\"><span style=\"font-weight: bold\"> Trainable params: </span><span style=\"color: #00af00; text-decoration-color: #00af00\">110,208</span> (430.50 KB)\n",
       "</pre>\n"
      ],
      "text/plain": [
       "\u001b[1m Trainable params: \u001b[0m\u001b[38;5;34m110,208\u001b[0m (430.50 KB)\n"
      ]
     },
     "metadata": {},
     "output_type": "display_data"
    },
    {
     "data": {
      "text/html": [
       "<pre style=\"white-space:pre;overflow-x:auto;line-height:normal;font-family:Menlo,'DejaVu Sans Mono',consolas,'Courier New',monospace\"><span style=\"font-weight: bold\"> Non-trainable params: </span><span style=\"color: #00af00; text-decoration-color: #00af00\">0</span> (0.00 B)\n",
       "</pre>\n"
      ],
      "text/plain": [
       "\u001b[1m Non-trainable params: \u001b[0m\u001b[38;5;34m0\u001b[0m (0.00 B)\n"
      ]
     },
     "metadata": {},
     "output_type": "display_data"
    }
   ],
   "source": [
    "# Output layer POP\n",
    "base_model.pop()\n",
    "base_model.summary()"
   ]
  },
  {
   "cell_type": "code",
   "execution_count": 72,
   "id": "217f4a9b-fa18-408b-8452-5a5fd35a90cd",
   "metadata": {},
   "outputs": [
    {
     "data": {
      "text/html": [
       "<pre style=\"white-space:pre;overflow-x:auto;line-height:normal;font-family:Menlo,'DejaVu Sans Mono',consolas,'Courier New',monospace\"><span style=\"font-weight: bold\">Model: \"sequential_2\"</span>\n",
       "</pre>\n"
      ],
      "text/plain": [
       "\u001b[1mModel: \"sequential_2\"\u001b[0m\n"
      ]
     },
     "metadata": {},
     "output_type": "display_data"
    },
    {
     "data": {
      "text/html": [
       "<pre style=\"white-space:pre;overflow-x:auto;line-height:normal;font-family:Menlo,'DejaVu Sans Mono',consolas,'Courier New',monospace\">┏━━━━━━━━━━━━━━━━━━━━━━━━━━━━━━━━━━━━━━┳━━━━━━━━━━━━━━━━━━━━━━━━━━━━━┳━━━━━━━━━━━━━━━━━┓\n",
       "┃<span style=\"font-weight: bold\"> Layer (type)                         </span>┃<span style=\"font-weight: bold\"> Output Shape                </span>┃<span style=\"font-weight: bold\">         Param # </span>┃\n",
       "┡━━━━━━━━━━━━━━━━━━━━━━━━━━━━━━━━━━━━━━╇━━━━━━━━━━━━━━━━━━━━━━━━━━━━━╇━━━━━━━━━━━━━━━━━┩\n",
       "│ sequential_1 (<span style=\"color: #0087ff; text-decoration-color: #0087ff\">Sequential</span>)            │ (<span style=\"color: #00d7ff; text-decoration-color: #00d7ff\">None</span>, <span style=\"color: #00af00; text-decoration-color: #00af00\">128</span>)                 │         <span style=\"color: #00af00; text-decoration-color: #00af00\">110,208</span> │\n",
       "├──────────────────────────────────────┼─────────────────────────────┼─────────────────┤\n",
       "│ dense_4 (<span style=\"color: #0087ff; text-decoration-color: #0087ff\">Dense</span>)                      │ ?                           │     <span style=\"color: #00af00; text-decoration-color: #00af00\">0</span> (unbuilt) │\n",
       "├──────────────────────────────────────┼─────────────────────────────┼─────────────────┤\n",
       "│ dense_5 (<span style=\"color: #0087ff; text-decoration-color: #0087ff\">Dense</span>)                      │ ?                           │     <span style=\"color: #00af00; text-decoration-color: #00af00\">0</span> (unbuilt) │\n",
       "└──────────────────────────────────────┴─────────────────────────────┴─────────────────┘\n",
       "</pre>\n"
      ],
      "text/plain": [
       "┏━━━━━━━━━━━━━━━━━━━━━━━━━━━━━━━━━━━━━━┳━━━━━━━━━━━━━━━━━━━━━━━━━━━━━┳━━━━━━━━━━━━━━━━━┓\n",
       "┃\u001b[1m \u001b[0m\u001b[1mLayer (type)                        \u001b[0m\u001b[1m \u001b[0m┃\u001b[1m \u001b[0m\u001b[1mOutput Shape               \u001b[0m\u001b[1m \u001b[0m┃\u001b[1m \u001b[0m\u001b[1m        Param #\u001b[0m\u001b[1m \u001b[0m┃\n",
       "┡━━━━━━━━━━━━━━━━━━━━━━━━━━━━━━━━━━━━━━╇━━━━━━━━━━━━━━━━━━━━━━━━━━━━━╇━━━━━━━━━━━━━━━━━┩\n",
       "│ sequential_1 (\u001b[38;5;33mSequential\u001b[0m)            │ (\u001b[38;5;45mNone\u001b[0m, \u001b[38;5;34m128\u001b[0m)                 │         \u001b[38;5;34m110,208\u001b[0m │\n",
       "├──────────────────────────────────────┼─────────────────────────────┼─────────────────┤\n",
       "│ dense_4 (\u001b[38;5;33mDense\u001b[0m)                      │ ?                           │     \u001b[38;5;34m0\u001b[0m (unbuilt) │\n",
       "├──────────────────────────────────────┼─────────────────────────────┼─────────────────┤\n",
       "│ dense_5 (\u001b[38;5;33mDense\u001b[0m)                      │ ?                           │     \u001b[38;5;34m0\u001b[0m (unbuilt) │\n",
       "└──────────────────────────────────────┴─────────────────────────────┴─────────────────┘\n"
      ]
     },
     "metadata": {},
     "output_type": "display_data"
    },
    {
     "data": {
      "text/html": [
       "<pre style=\"white-space:pre;overflow-x:auto;line-height:normal;font-family:Menlo,'DejaVu Sans Mono',consolas,'Courier New',monospace\"><span style=\"font-weight: bold\"> Total params: </span><span style=\"color: #00af00; text-decoration-color: #00af00\">110,208</span> (430.50 KB)\n",
       "</pre>\n"
      ],
      "text/plain": [
       "\u001b[1m Total params: \u001b[0m\u001b[38;5;34m110,208\u001b[0m (430.50 KB)\n"
      ]
     },
     "metadata": {},
     "output_type": "display_data"
    },
    {
     "data": {
      "text/html": [
       "<pre style=\"white-space:pre;overflow-x:auto;line-height:normal;font-family:Menlo,'DejaVu Sans Mono',consolas,'Courier New',monospace\"><span style=\"font-weight: bold\"> Trainable params: </span><span style=\"color: #00af00; text-decoration-color: #00af00\">0</span> (0.00 B)\n",
       "</pre>\n"
      ],
      "text/plain": [
       "\u001b[1m Trainable params: \u001b[0m\u001b[38;5;34m0\u001b[0m (0.00 B)\n"
      ]
     },
     "metadata": {},
     "output_type": "display_data"
    },
    {
     "data": {
      "text/html": [
       "<pre style=\"white-space:pre;overflow-x:auto;line-height:normal;font-family:Menlo,'DejaVu Sans Mono',consolas,'Courier New',monospace\"><span style=\"font-weight: bold\"> Non-trainable params: </span><span style=\"color: #00af00; text-decoration-color: #00af00\">110,208</span> (430.50 KB)\n",
       "</pre>\n"
      ],
      "text/plain": [
       "\u001b[1m Non-trainable params: \u001b[0m\u001b[38;5;34m110,208\u001b[0m (430.50 KB)\n"
      ]
     },
     "metadata": {},
     "output_type": "display_data"
    }
   ],
   "source": [
    "# 기존 모델의 층을 동결 (학습되지 않도록 설정)\n",
    "base_model.trainable = False\n",
    "\n",
    "# 새로운 모델을 정의\n",
    "new_model = Sequential()\n",
    "\n",
    "# 기존 모델을 추가\n",
    "new_model.add(base_model)\n",
    "\n",
    "# 새로운 완전연결층 추가\n",
    "new_model.add(layers.Dense(64, activation='relu'))  # 기존 출력층 앞의 레이어 대신 추가\n",
    "\n",
    "# 최종 출력층 추가 (예: 10개의 클래스)\n",
    "new_model.add(layers.Dense(19, activation='softmax'))\n",
    "\n",
    "new_model.compile(optimizer='adam', metrics=['accuracy'], loss='categorical_crossentropy')\n",
    "\n",
    "# 모델 요약 출력\n",
    "new_model.summary()"
   ]
  },
  {
   "cell_type": "code",
   "execution_count": null,
   "id": "a5a0b877-f74a-4cea-89a0-d62c1c50a565",
   "metadata": {},
   "outputs": [],
   "source": []
  },
  {
   "cell_type": "code",
   "execution_count": null,
   "id": "0c7f6a4e-d8f7-47e4-aec9-e90881d77834",
   "metadata": {},
   "outputs": [],
   "source": []
  },
  {
   "cell_type": "markdown",
   "id": "1d4c0e64-8567-4fe0-8772-929cc1e64c59",
   "metadata": {},
   "source": [
    "## Load RA Model & Evaluate"
   ]
  },
  {
   "cell_type": "code",
   "execution_count": 74,
   "id": "ad6aec52-8b7f-44ee-aed1-7fa630fb1049",
   "metadata": {},
   "outputs": [],
   "source": [
    "# Base 모델을 로드 (LA_Model.keras)\n",
    "from tensorflow.keras.models import load_model\n",
    "\n",
    "base_model = load_model(model_file) # 동결시킬 base model"
   ]
  },
  {
   "cell_type": "code",
   "execution_count": 75,
   "id": "a200f66f-ba30-4d54-85bf-7325d01e8033",
   "metadata": {},
   "outputs": [
    {
     "name": "stdout",
     "output_type": "stream",
     "text": [
      "\u001b[1m72/72\u001b[0m \u001b[32m━━━━━━━━━━━━━━━━━━━━\u001b[0m\u001b[37m\u001b[0m \u001b[1m2s\u001b[0m 6ms/step - accuracy: 0.8684 - loss: 0.6587\n"
     ]
    },
    {
     "data": {
      "text/plain": [
       "[0.6595136523246765, 0.866110622882843]"
      ]
     },
     "execution_count": 75,
     "metadata": {},
     "output_type": "execute_result"
    }
   ],
   "source": [
    "base_model.compile(optimizer='adam', metrics=['accuracy'], loss='categorical_crossentropy')\n",
    "base_model.evaluate(X_test_seq_RA, y_test_seq_RA)"
   ]
  },
  {
   "cell_type": "code",
   "execution_count": 76,
   "id": "71280e92-c2f1-45e2-affa-d0b1ce934198",
   "metadata": {},
   "outputs": [
    {
     "name": "stdout",
     "output_type": "stream",
     "text": [
      "\u001b[1m72/72\u001b[0m \u001b[32m━━━━━━━━━━━━━━━━━━━━\u001b[0m\u001b[37m\u001b[0m \u001b[1m0s\u001b[0m 5ms/step - accuracy: 0.2608 - loss: 7.2114\n"
     ]
    },
    {
     "data": {
      "text/plain": [
       "[7.149883270263672, 0.25417032837867737]"
      ]
     },
     "execution_count": 76,
     "metadata": {},
     "output_type": "execute_result"
    }
   ],
   "source": [
    "base_model.evaluate(X_test_seq_LA, y_test_seq_LA)"
   ]
  },
  {
   "cell_type": "markdown",
   "id": "9e6b959c-3d04-4225-acac-a76a858b63fa",
   "metadata": {},
   "source": [
    "LA 모델과 마찬가지로 RA 모델 또한 RA 데이터에 대해선 87%로 비교적 높은 정확도를, LA 데이터에 대해선 23%롤 낮은 정확도를 보인다."
   ]
  },
  {
   "cell_type": "markdown",
   "id": "d63e44d6-87df-4b6f-896c-c46343a0104c",
   "metadata": {},
   "source": [
    "#### 미세조정"
   ]
  },
  {
   "cell_type": "code",
   "execution_count": null,
   "id": "277b355e-54a2-445a-8fac-5e1a549c8026",
   "metadata": {},
   "outputs": [],
   "source": []
  },
  {
   "cell_type": "markdown",
   "id": "6e036247-4fb5-4c20-9ec0-fa41e5896ff5",
   "metadata": {},
   "source": [
    "### 미세조정과 처음부터 모델을 만들어서 학습한 것과의 차이\n",
    "\n",
    " 앞서 우리는 미세 조정 학습을 위해, 학습된 모델을 로드해오고 모델의 output layer를 제거 후 층을 쌓았다. 학습된 모델의 가중치는 변화면 안되기 때문에 trainable=False를 통해 동결시켰다. 여기서 미세 조정의 이점을 파악할 수 있다. (학습을 통해 로드된 모델의 가중치가 변하면 로드해오는 의미가 없다.)\n",
    "1. **학습 시간 단축**  \n",
    "    이미 학습된 일반적인 특성을 재학습하지 않아도 되어 학습 속도가 크게 향상된다.\n",
    "1. **효율적인 학습 시작점**  \n",
    "   처음부터 모델을 설계하고, 학습을 시키면 알다시피 초기 가중치는 랜덤하게 설정되고 반복된 학습을 통해 오차를 최소화 하는 가중치를 찾는다. 미세조정 방식은 이미 잘 학습된 모델을 로드하고 동결시킴으로써, 위 과정을 생략한다. 이로써 기존과 유사한 도메인의 데이터일 경우 새로운 데이터 셋에 특화된 작은 조정만을 요구하므로 효율적이다. 다른 도메인일 경우에도 미세 조정을 통해 성능을 크게 개선할 수 있다는 이점이 생긴다.\n",
    "   \n"
   ]
  },
  {
   "cell_type": "code",
   "execution_count": null,
   "id": "9ba324a9-7cea-4e08-a3f1-0495413fa03e",
   "metadata": {},
   "outputs": [],
   "source": []
  }
 ],
 "metadata": {
  "kernelspec": {
   "display_name": "Python 3 (ipykernel)",
   "language": "python",
   "name": "python3"
  },
  "language_info": {
   "codemirror_mode": {
    "name": "ipython",
    "version": 3
   },
   "file_extension": ".py",
   "mimetype": "text/x-python",
   "name": "python",
   "nbconvert_exporter": "python",
   "pygments_lexer": "ipython3",
   "version": "3.12.4"
  }
 },
 "nbformat": 4,
 "nbformat_minor": 5
}
