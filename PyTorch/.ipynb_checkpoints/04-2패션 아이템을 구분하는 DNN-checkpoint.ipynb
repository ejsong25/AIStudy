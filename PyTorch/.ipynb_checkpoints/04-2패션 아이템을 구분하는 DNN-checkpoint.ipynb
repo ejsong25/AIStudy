{
 "cells": [
  {
   "cell_type": "markdown",
   "id": "36401314",
   "metadata": {},
   "source": [
    "# DNN\n",
    "fashion MNIST 데이터 셋을 활용해 classification을 해보자."
   ]
  },
  {
   "cell_type": "markdown",
   "id": "d8ec9125",
   "metadata": {},
   "source": [
    "2️⃣ DNN을 통해 Fashion MNIST Data 분류하기"
   ]
  },
  {
   "cell_type": "code",
   "execution_count": 12,
   "id": "3f22c24e",
   "metadata": {},
   "outputs": [],
   "source": [
    "import torch\n",
    "import torch.nn as nn\n",
    "import torch.nn.functional as F\n",
    "import torch.optim as optim\n",
    "from torchvision import datasets, transforms"
   ]
  },
  {
   "cell_type": "markdown",
   "id": "ee9c9a7c",
   "metadata": {},
   "source": [
    "tensor와 가중치에 대한 연산을 CPU와 GPU 중 어디서 실행할지 결정한다.  \n",
    "코드 공유 시에 유용하므로 항상 아래 코드를 포함하도록 하자.\n",
    "\n",
    "cuda인 경우 GPU에서, cpu인 경우는 cpu에서 실행된다."
   ]
  },
  {
   "cell_type": "code",
   "execution_count": 3,
   "id": "81d05d42",
   "metadata": {},
   "outputs": [],
   "source": [
    "USE_CUDA = torch.cuda.is_available() # cuda 사용 여부\n",
    "DEVICE = torch.device(\"cuda\" if USE_CUDA else \"cpu\")"
   ]
  },
  {
   "cell_type": "markdown",
   "id": "fa77b4e3",
   "metadata": {},
   "source": [
    "Fashion MNIST는 70,000개로 구성되어 그 수가 많다.  \n",
    "따라서 Batch size 단위로 나누어 학습시키자."
   ]
  },
  {
   "cell_type": "code",
   "execution_count": 4,
   "id": "64bde116",
   "metadata": {},
   "outputs": [],
   "source": [
    "EPOCHS = 30 # 학습과 평가를 epoch 만큼 진행\n",
    "batch_size = 64"
   ]
  },
  {
   "cell_type": "markdown",
   "id": "d1154856",
   "metadata": {},
   "source": [
    "#### DNN Structure\n",
    "- torch.nn 상속 Class 정의\n",
    "    - 생성자에서 각 layer에서 이뤄질 작업을 초기화한다.\n",
    "    - forward 함수에 forward propagation에 진행될 작업을 정의한다."
   ]
  },
  {
   "cell_type": "code",
   "execution_count": 13,
   "id": "07b225d2",
   "metadata": {},
   "outputs": [],
   "source": [
    "class Net(nn.Module):\n",
    "    def __init__(self):\n",
    "        super(Net, self).__init__()\n",
    "        \n",
    "        self.fc1 = nn.Linear(784, 256)\n",
    "        self.fc2 = nn.Linear(256, 128)\n",
    "        self.fc3 = nn.Linear(128, 10) # output layer ; multi-class classification\n",
    "    \n",
    "    def forward(self, x):\n",
    "        x = x.view(-1, 784) # 1차원 행렬로 변환\n",
    "        x = F.relu(self.fc1(x))        \n",
    "        x = F.relu(self.fc2(x))\n",
    "        x = self.fc3(x)\n",
    "        return x"
   ]
  },
  {
   "cell_type": "markdown",
   "id": "ae892636",
   "metadata": {},
   "source": [
    "nn.ReLu와 F.relu는 같은 기능을 제공한다. 따라서 원하는 것을 사용해도 된다.   \n",
    "단, torch.nn.functional은 가중치 없는 연산을, torch.nn 모듈은 가중치 있는 연산을 할 때 사용한다."
   ]
  },
  {
   "cell_type": "code",
   "execution_count": 14,
   "id": "bd296352",
   "metadata": {},
   "outputs": [],
   "source": [
    "model = Net().to(DEVICE) # 지정된 장치의 메모리로 전달"
   ]
  },
  {
   "cell_type": "code",
   "execution_count": 15,
   "id": "2a4c0330",
   "metadata": {},
   "outputs": [],
   "source": [
    "optimizer = optim.SGD(model.parameters(), lr=0.01)"
   ]
  },
  {
   "cell_type": "markdown",
   "id": "13ea8f6a",
   "metadata": {},
   "source": [
    "모델 학습에 입력되는 data는 [batch_size, 색, 높이, 넓이]  \n",
    "🤔왜 이런 모양이지...."
   ]
  },
  {
   "cell_type": "code",
   "execution_count": 19,
   "id": "ecb26032",
   "metadata": {},
   "outputs": [],
   "source": [
    "def train(model, train_loader, optimizer):\n",
    "    model.train() # train mode\n",
    "    \n",
    "    for batch_idx, (data, target) in enumerate(train_loader):\n",
    "        # 학습 데이터를 DEVICE의 메모리로 보냄\n",
    "        data, target = data.to(DEVICE), target.to(DEVICE)\n",
    "        \n",
    "        optimizer.zero_grad()\n",
    "        \n",
    "        output = model(data)\n",
    "        \n",
    "        loss = F.cross_entropy(output, target) # batch size인 64개 loss의 평균값이 return된다.\n",
    "        loss.backward()\n",
    "        \n",
    "        optimizer.step()"
   ]
  },
  {
   "cell_type": "markdown",
   "id": "0dbdfc03",
   "metadata": {},
   "source": [
    "#### 모델 성능 평가\n",
    "\n",
    "- 일반화 성능  \n",
    "    훈련 데이터 뿐 아니라 모든 데이터에 대해 적용 가능해야 한다.\n",
    "    \n",
    "매 epoch가 끝날 때마다 모델을 평가하는 함수를 만들어 보자."
   ]
  },
  {
   "cell_type": "code",
   "execution_count": null,
   "id": "21c243bf",
   "metadata": {},
   "outputs": [],
   "source": []
  },
  {
   "cell_type": "code",
   "execution_count": null,
   "id": "1316465f",
   "metadata": {},
   "outputs": [],
   "source": []
  },
  {
   "cell_type": "code",
   "execution_count": null,
   "id": "ebf2d9da",
   "metadata": {},
   "outputs": [],
   "source": []
  },
  {
   "cell_type": "code",
   "execution_count": null,
   "id": "30d9ab55",
   "metadata": {},
   "outputs": [],
   "source": []
  }
 ],
 "metadata": {
  "kernelspec": {
   "display_name": "Python 3 (ipykernel)",
   "language": "python",
   "name": "python3"
  },
  "language_info": {
   "codemirror_mode": {
    "name": "ipython",
    "version": 3
   },
   "file_extension": ".py",
   "mimetype": "text/x-python",
   "name": "python",
   "nbconvert_exporter": "python",
   "pygments_lexer": "ipython3",
   "version": "3.7.16"
  }
 },
 "nbformat": 4,
 "nbformat_minor": 5
}
