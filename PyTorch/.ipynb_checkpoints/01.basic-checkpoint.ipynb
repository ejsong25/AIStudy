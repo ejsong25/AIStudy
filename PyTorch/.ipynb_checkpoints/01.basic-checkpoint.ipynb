{
 "cells": [
  {
   "cell_type": "markdown",
   "id": "b6c74d18-b0cb-4950-a696-c2d67a41c192",
   "metadata": {},
   "source": [
    "# PyTorch 시작하기\n",
    "\n",
    "> Tensor\n",
    "> - basic\n",
    "> - operation"
   ]
  },
  {
   "cell_type": "markdown",
   "id": "a4484dfa",
   "metadata": {},
   "source": [
    "### Basic\n",
    "#### Tensor : vector / matrix"
   ]
  },
  {
   "cell_type": "code",
   "execution_count": 1,
   "id": "de8b4a9c-5578-438e-a369-c8d08150a8f5",
   "metadata": {},
   "outputs": [],
   "source": [
    "import torch"
   ]
  },
  {
   "cell_type": "code",
   "execution_count": 2,
   "id": "5c2bc2f9-20b6-4e4e-ba0a-e77332a1f154",
   "metadata": {},
   "outputs": [
    {
     "name": "stdout",
     "output_type": "stream",
     "text": [
      "tensor([[1, 2, 3],\n",
      "        [4, 5, 6],\n",
      "        [7, 8, 9]])\n"
     ]
    }
   ],
   "source": [
    "x = torch.tensor([[1, 2, 3], [4, 5, 6], [7, 8, 9]])\n",
    "print(x)"
   ]
  },
  {
   "cell_type": "code",
   "execution_count": 3,
   "id": "1cf941b4-091b-4b17-9774-2cefbb46023c",
   "metadata": {},
   "outputs": [
    {
     "name": "stdout",
     "output_type": "stream",
     "text": [
      "Size:  torch.Size([3, 3])\n",
      "Shape:  torch.Size([3, 3])\n",
      "rank(차원):  2\n"
     ]
    }
   ],
   "source": [
    "print(\"Size: \", x.size())\n",
    "print(\"Shape: \", x.shape)\n",
    "print(\"rank(차원): \", x.ndimension())"
   ]
  },
  {
   "cell_type": "markdown",
   "id": "32178278",
   "metadata": {},
   "source": [
    "#### unsqueeze, squeeze, view\n",
    "- tensor rank, shape 바꾸기\n",
    "- 원소 개수는 변하지 않는다."
   ]
  },
  {
   "cell_type": "code",
   "execution_count": 4,
   "id": "9489e0e6",
   "metadata": {},
   "outputs": [
    {
     "name": "stdout",
     "output_type": "stream",
     "text": [
      "tensor([[[1, 2, 3],\n",
      "         [4, 5, 6],\n",
      "         [7, 8, 9]]])\n",
      "Size:  torch.Size([1, 3, 3])\n",
      "Shape:  torch.Size([1, 3, 3])\n",
      "rank(차원):  3\n"
     ]
    }
   ],
   "source": [
    "# unsqueeze - rank 늘리기\n",
    "x = torch.unsqueeze(x, 0)\n",
    "print(x)\n",
    "print(\"Size: \", x.size())\n",
    "print(\"Shape: \", x.shape)\n",
    "print(\"rank(차원): \", x.ndimension())"
   ]
  },
  {
   "cell_type": "markdown",
   "id": "2a1341c2",
   "metadata": {},
   "source": [
    "unsqueeze : tensor x 의 0번째 차원이 1 증가해 shape이 [1, 3, 3]으로 늘었다"
   ]
  },
  {
   "cell_type": "code",
   "execution_count": 5,
   "id": "581319b9",
   "metadata": {},
   "outputs": [
    {
     "name": "stdout",
     "output_type": "stream",
     "text": [
      "tensor([[1, 2, 3],\n",
      "        [4, 5, 6],\n",
      "        [7, 8, 9]])\n",
      "Size:  torch.Size([3, 3])\n",
      "Shape:  torch.Size([3, 3])\n",
      "rank(차원):  2\n"
     ]
    }
   ],
   "source": [
    "# squeeze - rank 줄이기\n",
    "x = torch.squeeze(x)\n",
    "print(x)\n",
    "print(\"Size: \", x.size())\n",
    "print(\"Shape: \", x.shape)\n",
    "print(\"rank(차원): \", x.ndimension())"
   ]
  },
  {
   "cell_type": "markdown",
   "id": "4215f2f3",
   "metadata": {},
   "source": [
    "squeeze : 1인 rank를 삭제한다."
   ]
  },
  {
   "cell_type": "code",
   "execution_count": 6,
   "id": "ec33f41d",
   "metadata": {},
   "outputs": [
    {
     "name": "stdout",
     "output_type": "stream",
     "text": [
      "tensor([1, 2, 3, 4, 5, 6, 7, 8, 9])\n",
      "Size:  torch.Size([9])\n",
      "Shape:  torch.Size([9])\n",
      "rank(차원):  1\n"
     ]
    }
   ],
   "source": [
    "# view - 직접 tensor shape 지정\n",
    "x = x.view(9)\n",
    "print(x)\n",
    "print(\"Size: \", x.size())\n",
    "print(\"Shape: \", x.shape)\n",
    "print(\"rank(차원): \", x.ndimension())"
   ]
  },
  {
   "cell_type": "code",
   "execution_count": 7,
   "id": "4da9c9ee",
   "metadata": {},
   "outputs": [
    {
     "name": "stdout",
     "output_type": "stream",
     "text": [
      "shape '[2, 4]' is invalid for input of size 9\n"
     ]
    }
   ],
   "source": [
    "try:\n",
    "    x = x.view(2, 4)\n",
    "except Exception as e:\n",
    "    print(e)"
   ]
  },
  {
   "cell_type": "markdown",
   "id": "380ef37a",
   "metadata": {},
   "source": [
    "원소 개수가 9개 이므로 원소가 8인 tensor로 변환 불가하다."
   ]
  },
  {
   "cell_type": "markdown",
   "id": "f841c0be",
   "metadata": {},
   "source": [
    "### Operation\n",
    "- 행렬곱 : torch.mm()  \n",
    "⚠️ A의 열 수와 B의 행 수가 일치해야 한다."
   ]
  },
  {
   "cell_type": "code",
   "execution_count": 8,
   "id": "9a1eb07c",
   "metadata": {},
   "outputs": [
    {
     "name": "stdout",
     "output_type": "stream",
     "text": [
      "torch.Size([5, 3])\n",
      "torch.Size([3, 2])\n"
     ]
    }
   ],
   "source": [
    "w = torch.randn(5, 3, dtype=torch.float)\n",
    "z = torch.tensor([[1.0, 2.0], [3.0, 4.0], [5.0, 6.0]])\n",
    "\n",
    "print(w.size())\n",
    "print(z.size())"
   ]
  },
  {
   "cell_type": "code",
   "execution_count": 9,
   "id": "e7329f68",
   "metadata": {},
   "outputs": [
    {
     "name": "stdout",
     "output_type": "stream",
     "text": [
      "tensor([[-0.5548,  0.8682, -1.6900],\n",
      "        [-0.3039,  0.0220,  1.7964],\n",
      "        [-0.5106, -0.8202,  0.4953],\n",
      "        [ 0.3295, -1.5379,  0.5270],\n",
      "        [-0.4867, -1.1992,  0.2386]])\n",
      "tensor([[1., 2.],\n",
      "        [3., 4.],\n",
      "        [5., 6.]])\n"
     ]
    }
   ],
   "source": [
    "print(w)\n",
    "print(z)"
   ]
  },
  {
   "cell_type": "code",
   "execution_count": 10,
   "id": "8c0e961a",
   "metadata": {},
   "outputs": [
    {
     "name": "stdout",
     "output_type": "stream",
     "text": [
      "torch.Size([5, 2])\n",
      "tensor([[-1.4596,  0.1051],\n",
      "        [ 1.3996,  1.5382],\n",
      "        [ 0.1467,  0.3486],\n",
      "        [ 0.8574,  0.8656],\n",
      "        [ 0.0202,  0.2140]])\n"
     ]
    }
   ],
   "source": [
    "b = torch.randn(5, 2, dtype=torch.float)\n",
    "print(b.size())\n",
    "print(b)"
   ]
  },
  {
   "cell_type": "code",
   "execution_count": 11,
   "id": "0ec132f3",
   "metadata": {},
   "outputs": [
    {
     "name": "stdout",
     "output_type": "stream",
     "text": [
      "tensor([[-6.4001, -7.7767],\n",
      "        [ 8.7445, 10.2591],\n",
      "        [-0.4948, -1.3304],\n",
      "        [-1.6492, -2.3307],\n",
      "        [-2.8912, -4.3384]])\n",
      "torch.Size([5, 2])\n"
     ]
    }
   ],
   "source": [
    "wz = torch.mm(w, z)\n",
    "print(wz)\n",
    "print(wz.size())"
   ]
  },
  {
   "cell_type": "code",
   "execution_count": 12,
   "id": "b6de8705",
   "metadata": {},
   "outputs": [
    {
     "name": "stdout",
     "output_type": "stream",
     "text": [
      "torch.Size([5, 2])\n",
      "tensor([[-7.8597, -7.6716],\n",
      "        [10.1440, 11.7973],\n",
      "        [-0.3481, -0.9818],\n",
      "        [-0.7918, -1.4650],\n",
      "        [-2.8710, -4.1245]])\n"
     ]
    }
   ],
   "source": [
    "result = wz + b\n",
    "print(result.size())\n",
    "print(result)"
   ]
  },
  {
   "cell_type": "markdown",
   "id": "14d88dd7",
   "metadata": {},
   "source": [
    "### Autograd\n",
    "자동 기울기 : 기울기를 자동으로 계산한다.\n",
    "\n",
    "> - 경사하강법  \n",
    "> 오차를 수학함수로 표현하여 미분한 기울기 값을 통해 오차를 최소화하는 알고리즘이다.  \n",
    "    >   - 오차 : 실제값 - 예측값"
   ]
  },
  {
   "cell_type": "code",
   "execution_count": 14,
   "id": "971562fe",
   "metadata": {},
   "outputs": [],
   "source": [
    "# 스칼라 tensor\n",
    "x = torch.tensor(1.0, requires_grad = True) # 미분값 저장"
   ]
  },
  {
   "cell_type": "markdown",
   "id": "962f53d9",
   "metadata": {},
   "source": [
    "required_grad : "
   ]
  },
  {
   "cell_type": "code",
   "execution_count": null,
   "id": "0886139f",
   "metadata": {},
   "outputs": [],
   "source": []
  },
  {
   "cell_type": "code",
   "execution_count": null,
   "id": "4cc079f9",
   "metadata": {},
   "outputs": [],
   "source": []
  },
  {
   "cell_type": "code",
   "execution_count": null,
   "id": "6529d7c9",
   "metadata": {},
   "outputs": [],
   "source": []
  }
 ],
 "metadata": {
  "kernelspec": {
   "display_name": "Python 3 (ipykernel)",
   "language": "python",
   "name": "python3"
  },
  "language_info": {
   "codemirror_mode": {
    "name": "ipython",
    "version": 3
   },
   "file_extension": ".py",
   "mimetype": "text/x-python",
   "name": "python",
   "nbconvert_exporter": "python",
   "pygments_lexer": "ipython3",
   "version": "3.7.16"
  }
 },
 "nbformat": 4,
 "nbformat_minor": 5
}
